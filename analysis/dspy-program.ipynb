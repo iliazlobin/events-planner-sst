{
 "cells": [
  {
   "cell_type": "markdown",
   "metadata": {},
   "source": [
    "## DSPy program: events ranking"
   ]
  },
  {
   "cell_type": "code",
   "execution_count": 1,
   "metadata": {
    "vscode": {
     "languageId": "shellscript"
    }
   },
   "outputs": [],
   "source": [
    "%load_ext autoreload\n",
    "%load_ext dotenv\n",
    "%dotenv -o\n",
    "\n",
    "import os\n",
    "\n",
    "# openai_api_key = os.getenv(\"OPENAI_API_KEY\")\n",
    "# print(f\"OPENAI_API_KEY: {openai_api_key}\")"
   ]
  },
  {
   "cell_type": "code",
   "execution_count": 2,
   "metadata": {},
   "outputs": [],
   "source": [
    "%%capture\n",
    "%pip install langchain langchain_community\n",
    "%pip install faiss-gpu faiss-cpu\n",
    "%pip install langchain-cohere\n",
    "%pip install dspy-ai"
   ]
  },
  {
   "cell_type": "code",
   "execution_count": 1,
   "metadata": {},
   "outputs": [
    {
     "name": "stdout",
     "output_type": "stream",
     "text": [
      "/home/izlobin/wd/events-planner-sst\n"
     ]
    }
   ],
   "source": [
    "import os\n",
    "\n",
    "current_directory = os.getcwd()\n",
    "\n",
    "workspace_directory = os.path.abspath(os.path.join(current_directory, \"..\"))\n",
    "print(workspace_directory)"
   ]
  },
  {
   "cell_type": "code",
   "execution_count": 4,
   "metadata": {},
   "outputs": [
    {
     "name": "stdout",
     "output_type": "stream",
     "text": [
      "|    | url                                                                                                   | dateStart                | title                                                                                                        | hosts                                                                                       | group                                                   | address                                                | guests                                               |   attendees | tags                       | venue                     |   online | eventSeriesDates                                                                                                                                                                                                                                                                         |\n",
      "|---:|:------------------------------------------------------------------------------------------------------|:-------------------------|:-------------------------------------------------------------------------------------------------------------|:--------------------------------------------------------------------------------------------|:--------------------------------------------------------|:-------------------------------------------------------|:-----------------------------------------------------|------------:|:---------------------------|:--------------------------|---------:|:-----------------------------------------------------------------------------------------------------------------------------------------------------------------------------------------------------------------------------------------------------------------------------------------|\n",
      "|  0 | https://lu.ma/mw005iqm                                                                                | 2025-01-23T12:30:00.000Z | Pitch and Run 730am Thursday Early Bird                                                                      | ['Kevin Weatherman', 'Chaitenya Razdan']                                                    | Pitch and Run                                           | Le Pain Quotidien, New York, New York                  | ['Lus Kairos', 'Josh']                               |         258 | nan                        | nan                       |      nan | nan                                                                                                                                                                                                                                                                                      |\n",
      "|  1 | https://lu.ma/8vxdejas                                                                                | 2025-01-28T12:30:00.000Z | Pitch & Run - Prospect Park                                                                                  | ['Kevin Weatherman', 'Shahn Andersen', 'Jay Sehgal', \"Charlie O'Donnell\", 'Jay Sehgal']     | Pitch and Run                                           | Grand Army Plaza Greenmarket, Kings County, New York   | ['Rafaela Gadelha', 'AI Founders Connect']           |         197 | nan                        | nan                       |      nan | nan                                                                                                                                                                                                                                                                                      |\n",
      "|  2 | https://lu.ma/founderunwindjan                                                                        | 2025-01-27T02:00:00.000Z | january founder's sauna club (hosted by andrew yeung x rho)                                                  | ['Andrew Yeung', 'Justin Wolz', 'Othership']                                                | Andrew's Tech Events                                    | Othership Flatiron, New York, New York                 | ['Jaiya Gill', 'Ami Yoshimura']                      |         104 | nan                        | nan                       |      nan | nan                                                                                                                                                                                                                                                                                      |\n",
      "|  3 | https://lu.ma/fcqnojea                                                                                | 2025-01-25T17:00:00.000Z | Frozen 5K                                                                                                    | ['Victor Pontis', 'Marissa Montgomery', 'Ben Frank']                                        | Friendly 5Ks                                            | allée of Kwanzan cherry trees, New York, New York      | ['weitao and Omede firouz']                          |           1 | nan                        | nan                       |      nan | nan                                                                                                                                                                                                                                                                                      |\n",
      "|  4 | https://lu.ma/li70qmdn                                                                                | 2025-01-23T23:30:00.000Z | January Finance Happy Hour                                                                                   | ['Fiona Tran']                                                                              |                                                         | New York, New York                                     | ['Niko LeMieux', 'Christopher Truong']               |          86 | nan                        | nan                       |      nan | nan                                                                                                                                                                                                                                                                                      |\n",
      "|  5 | https://lu.ma/vrqiepu2                                                                                | 2025-01-24T13:55:00.000Z | Pitch and Run Friday - The Original PNR                                                                      | ['Kevin Weatherman']                                                                        | Pitch and Run                                           | Bluestone Lane Chelsea Piers Café, New York, New York  | ['Lus Kairos', 'Alan Lytz']                          |         107 | nan                        | nan                       |      nan | nan                                                                                                                                                                                                                                                                                      |\n",
      "|  6 | https://lu.ma/9mc2psu3                                                                                | 2025-01-28T22:00:00.000Z | NachoTuesday: SaaS & AI Founder + Investor Happy Hour                                                        | ['Andy Karuza', 'Charlie Stephens', 'Nicole Haverick', 'Sanjay Goel', 'Christina sclafani'] |                                                         | New York, New York                                     | ['Andrea', 'Laurent']                                |         322 | nan                        | nan                       |      nan | nan                                                                                                                                                                                                                                                                                      |\n",
      "|  7 | https://lu.ma/o0h2xzf4                                                                                | 2025-01-27T23:30:00.000Z | NYC B2B: Pre-Seed + Seed Founders & Investors Meetup                                                         | ['Manan Modi']                                                                              | NYC B2B                                                 | New York, New York                                     | ['Nate Poon', 'Christopher Truong']                  |         138 | nan                        | nan                       |      nan | nan                                                                                                                                                                                                                                                                                      |\n",
      "|  8 | https://lu.ma/0odxlgwd                                                                                | 2025-01-23T23:30:00.000Z | Making In America: Calling All Immigrant Founders & Creators | Visas, Skilled Immigration & Entrepreneurship | ['Sagnik Basu', 'Ankur Nagpal']                                                             | Making In America                                       | New York, New York                                     | ['Olga', 'Pedro Mateus']                             |         230 | nan                        | nan                       |      nan | nan                                                                                                                                                                                                                                                                                      |\n",
      "|  9 | https://lu.ma/wsf4r70w                                                                                | 2025-01-25T14:00:00.000Z | Founders Running Club :: New York                                                                            | ['Founders Running Club']                                                                   | FRC :: North America                                    | Abingdon Square, New York, New York                    | ['Cap | SuperteamUK', 'Rafaela Gadelha']             |         307 | nan                        | nan                       |      nan | nan                                                                                                                                                                                                                                                                                      |\n",
      "| 10 | https://lu.ma/n7pmiw48                                                                                | 2025-01-23T14:20:00.000Z | Exceptional Yoga & Breathwork                                                                                | ['Exceptional Capital']                                                                     | Exceptional Events                                      | New York, New York                                     | ['Maria Iliakova', 'Julia Kolodkina']                |          27 | nan                        | nan                       |      nan | nan                                                                                                                                                                                                                                                                                      |\n",
      "| 11 | https://lu.ma/h1hj05sg                                                                                | 2025-01-29T12:30:00.000Z | Pitch & Run - Williamsburg                                                                                   | ['Kevin Weatherman', 'Shahn Andersen', 'Amaka Uchegbu', 'Darlin']                           | Pitch and Run                                           | Honeybird Coffee, Kings County, New York               | ['Niko Moutopoulos', 'Paula Baez']                   |         298 | nan                        | nan                       |      nan | nan                                                                                                                                                                                                                                                                                      |\n",
      "| 12 | https://lu.ma/joo0gbrn                                                                                | 2025-01-23T23:30:00.000Z | Rethinking Hardware in the AI Era                                                                            | ['Vishal', 'Vik Kumar', 'Alice Camera', 'Betaworks', 'Nicole Ripka', 'Mina Fahmi']          |                                                         | Betaworks, New York, New York                          | ['Mili Raina', 'Dustin Freeman']                     |         320 | nan                        | nan                       |      nan | nan                                                                                                                                                                                                                                                                                      |\n",
      "| 13 | https://www.meetup.com/startup-grind-nyc/events/305242478/                                            | 2025-01-23T22:00:00.000Z | Pitches and Pints: Startup Grind Happy Hour Showcase - January                                               | ['Startup Grind . and Joshua N.']                                                           | Startup Grind NYC                                       | 106 West 32nd Street · New York, NY                    | ['Startup Grind', 'umed', 'Joshua Ness']             |          33 | ['Events in New York, NY'] | The Yard: Herald Square   |        0 | []                                                                                                                                                                                                                                                                                       |\n",
      "| 14 | https://www.meetup.com/new-york-conversations/events/305410606/                                       | 2025-01-24T00:00:00.000Z | Discussion: Empathy vs. Self-Preservation                                                                    | ['Marek']                                                                                   | New York Interesting Conversations                      | 875 3rd Avenue · New York, NY                          | ['Marek', 'John Orozco', 'Rita']                     |          40 | ['Events in New York, NY'] | 875 3rd Ave]              |        0 | ['2025-01-24T00:00:00.000Z', '2025-02-07T00:00:00.000Z', '2025-02-21T00:00:00.000Z']                                                                                                                                                                                                     |\n",
      "| 15 | https://www.meetup.com/backgammon-new-york-city-bgnyc/events/305399961/                               | 2025-01-24T00:00:00.000Z | Thursday  Cavendish Bridge & Backgammon Club                                                                 | ['John B.']                                                                                 | Backgammon New York City - BGNYC                        | 110 E 55th St 12 floor · New York, NY                  | ['John B', 'Amanda bishara', 'Gregory Marchese']     |           9 | ['Events in New York, NY'] | 110 E 55th St 12 floor    |        0 | []                                                                                                                                                                                                                                                                                       |\n",
      "| 16 | https://www.meetup.com/fabulous-females-over-50-seekingfemalefriendsforevents/events/305518949/       | 2025-01-23T23:30:00.000Z | Dinner at Paul & Jimmy’s Italian Ristorante/cash dinner                                                      | ['Silverstein B.']                                                                          | Fabulous females seeking female friends over 50         | 123 East 18th Street · Manhattan, NY                   | ['Silverstein Barbara', 'Denise', 'Judy Levine']     |          10 | ['Events in New York, NY'] | Paul & Jimmy's Ristorante |        0 | []                                                                                                                                                                                                                                                                                       |\n",
      "| 17 | https://www.meetup.com/conversation-francaise-a-brooklyn/events/305480885/                            | 2025-01-24T23:30:00.000Z | Conversation française à Brooklyn                                                                            | ['Arthur']                                                                                  | Conversation française à Brooklyn (French Conversation) | 545 President St · Brooklyn, NY                        | ['Arthur', 'Ginou', 'Heidi']                         |          44 | ['Events in Brooklyn, NY'] | Finback Brooklyn          |        0 | []                                                                                                                                                                                                                                                                                       |\n",
      "| 18 | https://www.meetup.com/us-tech-network/events/305683349/                                              | 2025-01-25T00:00:00.000Z | Networking for Tech Startups/Founders/Investors/Developers - NYC                                             | ['John R.']                                                                                 | US Tech Network                                         | 132 W 27th St · New York, NY                           | []                                                   |           0 | ['Events in New York, NY'] | The Wilson NYC            |        0 | []                                                                                                                                                                                                                                                                                       |\n",
      "| 19 | https://www.meetup.com/ux-support-group/events/305394957/                                             | 2025-01-24T18:00:00.000Z | Virtual Lunch                                                                                                | ['danny and Megan']                                                                         | UX Support Group                                        |                                                        | []                                                   |           0 | ['Events in New York, NY'] |                           |        0 | ['2025-01-24T18:00:00.000Z', '2025-01-31T18:00:00.000Z', '2025-02-07T18:00:00.000Z', '2025-02-14T18:00:00.000Z', '2025-02-21T18:00:00.000Z', '2025-02-28T18:00:00.000Z', '2025-03-07T18:00:00.000Z', '2025-03-14T17:00:00.000Z', '2025-03-21T17:00:00.000Z', '2025-03-28T17:00:00.000Z'] |\n",
      "| 20 | https://www.meetup.com/shutupandwritenyc/events/305409078/                                            | 2025-01-23T23:00:00.000Z | Shut Up & Write!® [Brooklyn, NY/Brooklyn Heights Library]                                                    | ['Anna H.']                                                                                 | Shut Up & Write!® NYC                                   | 286 Cadman Plaza · Brooklyn, ny                        | ['Anna Harper', 'Dan', 'Errol']                      |           3 | ['Events in New York, NY'] | Brooklyn Heights Library  |        0 | ['2025-01-23T23:00:00.000Z', '2025-01-30T23:00:00.000Z', '2025-02-06T23:00:00.000Z']                                                                                                                                                                                                     |\n",
      "| 21 | https://www.meetup.com/lets-go-social-club-nyc/events/305008405/                                      | 2025-01-23T23:00:00.000Z | Let's Go to a Cocktail Party!                                                                                | ['John F. and 3 others']                                                                    | Let's Go Social  40+ - NYC  (over 2,000 members)        | 420 Park Avenue South · New York, NY                   | ['John Felter', 'Yvonne Song', 'Joy']                |          33 | ['Events in New York, NY'] | Royalton Park Avenue      |        0 | []                                                                                                                                                                                                                                                                                       |\n",
      "| 22 | https://www.meetup.com/new-york-city-creative-writing-meetup-group/events/304819159/                  | 2025-01-24T00:00:00.000Z | St Marks Place Creative Writing Meetup                                                                       | ['Dan S.']                                                                                  | New York City Creative Writing Club                     | 8 St Marks Pl · New York, NY                           | ['Dan Scofield', 'Patty', 'Rosa']                    |          13 | ['Events in New York, NY'] | 8 St Marks Pl             |        0 | ['2025-01-24T00:00:00.000Z', '2025-01-31T00:00:00.000Z', '2025-02-07T00:00:00.000Z', '2025-02-14T00:00:00.000Z', '2025-02-21T00:00:00.000Z', '2025-02-28T00:00:00.000Z', '2025-03-07T00:00:00.000Z', '2025-03-13T23:00:00.000Z', '2025-03-20T23:00:00.000Z', '2025-03-27T23:00:00.000Z'] |\n",
      "| 23 | https://www.meetup.com/brooklyn-based-board-gaming/events/305409053/                                  | 2025-01-23T23:00:00.000Z | Thursday Board Games                                                                                         | ['Pascal A.']                                                                               | Brooklyn-Based Board Gaming                             | 572 Atlantic Ave · Brooklyn, NY                        | ['Pascal A.', 'Ali Tavakoli', 'Dev']                 |          19 | ['Events in Brooklyn, NY'] | Squarrel Cafe             |        0 | ['2025-01-23T23:00:00.000Z', '2025-01-30T23:00:00.000Z', '2025-02-06T23:00:00.000Z', '2025-02-13T23:00:00.000Z', '2025-02-20T23:00:00.000Z', '2025-02-27T23:00:00.000Z', '2025-03-06T23:00:00.000Z', '2025-03-13T22:00:00.000Z', '2025-03-20T22:00:00.000Z', '2025-03-27T22:00:00.000Z'] |\n",
      "| 24 | https://www.meetup.com/brooklyn-experimental-electronic-music-meetup/events/305289027/                | 2025-01-24T00:00:00.000Z | Wonderville January Artist Showcase                                                                          | ['Tristan K.']                                                                              | The Brooklyn Experimental Electronic Music Group        | 1186 Broadway · Brooklyn, NY                           | ['Tristan Kneschke', 'Eric S.', 'Yan Michalevsky']   |          32 | ['Events in Brooklyn, NY'] | Wonderville               |        0 | []                                                                                                                                                                                                                                                                                       |\n",
      "| 25 | https://www.meetup.com/meet-people-social-united-states-international-party-culture/events/305427065/ | 2025-01-24T22:30:00.000Z | New York Language Exchange | Make Friends, Learn Languages & Culture                                         | ['Ati']                                                                                     | Meet People Social 🇺🇸 International Party Culture       | The Irish American Pub · New York, NY                  | ['Ati', 'Ploy', 'Krystel']                           |          16 | ['Events in New York, NY'] | The Irish American Pub    |        0 | ['2025-01-24T22:30:00.000Z', '2025-01-31T22:30:00.000Z', '2025-02-07T22:30:00.000Z', '2025-02-14T22:30:00.000Z', '2025-02-21T22:30:00.000Z', '2025-02-28T22:30:00.000Z', '2025-03-07T22:30:00.000Z', '2025-03-14T21:30:00.000Z', '2025-03-21T21:30:00.000Z', '2025-03-28T21:30:00.000Z'] |\n",
      "| 26 | https://www.meetup.com/uptown-nyc-board-gamers/events/305156408/                                      | 2025-01-24T22:30:00.000Z | Blood on the Clocktower                                                                                      | ['Morty and 2 others']                                                                      | Uptown NYC Board Gamers                                 | Bryant Park, 42nd Street and 6th avenue · New York, NY | ['Kohava Mendelsohn', 'Morty', 'Tina Y.']            |          30 | ['Events in New York, NY'] | Bryant Park               |        0 | ['2025-01-24T22:30:00.000Z', '2025-01-31T22:30:00.000Z', '2025-02-07T22:30:00.000Z', '2025-02-14T22:30:00.000Z', '2025-02-21T22:30:00.000Z', '2025-02-28T22:30:00.000Z', '2025-03-07T22:30:00.000Z', '2025-03-14T21:30:00.000Z', '2025-03-21T21:30:00.000Z', '2025-03-28T21:30:00.000Z'] |\n",
      "| 27 | https://www.meetup.com/tech-gather-nyc/events/305535155/                                              | 2025-01-24T00:00:00.000Z | Women In Tech Gather Mixer                                                                                   | ['Diana P. and Amii']                                                                       | Tech Gather NYC                                         | 26 Ann St · New York , NY                              | ['Diana Peterson', 'Sophia Lu', 'Olesya Dombrovska'] |         133 | ['Events in New York, NY'] | Moxy Downtown             |        0 | []                                                                                                                                                                                                                                                                                       |\n",
      "| 28 | https://www.meetup.com/ux-support-group/events/305210965/                                             | 2025-01-23T23:00:00.000Z | UX Happy Hour irl (open to all levels)                                                                       | ['danny']                                                                                   | UX Support Group                                        | 224 Avenue B Unit 14 · New York, NY                    | ['danny', 'Remi White', 'Krista Rigo']               |          19 | ['Events in New York, NY'] | Mona's                    |        0 | ['2025-01-23T23:00:00.000Z', '2025-01-30T23:00:00.000Z', '2025-02-06T23:00:00.000Z', '2025-02-13T23:00:00.000Z', '2025-02-20T23:00:00.000Z', '2025-02-27T23:00:00.000Z', '2025-03-06T23:00:00.000Z', '2025-03-13T22:00:00.000Z', '2025-03-20T22:00:00.000Z', '2025-03-27T22:00:00.000Z'] |\n",
      "| 29 | https://www.meetup.com/brooklyn-based-board-gaming/events/305427118/                                  | 2025-01-24T23:00:00.000Z | Friday Night Board Games in Brooklyn                                                                         | ['Bruno B. and 4 others']                                                                   | Brooklyn-Based Board Gaming                             | 572 Atlantic Ave · Brooklyn, NY                        | ['Bruno Baretta', 'Chaeha', 'Eileen Chan']           |           6 | ['Events in Brooklyn, NY'] | Squarrel Cafe             |        0 | ['2025-01-24T23:00:00.000Z', '2025-01-31T23:00:00.000Z', '2025-02-07T23:00:00.000Z', '2025-02-14T23:00:00.000Z', '2025-02-21T23:00:00.000Z', '2025-02-28T23:00:00.000Z', '2025-03-07T23:00:00.000Z', '2025-03-14T22:00:00.000Z', '2025-03-21T22:00:00.000Z', '2025-03-28T22:00:00.000Z'] |\n"
     ]
    }
   ],
   "source": [
    "import json\n",
    "\n",
    "import pandas as pd\n",
    "\n",
    "datasets_base_path = f\"{workspace_directory}/task/datasets\"\n",
    "datasets_paths = [\n",
    "    f\"{datasets_base_path}/local-luma\",\n",
    "    f\"{datasets_base_path}/local-meetup\",\n",
    "]\n",
    "\n",
    "df_all = None\n",
    "for dataset_path in datasets_paths:\n",
    "    for root, dirs, files in os.walk(dataset_path):\n",
    "        for file in files:\n",
    "            file_path = os.path.join(root, file)\n",
    "            with open(file_path, \"r\") as f:\n",
    "                data = json.load(f)\n",
    "                df = pd.json_normalize(data)\n",
    "                df[\"url\"] = df[\"url\"].apply(lambda x: x.split(\"?\")[0])\n",
    "\n",
    "                if \"df_all\" not in globals():\n",
    "                    df_all = df\n",
    "                else:\n",
    "                    df_all = pd.concat([df_all, df], ignore_index=True)\n",
    "\n",
    "df_preview = df_all.drop(columns=[\"description\", \"cover\", \"dateEnd\"])\n",
    "print(df_preview.head(30).to_markdown())"
   ]
  },
  {
   "cell_type": "code",
   "execution_count": 5,
   "metadata": {},
   "outputs": [
    {
     "name": "stdout",
     "output_type": "stream",
     "text": [
      "|    | url                            | title                                                                     | dateStart                |   non_commercial |   popularity |   free_admision |   drinks_provided |   venue_niceness |   quietness |   attendees | address                                              | drinks_provided_explanation                              |   eventSeriesDates |   food_provided | food_provided_explanation                                                           | free_admision_explanation                                           | group                | guests                                     | hosts                                                                                       |   no_additional_expenses | no_additional_expenses_explanation                                               | non_commercial_explanation                                          |   online | popularity_explanation                                          |   proximity | proximity_explanation                                                             | quietness_explanation                                       |   tags |   uniqueness | uniqueness_explanation                                    |   venue | venue_niceness_explanation                                                       |\n",
      "|---:|:-------------------------------|:--------------------------------------------------------------------------|:-------------------------|-----------------:|-------------:|----------------:|------------------:|-----------------:|------------:|------------:|:-----------------------------------------------------|:---------------------------------------------------------|-------------------:|----------------:|:------------------------------------------------------------------------------------|:--------------------------------------------------------------------|:---------------------|:-------------------------------------------|:--------------------------------------------------------------------------------------------|-------------------------:|:---------------------------------------------------------------------------------|:--------------------------------------------------------------------|---------:|:----------------------------------------------------------------|------------:|:----------------------------------------------------------------------------------|:------------------------------------------------------------|-------:|-------------:|:----------------------------------------------------------|--------:|:---------------------------------------------------------------------------------|\n",
      "|  0 | https://lu.ma/mw005iqm         | Pitch and Run 730am Thursday Early Bird                                   | 2025-01-23T12:30:00.000Z |              1   |          1   |             1   |               0   |              0   |         0.5 |         258 | Le Pain Quotidien, New York, New York                | No drinks are provided                                   |                nan |             0   | No food is provided                                                                 | This event is completely free to attend                             | Pitch and Run        | ['Lus Kairos', 'Josh']                     | ['Kevin Weatherman', 'Chaitenya Razdan']                                                    |                      1   | You don't have to pay for anything                                               | This event is not sponsored by any company, it is a community event |      nan | This event is very popular, ~250 people are attending           |         0.8 | The event is in Chealsey, so transportation is easy                               | The event is outdoors, so it's not very quiet               |    nan |          0.2 | Running is not so unique activity                         |     nan | The venue is outdoors                                                            |\n",
      "|  1 | https://lu.ma/8vxdejas         | Pitch & Run - Prospect Park                                               | 2025-01-28T12:30:00.000Z |              1   |          1   |             1   |               0   |              0   |         0.5 |         197 | Grand Army Plaza Greenmarket, Kings County, New York | No drinks are provided                                   |                nan |             0   | No food is provided                                                                 | This event is completely free to attend                             | Pitch and Run        | ['Rafaela Gadelha', 'AI Founders Connect'] | ['Kevin Weatherman', 'Shahn Andersen', 'Jay Sehgal', \"Charlie O'Donnell\", 'Jay Sehgal']     |                      1   | You don't have to pay for anything                                               | This event is not sponsored by any company, it is a community event |      nan | This event is quite popular, ~200 people are attending          |         0.6 | The event is in Brooklyn nearby Prospect Park a little out from Manhattan         | The event is outdoors, so it's not very quiet               |    nan |          0.2 | Running is not so unique activity                         |     nan | The venue is outdoors                                                            |\n",
      "|  2 | https://lu.ma/founderunwindjan | january founder's sauna club (hosted by andrew yeung x rho)               | 2025-01-27T02:00:00.000Z |              1   |          0.8 |             0.1 |               0   |              1   |         0.7 |         104 | Othership Flatiron, New York, New York               | No drinks are provided                                   |                nan |             0   | No food is provided                                                                 | The event is quite expensive to attend, about $60 for a class       | Andrew's Tech Events | ['Jaiya Gill', 'Ami Yoshimura']            | ['Andrew Yeung', 'Justin Wolz', 'Othership']                                                |                      0.8 | You may want to buy drinks or food                                               | This event is not sponsored by any company, it is a community event |      nan | This event is quite popular, ~100 people are attending          |         0.8 | The event is in Brooklyn nearby Prospect Park a little out from Manhattan         | The event is indoors and not many attendees, so quite quiet |    nan |          1   | Sauna club is a unique activity                           |     nan | Sauna club is a nice venue                                                       |\n",
      "|  4 | https://lu.ma/li70qmdn         | January Finance Happy Hour                                                | 2025-01-23T23:30:00.000Z |              0.7 |          0.5 |             0.4 |               0   |              0.5 |         0.7 |          86 | New York, New York                                   | No drinks are provided, cause not mentioned              |                nan |             0   | No food is provided, cause not mentioned                                            | The event is not expensive to attend, about $10 for a pass          |                      | ['Niko LeMieux', 'Christopher Truong']     | ['Fiona Tran']                                                                              |                      0.8 | You may want to buy drinks or food                                               | The host is self-promoting thier services                           |      nan | Attendance is unknown, assume moderate                          |         0.6 | The event is in Brooklyn nearby Prospect Park a little out from Manhattan         | The event is indoors and not many attendees, so quite quiet |    nan |          0.4 | Not so unique, just a bar in West Village                 |     nan | Don't know the event venue, assume moderate                                      |\n",
      "|  6 | https://lu.ma/9mc2psu3         | NachoTuesday: SaaS & AI Founder + Investor Happy Hour                     | 2025-01-28T22:00:00.000Z |              0   |          1   |             0.8 |               0.8 |              0.8 |         0.4 |         322 | New York, New York                                   | Sponsored drinks are provided by, though not an open bar |                nan |             0.6 | Appetizers are provided by the sponsors, but not full variety of meals is mentioned | RSVP approval is required                                           |                      | ['Andrea', 'Laurent']                      | ['Andy Karuza', 'Charlie Stephens', 'Nicole Haverick', 'Sanjay Goel', 'Christina sclafani'] |                      1   | Since catering is provided, you don't have to pay for anything                   | Very much commercial event, sponsored by very many companies        |      nan | Attendance is big, over 350 people are attending, which is good |         0.8 | The event is in Manhattan, plus lots of sponsors, probably close to all transport | Big attendance, so not very quiet                           |    nan |          0.8 | Quite unique given the number of sponsors and communities |     nan | Don't know the event venue, but lots of sponsors, so assume better than moderate |\n",
      "|  7 | https://lu.ma/o0h2xzf4         | NYC B2B: Pre-Seed + Seed Founders & Investors Meetup                      | 2025-01-27T23:30:00.000Z |              0.7 |          0.8 |             0.8 |               0   |              0.5 |         0.4 |         138 | New York, New York                                   | No drinks are provided, cause not mentioned              |                nan |             0   | No food is provided, cause not mentioned                                            | RSVP approval is required                                           | NYC B2B              | ['Nate Poon', 'Christopher Truong']        | ['Manan Modi']                                                                              |                      0.8 | No minimum expenses are mentioned, but you may want to buy drinks or food        | Sponsored and hosted by the same company, so not very commercial    |      nan | Quite a big attendance, over 200 people are attending           |         0.5 | Not mentioned, assume somewhere close to transport in Manhattan                   | Big attendance, so not very quiet                           |    nan |          0.5 | Don't know the event venue, assume moderate               |     nan | Not mentioned, assume moderate                                                   |\n",
      "|  8 | https://lu.ma/0odxlgwd         | Making In America: Calling All Immigrant Founders & Creators | Visas, ... | 2025-01-23T23:30:00.000Z |              0.7 |          0.9 |             0.8 |               0   |              0.5 |         0.4 |         230 | New York, New York                                   | No drinks are provided, cause not mentioned              |                nan |             0   | No food is provided, cause not mentioned                                            | RSVP approval is required                                           | Making In America    | ['Olga', 'Pedro Mateus']                   | ['Sagnik Basu', 'Ankur Nagpal']                                                             |                      1   | No minimum expenses are mentioned                                                | Sponsored and hosted by the same company, so not very commercial    |      nan | Quite a big attendance, over 230 people are attending           |         0.5 | Not mentioned, assume somewhere close to transport in Manhattan                   | Big attendance, so not very quiet                           |    nan |          0.5 | Don't know the event venue, assume moderate               |     nan | Not mentioned, assume moderate                                                   |\n",
      "| 10 | https://lu.ma/n7pmiw48         | Exceptional Yoga & Breathwork                                             | 2025-01-23T14:20:00.000Z |              0.7 |          0.6 |             0.4 |               0   |              0.6 |         0.8 |          27 | New York, New York                                   | No drinks are provided, cause not mentioned              |                nan |             0   | No food is provided, cause not mentioned                                            | RSVP approval is required, venue is limited so harder to get a pass | Exceptional Events   | ['Maria Iliakova', 'Julia Kolodkina']      | ['Exceptional Capital']                                                                     |                      0.9 | No minimum expenses are mentioned, but you might want to buy some water for yoga | Sponsored and hosted by the same company, so not very commercial    |      nan | Moderate attendance about 25 people                             |         0.5 | Not mentioned, assume somewhere close to transport in Manhattan                   | Limited attendance, so should be very quiet                 |    nan |          0.7 | Yoga activity is quite unique                             |     nan | Yoga venue should be nice, but not too much                                      |\n",
      "| 12 | https://lu.ma/joo0gbrn         | Rethinking Hardware in the AI Era                                         | 2025-01-23T23:30:00.000Z |              0.4 |          0.9 |             0.7 |               0   |              0.5 |         0.3 |         320 | Betaworks, New York, New York                        | No drinks are provided, cause not mentioned              |                nan |             0   | No food is provided, cause not mentioned                                            | RSVP approval is required                                           |                      | ['Mili Raina', 'Dustin Freeman']           | ['Vishal', 'Vik Kumar', 'Alice Camera', 'Betaworks', 'Nicole Ripka', 'Mina Fahmi']          |                      0.9 | No minimum expenses are mentioned                                                | A few sponsors are mentioned, so not very commercial                |      nan | Very popular, ~350 people signed up                             |         0.5 | Not mentioned, assume somewhere close to transport in Manhattan                   | Lots of attendees, so not very quiet                        |    nan |          0.7 | Some C level suite (CEOs) speakers, so quite unique       |     nan | We don't know the venue, assume moderate                                         |\n"
     ]
    }
   ],
   "source": [
    "url_to_labels = {\n",
    "    \"https://lu.ma/mw005iqm\": {\n",
    "        \"title\": \"Pitch and Run 730am Thursday Early Bird\",\n",
    "        \"non_commercial\": 1.0,\n",
    "        \"non_commercial_explanation\": \"This event is not sponsored by any company, it is a community event\",\n",
    "        \"popularity\": 1.0,\n",
    "        \"popularity_explanation\": \"This event is very popular, ~250 people are attending\",\n",
    "        \"free_admision\": 1.0,\n",
    "        \"free_admision_explanation\": \"This event is completely free to attend\",\n",
    "        \"no_additional_expenses\": 1.0,\n",
    "        \"no_additional_expenses_explanation\": \"You don't have to pay for anything\",\n",
    "        \"drinks_provided\": 0.0,\n",
    "        \"drinks_provided_explanation\": \"No drinks are provided\",\n",
    "        \"food_provided\": 0.0,\n",
    "        \"food_provided_explanation\": \"No food is provided\",\n",
    "        \"venue_niceness\": 0.0,\n",
    "        \"venue_niceness_explanation\": \"The venue is outdoors\",\n",
    "        \"quietness\": 0.5,\n",
    "        \"quietness_explanation\": \"The event is outdoors, so it's not very quiet\",\n",
    "        \"uniqueness\": 0.2,\n",
    "        \"uniqueness_explanation\": \"Running is not so unique activity\",\n",
    "        \"proximity\": 0.8,\n",
    "        \"proximity_explanation\": \"The event is in Chealsey, so transportation is easy\",\n",
    "    },\n",
    "    \"https://lu.ma/8vxdejas\": {\n",
    "        \"title\": \"Pitch & Run - Prospect Park\",\n",
    "        \"non_commercial\": 1.0,\n",
    "        \"non_commercial_explanation\": \"This event is not sponsored by any company, it is a community event\",\n",
    "        \"popularity\": 1.0,\n",
    "        \"popularity_explanation\": \"This event is quite popular, ~200 people are attending\",\n",
    "        \"free_admision\": 1.0,\n",
    "        \"free_admision_explanation\": \"This event is completely free to attend\",\n",
    "        \"no_additional_expenses\": 1.0,\n",
    "        \"no_additional_expenses_explanation\": \"You don't have to pay for anything\",\n",
    "        \"drinks_provided\": 0.0,\n",
    "        \"drinks_provided_explanation\": \"No drinks are provided\",\n",
    "        \"food_provided\": 0.0,\n",
    "        \"food_provided_explanation\": \"No food is provided\",\n",
    "        \"venue_niceness\": 0.0,\n",
    "        \"venue_niceness_explanation\": \"The venue is outdoors\",\n",
    "        \"quietness\": 0.5,\n",
    "        \"quietness_explanation\": \"The event is outdoors, so it's not very quiet\",\n",
    "        \"uniqueness\": 0.2,\n",
    "        \"uniqueness_explanation\": \"Running is not so unique activity\",\n",
    "        \"proximity\": 0.6,\n",
    "        \"proximity_explanation\": \"The event is in Brooklyn nearby Prospect Park a little out from Manhattan\",\n",
    "    },\n",
    "    \"https://lu.ma/founderunwindjan\": {\n",
    "        \"title\": \"january founder's sauna club (hosted by andrew yeung x rho)\",\n",
    "        \"non_commercial\": 1.0,\n",
    "        \"non_commercial_explanation\": \"This event is not sponsored by any company, it is a community event\",\n",
    "        \"popularity\": 0.8,\n",
    "        \"popularity_explanation\": \"This event is quite popular, ~100 people are attending\",\n",
    "        \"free_admision\": 0.1,\n",
    "        \"free_admision_explanation\": \"The event is quite expensive to attend, about $60 for a class\",\n",
    "        \"no_additional_expenses\": 0.8,\n",
    "        \"no_additional_expenses_explanation\": \"You may want to buy drinks or food\",\n",
    "        \"drinks_provided\": 0.0,\n",
    "        \"drinks_provided_explanation\": \"No drinks are provided\",\n",
    "        \"food_provided\": 0.0,\n",
    "        \"food_provided_explanation\": \"No food is provided\",\n",
    "        \"venue_niceness\": 1.0,\n",
    "        \"venue_niceness_explanation\": \"Sauna club is a nice venue\",\n",
    "        \"quietness\": 0.7,\n",
    "        \"quietness_explanation\": \"The event is indoors and not many attendees, so quite quiet\",\n",
    "        \"uniqueness\": 1.0,\n",
    "        \"uniqueness_explanation\": \"Sauna club is a unique activity\",\n",
    "        \"proximity\": 0.8,\n",
    "        \"proximity_explanation\": \"The event is in Brooklyn nearby Prospect Park a little out from Manhattan\",\n",
    "    },\n",
    "    \"https://lu.ma/li70qmdn\": {\n",
    "        \"title\": \"January Finance Happy Hour\",\n",
    "        \"non_commercial\": 0.7,\n",
    "        \"non_commercial_explanation\": \"The host is self-promoting thier services\",\n",
    "        \"popularity\": 0.5,\n",
    "        \"popularity_explanation\": \"Attendance is unknown, assume moderate\",\n",
    "        \"free_admision\": 0.4,\n",
    "        \"free_admision_explanation\": \"The event is not expensive to attend, about $10 for a pass\",\n",
    "        \"no_additional_expenses\": 0.8,\n",
    "        \"no_additional_expenses_explanation\": \"You may want to buy drinks or food\",\n",
    "        \"drinks_provided\": 0.0,\n",
    "        \"drinks_provided_explanation\": \"No drinks are provided, cause not mentioned\",\n",
    "        \"food_provided\": 0.0,\n",
    "        \"food_provided_explanation\": \"No food is provided, cause not mentioned\",\n",
    "        \"venue_niceness\": 0.5,\n",
    "        \"venue_niceness_explanation\": \"Don't know the event venue, assume moderate\",\n",
    "        \"quietness\": 0.7,\n",
    "        \"quietness_explanation\": \"The event is indoors and not many attendees, so quite quiet\",\n",
    "        \"uniqueness\": 0.4,\n",
    "        \"uniqueness_explanation\": \"Not so unique, just a bar in West Village\",\n",
    "        \"proximity\": 0.6,\n",
    "        \"proximity_explanation\": \"The event is in Brooklyn nearby Prospect Park a little out from Manhattan\",\n",
    "    },\n",
    "    \"https://lu.ma/9mc2psu3\": {\n",
    "        \"title\": \"NachoTuesday: SaaS & AI Founder + Investor Happy Hour\",\n",
    "        \"non_commercial\": 0.0,\n",
    "        \"non_commercial_explanation\": \"Very much commercial event, sponsored by very many companies\",\n",
    "        \"popularity\": 1.0,\n",
    "        \"popularity_explanation\": \"Attendance is big, over 350 people are attending, which is good\",\n",
    "        \"free_admision\": 0.8,\n",
    "        \"free_admision_explanation\": \"RSVP approval is required\",\n",
    "        \"no_additional_expenses\": 1.0,\n",
    "        \"no_additional_expenses_explanation\": \"Since catering is provided, you don't have to pay for anything\",\n",
    "        \"drinks_provided\": 0.8,\n",
    "        \"drinks_provided_explanation\": \"Sponsored drinks are provided by, though not an open bar\",\n",
    "        \"food_provided\": 0.6,\n",
    "        \"food_provided_explanation\": \"Appetizers are provided by the sponsors, but not full variety of meals is mentioned\",\n",
    "        \"venue_niceness\": 0.8,\n",
    "        \"venue_niceness_explanation\": \"Don't know the event venue, but lots of sponsors, so assume better than moderate\",\n",
    "        \"quietness\": 0.4,\n",
    "        \"quietness_explanation\": \"Big attendance, so not very quiet\",\n",
    "        \"uniqueness\": 0.8,\n",
    "        \"uniqueness_explanation\": \"Quite unique given the number of sponsors and communities\",\n",
    "        \"proximity\": 0.8,\n",
    "        \"proximity_explanation\": \"The event is in Manhattan, plus lots of sponsors, probably close to all transport\",\n",
    "    },\n",
    "    \"https://lu.ma/o0h2xzf4\": {\n",
    "        \"title\": \"NYC B2B: Pre-Seed + Seed Founders & Investors Meetup\",\n",
    "        \"non_commercial\": 0.7,\n",
    "        \"non_commercial_explanation\": \"Sponsored and hosted by the same company, so not very commercial\",\n",
    "        \"popularity\": 0.8,\n",
    "        \"popularity_explanation\": \"Quite a big attendance, over 200 people are attending\",\n",
    "        \"free_admision\": 0.8,\n",
    "        \"free_admision_explanation\": \"RSVP approval is required\",\n",
    "        \"no_additional_expenses\": 0.8,\n",
    "        \"no_additional_expenses_explanation\": \"No minimum expenses are mentioned, but you may want to buy drinks or food\",\n",
    "        \"drinks_provided\": 0.0,\n",
    "        \"drinks_provided_explanation\": \"No drinks are provided, cause not mentioned\",\n",
    "        \"food_provided\": 0.0,\n",
    "        \"food_provided_explanation\": \"No food is provided, cause not mentioned\",\n",
    "        \"venue_niceness\": 0.5,\n",
    "        \"venue_niceness_explanation\": \"Not mentioned, assume moderate\",\n",
    "        \"quietness\": 0.4,\n",
    "        \"quietness_explanation\": \"Big attendance, so not very quiet\",\n",
    "        \"uniqueness\": 0.5,\n",
    "        \"uniqueness_explanation\": \"Don't know the event venue, assume moderate\",\n",
    "        \"proximity\": 0.5,\n",
    "        \"proximity_explanation\": \"Not mentioned, assume somewhere close to transport in Manhattan\",\n",
    "    },\n",
    "    \"https://lu.ma/0odxlgwd\": {\n",
    "        \"title\": \"Making In America: Calling All Immigrant Founders & Creators | Visas, Skilled Immigration & Entrepreneurship\",\n",
    "        \"non_commercial\": 0.7,\n",
    "        \"non_commercial_explanation\": \"Sponsored and hosted by the same company, so not very commercial\",\n",
    "        \"popularity\": 0.9,\n",
    "        \"popularity_explanation\": \"Quite a big attendance, over 230 people are attending\",\n",
    "        \"free_admision\": 0.8,\n",
    "        \"free_admision_explanation\": \"RSVP approval is required\",\n",
    "        \"no_additional_expenses\": 1.0,\n",
    "        \"no_additional_expenses_explanation\": \"No minimum expenses are mentioned\",\n",
    "        \"drinks_provided\": 0.0,\n",
    "        \"drinks_provided_explanation\": \"No drinks are provided, cause not mentioned\",\n",
    "        \"food_provided\": 0.0,\n",
    "        \"food_provided_explanation\": \"No food is provided, cause not mentioned\",\n",
    "        \"venue_niceness\": 0.5,\n",
    "        \"venue_niceness_explanation\": \"Not mentioned, assume moderate\",\n",
    "        \"quietness\": 0.4,\n",
    "        \"quietness_explanation\": \"Big attendance, so not very quiet\",\n",
    "        \"uniqueness\": 0.5,\n",
    "        \"uniqueness_explanation\": \"Don't know the event venue, assume moderate\",\n",
    "        \"proximity\": 0.5,\n",
    "        \"proximity_explanation\": \"Not mentioned, assume somewhere close to transport in Manhattan\",\n",
    "    },\n",
    "    \"https://lu.ma/n7pmiw48\": {\n",
    "        \"title\": \"Exceptional Yoga & Breathwork\",\n",
    "        \"non_commercial\": 0.7,\n",
    "        \"non_commercial_explanation\": \"Sponsored and hosted by the same company, so not very commercial\",\n",
    "        \"popularity\": 0.6,\n",
    "        \"popularity_explanation\": \"Moderate attendance about 25 people\",\n",
    "        \"free_admision\": 0.4,\n",
    "        \"free_admision_explanation\": \"RSVP approval is required, venue is limited so harder to get a pass\",\n",
    "        \"no_additional_expenses\": 0.9,\n",
    "        \"no_additional_expenses_explanation\": \"No minimum expenses are mentioned, but you might want to buy some water for yoga\",\n",
    "        \"drinks_provided\": 0.0,\n",
    "        \"drinks_provided_explanation\": \"No drinks are provided, cause not mentioned\",\n",
    "        \"food_provided\": 0.0,\n",
    "        \"food_provided_explanation\": \"No food is provided, cause not mentioned\",\n",
    "        \"venue_niceness\": 0.6,\n",
    "        \"venue_niceness_explanation\": \"Yoga venue should be nice, but not too much\",\n",
    "        \"quietness\": 0.8,\n",
    "        \"quietness_explanation\": \"Limited attendance, so should be very quiet\",\n",
    "        \"uniqueness\": 0.7,\n",
    "        \"uniqueness_explanation\": \"Yoga activity is quite unique\",\n",
    "        \"proximity\": 0.5,\n",
    "        \"proximity_explanation\": \"Not mentioned, assume somewhere close to transport in Manhattan\",\n",
    "    },\n",
    "    \"https://lu.ma/joo0gbrn\": {\n",
    "        \"title\": \"Rethinking Hardware in the AI Era\",\n",
    "        \"non_commercial\": 0.4,\n",
    "        \"non_commercial_explanation\": \"A few sponsors are mentioned, so not very commercial\",\n",
    "        \"popularity\": 0.9,\n",
    "        \"popularity_explanation\": \"Very popular, ~350 people signed up\",\n",
    "        \"free_admision\": 0.7,\n",
    "        \"free_admision_explanation\": \"RSVP approval is required\",\n",
    "        \"no_additional_expenses\": 0.9,\n",
    "        \"no_additional_expenses_explanation\": \"No minimum expenses are mentioned\",\n",
    "        \"drinks_provided\": 0.0,\n",
    "        \"drinks_provided_explanation\": \"No drinks are provided, cause not mentioned\",\n",
    "        \"food_provided\": 0.0,\n",
    "        \"food_provided_explanation\": \"No food is provided, cause not mentioned\",\n",
    "        \"venue_niceness\": 0.5,\n",
    "        \"venue_niceness_explanation\": \"We don't know the venue, assume moderate\",\n",
    "        \"quietness\": 0.3,\n",
    "        \"quietness_explanation\": \"Lots of attendees, so not very quiet\",\n",
    "        \"uniqueness\": 0.7,\n",
    "        \"uniqueness_explanation\": \"Some C level suite (CEOs) speakers, so quite unique\",\n",
    "        \"proximity\": 0.5,\n",
    "        \"proximity_explanation\": \"Not mentioned, assume somewhere close to transport in Manhattan\",\n",
    "    },\n",
    "}\n",
    "\n",
    "\n",
    "def map_labels(row):\n",
    "    labels = url_to_labels.get(row[\"url\"], {})\n",
    "    for key, value in labels.items():\n",
    "        row[key] = value\n",
    "    return row\n",
    "\n",
    "\n",
    "df_labeled = df_all.apply(map_labels, axis=1)\n",
    "df_labeled = df_labeled.dropna(subset=[\"non_commercial\", \"popularity\", \"free_admision\", \"drinks_provided\", \"venue_niceness\", \"quietness\"])\n",
    "\n",
    "df_preview = df_labeled.drop(columns=[\"description\", \"cover\", \"dateEnd\"])\n",
    "first_columns = [\"url\", \"title\", \"dateStart\", \"non_commercial\", \"popularity\", \"free_admision\", \"drinks_provided\", \"venue_niceness\", \"quietness\", \"attendees\"]\n",
    "columns_order = first_columns + [col for col in df_preview.columns if col not in first_columns]\n",
    "df_preview = df_preview[columns_order]\n",
    "df_preview[\"title\"] = df_preview[\"title\"].apply(lambda x: x[:70] + \"...\" if len(x) > 70 else x)\n",
    "print(df_preview.head(25).to_markdown())"
   ]
  },
  {
   "cell_type": "code",
   "execution_count": 6,
   "metadata": {},
   "outputs": [
    {
     "name": "stdout",
     "output_type": "stream",
     "text": [
      "total number of examples: 9\n",
      "trainset size: 4\n",
      "[{\"url\": \"https://lu.ma/o0h2xzf4\", \"dateStart\": \"2025-01-27T23:30:00.000Z\", \"dateEnd\": \"2025-01-28T01:30:00.000Z\", \"title\": \"NYC B2B: Pre-Seed + Seed Founders & Investors Meetup\", \"description\": \"<p>\\u200b<a href=\\\"http://nycb2b.beehiiv.com\\\" target=\\\"_blank\\\" rel=\\\"nofollow noopener\\\">NYC B2B</a> is the premier community for B2B Founders, Operators, and Investors in NYC. <a href=\\\"http://nycb2b.beehiiv.com\\\" target=\\\"_blank\\\" rel=\\\"nofollow noopener\\\">NYC B2B</a> often hosts happy hour events for founders, builders, and investors based in NYC.</p><p>\\u200b<!-- -->This is an exclusive event for B2B Pre-Seed and Seed stage founders and investors. </p><p>\\u200b<!-- -->\\u200b<strong>\\u200bWant to sponsor this event? Email @ </strong><strong><a href=\\\"mailto:newyorkcityventures@gmail.com\\\" target=\\\"_blank\\\" rel=\\\"nofollow noopener\\\">newyorkcityventures@gmail.com</a></strong></p><p>\\u200b<!-- -->\\u200bThis meetup is hosted by Manan Modi. It\\u2019s a great way to meet other founders, builders, and investors. Whether you\\u2019re building a company, exploring a side project, or considering a new idea, we would love to have you here.  Manan has previously hosted events for hundreds of startup founders + operators here in NYC.</p><p>\\u200b<!-- -->\\u200b\\u200b\\u200b\\u200b\\u200b\\u200bBy signing up, you are confirming your interest in hearing about more events from Manan in the future via email! Manan also helps connect those who sign up with awesome partners.</p>\", \"hosts\": [\"Manan Modi\"], \"group\": \"NYC B2B\", \"address\": \"New York, New York\", \"guests\": [\"Nate Poon\", \"Christopher Truong\"], \"attendees\": 138, \"tags\": NaN, \"venue\": NaN, \"online\": NaN, \"eventSeriesDates\": NaN, \"non_commercial\": 0.7, \"popularity\": 0.8, \"free_admision\": 0.8, \"no_additional_expenses\": 0.8, \"drinks_provided\": 0.0, \"food_provided\": 0.0, \"venue_niceness\": 0.5, \"quietness\": 0.4, \"uniqueness\": 0.5, \"proximity\": 0.5}, {\"url\": \"https://lu.ma/0odxlgwd\", \"dateStart\": \"2025-01-23T23:30:00.000Z\", \"dateEnd\": \"2025-01-24T02:00:00.000Z\", \"title\": \"Making In America: Calling All Immigrant Founders & Creators | Visas, Skilled Immigration & Entrepreneurship\", \"description\": \"<p>\\u200b<strong>\\ud83c\\uddfa\\ud83c\\uddf8 Meet ambitious leaders and professionals who moved to America to chase dreams, build companies, and create jobs.</strong></p><div class=\\\"jsx-3587677670 lightbox-wrapper\\\"><button type=\\\"button\\\" style=\\\"display:block;margin:auto;width:1292px;max-width:100%;object-fit:cover;border-radius:var(--border-radius);overflow:hidden\\\" aria-haspopup=\\\"dialog\\\" aria-expanded=\\\"false\\\" aria-label=\\\"Full resolution image\\\" class=\\\"jsx-2091483040 button-reset\\\"><div style=\\\"cursor:zoom-in;padding-bottom:15.4%\\\" class=\\\"jsx-4068354093 img-aspect-ratio rounded\\\"><img src=\\\"https://images.lumacdn.com/cdn-cgi/image/format=auto,fit=cover,dpr=2,quality=75,width=800,height=123.21981424148606/editor-images/js/f78bd544-ff00-45e8-a892-bb8f1940c9fb\\\" alt=\\\"User Uploaded Image\\\" fetchpriority=\\\"auto\\\" loading=\\\"eager\\\" class=\\\"jsx-4068354093 \\\"></div></button></div><p>\\u200b<strong>Making In America is a community for immigrant founders and builders who aim to establish businesses, often navigating the complexities of immigration logistics.</strong></p><div class=\\\"jsx-3587677670 lightbox-wrapper\\\"><button type=\\\"button\\\" style=\\\"display:block;margin:auto;width:1080px;max-width:100%;object-fit:cover;border-radius:var(--border-radius);overflow:hidden\\\" aria-haspopup=\\\"dialog\\\" aria-expanded=\\\"false\\\" aria-label=\\\"Full resolution image\\\" class=\\\"jsx-2091483040 button-reset\\\"><div style=\\\"cursor:zoom-in;padding-bottom:125.0%\\\" class=\\\"jsx-4068354093 img-aspect-ratio rounded\\\"><img src=\\\"https://images.lumacdn.com/cdn-cgi/image/format=auto,fit=cover,dpr=2,quality=75,width=800,height=1000/editor-images/a9/eaf6977d-20ee-47fc-b664-69d93db3be5a\\\" alt=\\\"User Uploaded Image\\\" fetchpriority=\\\"auto\\\" loading=\\\"eager\\\" class=\\\"jsx-4068354093 \\\"></div></button></div><p>\\u200b<!-- -->\\u200b\\ud83c\\udf99\\ufe0f The event will start with a LIVE interview featuring:<br><br><strong><a href=\\\"https://twitter.com/ankurnagpal\\\" target=\\\"_blank\\\" rel=\\\"nofollow noopener\\\">Ankur Nagpal</a></strong>: First-generation immigrant, Ankur Nagpal, at the age of 31, sold his course platform, Teachable, for $250 million in 2020. Before launching Teachable he earned millions by developing Facebook applications.<br><br><em>During the conversation, we will be covering:</em></p><ul><li><p>\\u200b<strong>Ankur's Journey</strong>: Explore Ankur's story of moving to America and building million-dollar companies.</p></li><li><p>\\u200b<strong>Pathways for Aspiring Entrepreneurs</strong>: Discuss how students and young entrepreneurs can move to America and become successful founders.</p></li><li><p>\\u200b<strong>H1-B Visa Controversy</strong>: Address recent debates and controversies surrounding H1-B visas and skilled immigration.</p></li><li><p>\\u200b<strong>Immigration and Politics</strong>: Analyze the politics of skilled immigration and its impact on foreign-born entrepreneurs.</p></li><li><p>\\u200b<strong>Actionable Advice</strong>: Provide practical tips and guidance for foreign-born founders building their ventures in America.</p></li></ul><div class=\\\"jsx-3587677670 lightbox-wrapper\\\"><button type=\\\"button\\\" style=\\\"display:block;margin:auto;width:1292px;max-width:100%;object-fit:cover;border-radius:var(--border-radius);overflow:hidden\\\" aria-haspopup=\\\"dialog\\\" aria-expanded=\\\"false\\\" aria-label=\\\"Full resolution image\\\" class=\\\"jsx-2091483040 button-reset\\\"><div style=\\\"cursor:zoom-in;padding-bottom:15.4%\\\" class=\\\"jsx-4068354093 img-aspect-ratio rounded\\\"><img src=\\\"https://images.lumacdn.com/cdn-cgi/image/format=auto,fit=cover,dpr=2,quality=75,width=800,height=123.21981424148606/editor-images/cl/fa4c8976-70de-45a1-8cc1-e158bef45645\\\" alt=\\\"User Uploaded Image\\\" fetchpriority=\\\"auto\\\" loading=\\\"eager\\\" class=\\\"jsx-4068354093 \\\"></div></button></div><p>\\u200b<!-- -->\\u200b<strong><a href=\\\"https://www.linkedin.com/posts/sagnik-basu_the-immigrant-founder-community-in-nyc-activity-7245075319181754368-1dJy?utm_source=share&amp;utm_medium=member_desktop\\\" target=\\\"_blank\\\" rel=\\\"nofollow noopener\\\">Check out our last event with the co-founder of Lyft!</a></strong></p><p>\\u200b<!-- -->\\u200b\\u200b\\ud83c\\udf0d <em>The panel will be followed by a happy hour-style mixer where panelists, founders, and creators will network with each other. The community includes immigrant founders, and entrepreneurs building tools to support skilled immigration, lawyers, community builders, and international students.</em></p><p>\\u200b<strong>Check out our mission, past panelists, and event videos at: </strong><strong><a href=\\\"https://www.makinginamerica.org/\\\" target=\\\"_blank\\\" rel=\\\"nofollow noopener\\\">www.makinginamerica.org/</a></strong></p><div class=\\\"jsx-3587677670 lightbox-wrapper\\\"><button type=\\\"button\\\" style=\\\"display:block;margin:auto;width:1080px;max-width:100%;object-fit:cover;border-radius:var(--border-radius);overflow:hidden\\\" aria-haspopup=\\\"dialog\\\" aria-expanded=\\\"false\\\" aria-label=\\\"Full resolution image\\\" class=\\\"jsx-2091483040 button-reset\\\"><div style=\\\"cursor:zoom-in;padding-bottom:125.0%\\\" class=\\\"jsx-4068354093 img-aspect-ratio rounded\\\"><img src=\\\"https://images.lumacdn.com/cdn-cgi/image/format=auto,fit=cover,dpr=2,quality=75,width=800,height=1000/editor-images/x9/54e4be35-6e58-4066-a8a4-b3411ab5b996\\\" alt=\\\"User Uploaded Image\\\" fetchpriority=\\\"auto\\\" loading=\\\"eager\\\" class=\\\"jsx-4068354093 \\\"></div></button></div><p>\\u200b<strong><a href=\\\"https://www.instagram.com/p/C8KjDAxO0Pc/\\\" target=\\\"_blank\\\" rel=\\\"nofollow noopener\\\">Check out this video from our a16z NY Tech Week event!</a></strong><br>\\u200b<br>\\u200b<em>Who are we?</em></p><p>\\u200b<strong>Making It in America is a community for immigrant founders and builders who aim to establish businesses, often navigating the complexities of immigration logistics.&nbsp;</strong></p><p>\\u200b<strong>We are dedicated to supporting these entrepreneurs by:</strong></p><ul><li><p>\\u200b<strong>Building Networks: Connecting them with like-minded individuals, potential employers, and sponsors.</strong></p></li><li><p>\\u200b<strong>Fostering Partnerships: Helping them find co-founders to bring their visions to life.</strong></p></li><li><p>\\u200b<strong>Finding Their Groove: Assisting in their acclimation and success in the U.S. business landscape.</strong></p></li></ul><p>\\u200b<strong>Join us to meet ambitious leaders and professionals who have moved to America to pursue their dreams, start companies, and generate employment opportunities.</strong></p><div class=\\\"jsx-3587677670 lightbox-wrapper\\\"><button type=\\\"button\\\" style=\\\"display:block;margin:auto;width:1584px;max-width:100%;object-fit:cover;border-radius:var(--border-radius);overflow:hidden\\\" aria-haspopup=\\\"dialog\\\" aria-expanded=\\\"false\\\" aria-label=\\\"Full resolution image\\\" class=\\\"jsx-2091483040 button-reset\\\"><div style=\\\"cursor:zoom-in;padding-bottom:25.0%\\\" class=\\\"jsx-4068354093 img-aspect-ratio rounded\\\"><img src=\\\"https://images.lumacdn.com/cdn-cgi/image/format=auto,fit=cover,dpr=2,quality=75,width=800,height=200/editor-images/y6/0ef7bad0-6721-479e-abfc-5f5822126e90\\\" alt=\\\"User Uploaded Image\\\" fetchpriority=\\\"auto\\\" loading=\\\"eager\\\" class=\\\"jsx-4068354093 \\\"></div></button></div><p>\\u200b<!-- -->\\u200b\\u200b\\u200b\\ud83d\\udc4b <strong>This event is organized by </strong><strong><a href=\\\"https://www.instagram.com/sssagnic/\\\" target=\\\"_blank\\\" rel=\\\"nofollow noopener\\\">Sagnik Basu</a></strong><strong>, an immigrant entrepreneur currently working in news and a builder in the production space. Sagnik was born in India and sought education in the United Kingdom. He moved to the USA by himself in 2017 with $300, because he likes bigger portion sizes.</strong><br><br><strong>He believes in American dynamism and wants to support others who are building in the USA. This community represents the essence of creativity, advancement, and perseverance that propels the United States onward.</strong></p><p>\\u200b<strong>He also believes in the limitless potential for creating jobs and companies, emphasizing that legal immigration should fuel entrepreneurial growth in the USA to ensure America remains THE global leader.</strong></p><p>\\u200b<strong>Build in America. For America.</strong></p><p>\\u200b<em>\\u200b\\u200b\\u200bNeedless to say, please come as you are. You don't have to be an immigrant to register for this event. We welcome EVERYONE who believes in America, the spirit of entrepreneurship, and is ready to have a good time! \\ud83c\\udf89</em></p><p>\\u200b<!-- -->\\u200b-Sag<br><br>\\ud83d\\udcf8 <strong><em>Photography and Filming</em></strong></p><p>\\u200b<!-- -->\\u200b\\u200b\\u200b\\u200b<em>Please note that this event will be photographed and filmed. We reserve the right to use photos and videos from the event for marketing purposes. By attending the event you consent to your image being used for these purposes</em><br></p><div class=\\\"jsx-3587677670 lightbox-wrapper\\\"><button type=\\\"button\\\" style=\\\"display:block;margin:auto;width:100%;max-width:100%;object-fit:cover;border-radius:var(--border-radius);overflow:hidden\\\" aria-haspopup=\\\"dialog\\\" aria-expanded=\\\"false\\\" aria-label=\\\"Full resolution image\\\" class=\\\"jsx-2091483040 button-reset\\\"><img alt=\\\"User Uploaded Image\\\" fetchpriority=\\\"auto\\\" src=\\\"https://images.lumacdn.com/cdn-cgi/image/format=auto,fit=cover,dpr=2,quality=75,width=800,height=182.96296296296293/editor-images/p2/38e0a52d-9fac-4c47-9d8e-02bb77b768ec\\\" style=\\\"cursor:zoom-in\\\" class=\\\"jsx-2091483040 img-unknown-aspect-ratio\\\"></button></div><p>\\u200b<!-- -->\\u200b<a href=\\\"https://www.ellis.com/\\\" target=\\\"_blank\\\" rel=\\\"nofollow noopener\\\">Ellis</a> \\u200bis a high-tech, high-touch immigration law firm offering premier immigration support for startups and growing companies. Ellis' mission is to simplify immigration for one billion Americans.</p><div class=\\\"jsx-3587677670 lightbox-wrapper\\\"><button type=\\\"button\\\" style=\\\"display:block;margin:auto;width:3780px;max-width:100%;object-fit:cover;border-radius:var(--border-radius);overflow:hidden\\\" aria-haspopup=\\\"dialog\\\" aria-expanded=\\\"false\\\" aria-label=\\\"Full resolution image\\\" class=\\\"jsx-2091483040 button-reset\\\"><div style=\\\"cursor:zoom-in;padding-bottom:28.6%\\\" class=\\\"jsx-4068354093 img-aspect-ratio rounded\\\"><img src=\\\"https://images.lumacdn.com/cdn-cgi/image/format=auto,fit=cover,dpr=2,quality=75,width=800,height=228.57142857142858/editor-images/l5/b3ea2453-4e03-4603-b63f-7d9f22f7da25\\\" alt=\\\"User Uploaded Image\\\" fetchpriority=\\\"auto\\\" loading=\\\"eager\\\" class=\\\"jsx-4068354093 \\\"></div></button></div>\", \"hosts\": [\"Sagnik Basu\", \"Ankur Nagpal\"], \"group\": \"Making In America\", \"address\": \"New York, New York\", \"guests\": [\"Olga\", \"Pedro Mateus\"], \"attendees\": 230, \"tags\": NaN, \"venue\": NaN, \"online\": NaN, \"eventSeriesDates\": NaN, \"non_commercial\": 0.7, \"popularity\": 0.9, \"free_admision\": 0.8, \"no_additional_expenses\": 1.0, \"drinks_provided\": 0.0, \"food_provided\": 0.0, \"venue_niceness\": 0.5, \"quietness\": 0.4, \"uniqueness\": 0.5, \"proximity\": 0.5}, {\"url\": \"https://lu.ma/n7pmiw48\", \"dateStart\": \"2025-01-23T14:20:00.000Z\", \"dateEnd\": \"2025-01-23T15:30:00.000Z\", \"title\": \"Exceptional Yoga & Breathwork\", \"description\": \"<h1>\\u200b<!-- -->A moment for Exceptional well-being...</h1><ul><li><p>\\u200b<!-- -->\\u200b<strong>Who: </strong>Open to current founders! Also welcoming VCs aligned with supporting early-stage founders.</p></li><li><p>\\u200b<!-- -->\\u200b<strong>When:</strong> Thursday, January 23 at 9:20 AM</p></li><li><p>\\u200b<!-- -->\\u200b<strong>What:</strong> Studio Vinyasa class and meditative breathwork, all experience levels welcome. Come move and breathe with the Exceptional community. Get out of your head for 60 minutes and into your body!</p></li><li><p>\\u200b<!-- -->\\u200b<strong>Where:</strong> NYC; location convenient to Chelsea/Flatiron. All props and equipment provided.</p></li><li><p>\\u200b<!-- -->\\u200b<strong>Why:</strong> The founder journey can be tough. Founder mental health and wellbeing is paramount. Our team continues to be intentional about supporting our communities - providing some space to prioritize wellbeing and restoration in what is often a full sprint of building and leading.</p></li></ul><p>\\u200b<!-- -->\\u200b<em>Please try to arrive by 9:15 AM to ensure everyone can get comfortably situated in the space. Class to be led by an amazing instructor (E-RYT 500, Reiki Master - she's the best)!</em></p><p>\\u200b<!-- -->\\u200b<em>Attendee count not to exceed 25 people. Please be sure to cancel your registration if you are unable to attend so that we can welcome someone off the waitlist.</em></p><p>\\u200b<!-- -->\\u200b\\u200b_______________________</p><p>\\u200b<!-- -->\\u200b\\u200b<strong>About Exceptional Capital&nbsp;</strong></p><p>\\u200b<!-- -->\\u200b\\u200b\\u200b<em><a href=\\\"http://exceptionalcap.com/\\\" target=\\\"_blank\\\" rel=\\\"nofollow noopener\\\">Exceptional Capital</a></em><em> is proud to invest in the next generation of game changers in enterprise software. Exceptional Capital is&nbsp;immeasurably passionate about the founders it&nbsp;backs and supports their vision for the future of enterprise technology, investing at pre-seed and seed stages.</em></p>\", \"hosts\": [\"Exceptional Capital\"], \"group\": \"Exceptional Events\", \"address\": \"New York, New York\", \"guests\": [\"Maria Iliakova\", \"Julia Kolodkina\"], \"attendees\": 27, \"tags\": NaN, \"venue\": NaN, \"online\": NaN, \"eventSeriesDates\": NaN, \"non_commercial\": 0.7, \"popularity\": 0.6, \"free_admision\": 0.4, \"no_additional_expenses\": 0.9, \"drinks_provided\": 0.0, \"food_provided\": 0.0, \"venue_niceness\": 0.6, \"quietness\": 0.8, \"uniqueness\": 0.7, \"proximity\": 0.5}, {\"url\": \"https://lu.ma/joo0gbrn\", \"dateStart\": \"2025-01-23T23:30:00.000Z\", \"dateEnd\": \"2025-01-24T02:30:00.000Z\", \"title\": \"Rethinking Hardware in the AI Era\", \"description\": \"<p>\\u200b<!-- -->The AI revolution isn't just a software story. Join us for a pivotal discussion as we dive into the emerging landscape of AI, where hardware is no longer just an afterthought.<br><br>Hardware serves as the crucial mediator between humans and AI systems. The convergence of AI software with purpose-built hardware will redefine how we interact with technology.<br><br>We'll explore embodied AI, the edge vs. cloud debate \\u2013 revealing how both play crucial roles in AI's future, and human-computer interaction, UX and design decisions when thinking about AI and hardware.<br><br>The future belongs to those who master the powerful interplay between hardware, AI and software. Start 2025 with a fresh perspective and discover the opportunities presented by the AI hardware renaissance.</p><h2>\\u200b<strong>SPEAKERS</strong></h2><ul><li><p>\\u200b<!-- -->\\u200b<a href=\\\"https://www.linkedin.com/in/vishalkumarlondon/\\\" target=\\\"_blank\\\" rel=\\\"nofollow noopener\\\">Vishal Kumar</a> is CEO &amp; co-Founder of <a href=\\\"https://www.alice.camera/\\\" target=\\\"_blank\\\" rel=\\\"nofollow noopener\\\">Alice Camera</a>, an AI-native camera for creators. He has a background working as a data scientist at Sotheby\\u2019s, and is also a video creator with 30,000 followers and over 1 million views for his content around his niche as a Cultural Data Scientist. He previously studied the London School of Economics and at UCL.</p></li><li><p>\\u200b<!-- -->\\u200b<a href=\\\"https://www.linkedin.com/in/mina-fahmi/\\\" target=\\\"_blank\\\" rel=\\\"nofollow noopener\\\">Mina Fahmi</a> is the co-founder &amp; CEO of <a href=\\\"https://sandbar.inc/\\\" target=\\\"_blank\\\" rel=\\\"nofollow noopener\\\">Sandbar</a>, an interface company building hardware and software to bridge humans and AI. Previously, Mina worked on neural interfaces and deep learning at Meta and CTRL-labs. His work also includes brain implants (Kernel), neuroprostheses (MIT Media Lab), AR (Magic Leap), and personal LLM projects.</p></li><li><p>\\u200b<!-- -->\\u200b<a href=\\\"https://www.linkedin.com/in/d-asnaghi/\\\" target=\\\"_blank\\\" rel=\\\"nofollow noopener\\\">Davide Asnaghi</a> is the founder and CEO of <a href=\\\"https://diode.computer/\\\" target=\\\"_blank\\\" rel=\\\"nofollow noopener\\\">Diode Computers</a>, a Y Combinator backed startup focused on using AI to automate custom hardware design. Prior to founding Diode Computers, Davide served as a senior software engineer at Chromatic, developing ultra\\u2013low-power custom silicon chips and as an embedded software engineer at Apple\\u2019s Special Projects Group in autonomous robotics.</p></li><li><p>\\u200b<a href=\\\"https://www.linkedin.com/in/andrew-winget-93a43710\\\" target=\\\"_blank\\\" rel=\\\"nofollow noopener\\\">Drew Winget</a> is Head of Software at Daylight Computer, which makes a new ecosystem of personal computer hardware that aligns with human flourishing rather than attention-harvesting. Previously, Drew founded Fully Parsed, a language learning app based on knowledge graphs and generative AI, and built open source research software and standards for ulta-high-resolution images and annotations at Stanford.</p></li></ul><h2>\\u200b<!-- -->AGENDA</h2><ul><li><p>\\u200b<!-- -->\\u200b\\u200b6:15-6:45 - Arrival, mingle, grab refreshments</p></li><li><p>\\u200b<!-- -->\\u200b\\u200b6.45-8:00 - AI Hardware Panel with audience Q+A</p></li><li><p>\\u200b<!-- -->\\u200b\\u200b8:00-8:30 - Community demos - 30-60 second pitch</p></li><li><p>\\u200b<!-- -->\\u200b\\u200b8:30-10:00 - Mix + mingle + pizza</p></li></ul><h2>\\u200b<!-- -->\\u200b\\u200b<strong>Thank you to our sponsors</strong></h2><p>\\u200b<!-- -->\\u200b<a href=\\\"https://www.betaworks.com/\\\" target=\\\"_blank\\\" rel=\\\"nofollow noopener\\\">Betaworks</a> is an AI-focused, early stage VC with&nbsp;investments in more than 150 companies including, Hugging Face, Granola, The Browser Company, Stability AI, Twitter, Venmo, and more.</p><p>\\u200b<a href=\\\"https://www.alice.camera/\\\" target=\\\"_blank\\\" rel=\\\"nofollow noopener\\\">Alice Camera</a> is on a mission to make everyone a professional creator. Its AI-native Micro Four Thirds mirrorless camera has custom electronics equipped with a Qualcomm Snapdragon chip and a TPU from Google to run AI algorithms on-device to automate complex camera functionality. They are also developing active intelligence for Alice Camera, controlled by voice and an LLM, to perform tedious post-production editing tasks within the camera itself, streamlining content workflows like never before.</p>\", \"hosts\": [\"Vishal\", \"Vik Kumar\", \"Alice Camera\", \"Betaworks\", \"Nicole Ripka\", \"Mina Fahmi\"], \"group\": \"\", \"address\": \"Betaworks, New York, New York\", \"guests\": [\"Mili Raina\", \"Dustin Freeman\"], \"attendees\": 320, \"tags\": NaN, \"venue\": NaN, \"online\": NaN, \"eventSeriesDates\": NaN, \"non_commercial\": 0.4, \"popularity\": 0.9, \"free_admision\": 0.7, \"no_additional_expenses\": 0.9, \"drinks_provided\": 0.0, \"food_provided\": 0.0, \"venue_niceness\": 0.5, \"quietness\": 0.3, \"uniqueness\": 0.7, \"proximity\": 0.5}]\n",
      "tryset size: 5\n",
      "[{\"url\": \"https://www.meetup.com/shutupandwritenyc/events/305409078/\", \"dateStart\": \"2025-01-23T23:00:00.000Z\", \"dateEnd\": \"2025-01-24T00:00:00.000Z\", \"title\": \"Shut Up & Write!\\u00ae [Brooklyn, NY/Brooklyn Heights Library] \", \"description\": \"<div><picture data-testid=\\\"event-description-image\\\"><div class=\\\"mt-0 w-full lg:mt-8\\\"><img alt=\\\"Shut Up &amp; Write!\\u00ae [Brooklyn, NY/Brooklyn Heights Library] \\\" fetchpriority=\\\"high\\\" width=\\\"375\\\" height=\\\"210\\\" decoding=\\\"async\\\" data-nimg=\\\"1\\\" class=\\\"w-full\\\" srcset=\\\"https://secure.meetupstatic.com/photos/event/e/2/4/1/600_504357921.webp?w=384 1x, https://secure.meetupstatic.com/photos/event/e/2/4/1/600_504357921.webp?w=750 2x\\\" src=\\\"https://secure.meetupstatic.com/photos/event/e/2/4/1/600_504357921.webp?w=750\\\" style=\\\"color: transparent;\\\"></div></picture></div><div class=\\\"hidden lg:block xmedia\\\"><div class=\\\"rjf8xdv\\\"><div class=\\\"swiper-container swiper-container-initialized swiper-container-horizontal swiper-container-pointer-events\\\" modules=\\\"[object Object]\\\"><div class=\\\"swiper-button-prev swiper-button-disabled\\\"></div><div class=\\\"swiper-button-next swiper-button-disabled\\\"></div><div class=\\\"swiper-wrapper\\\"><div class=\\\"swiper-slide swiper-slide-active slide\\\" style=\\\"margin-right: 8px;\\\"><a class=\\\"button current\\\" data-event-label=\\\"recurring-events\\\" href=\\\"/shutupandwritenyc/events/305409078/?recId=0355f7b3-695e-4c84-8449-9d617b9c4464&amp;recSource=ml-popular-events-nearby-offline&amp;searchId=9d5f92ef-e149-4a94-9650-e0fdd298e5f5&amp;eventOrigin=find_page$inPerson#\\\">Jan 23 @ 6 PM EST</a></div><div class=\\\"swiper-slide swiper-slide-next slide\\\" style=\\\"margin-right: 8px;\\\"><a class=\\\"button active\\\" data-event-label=\\\"recurring-events\\\" href=\\\"https://www.meetup.com/shutupandwritenyc/events/305544938/?eventOrigin=find_page$inPerson\\\">Jan 30 @ 6 PM EST</a></div><div class=\\\"swiper-slide slide\\\" style=\\\"margin-right: 8px;\\\"><a class=\\\"button active\\\" data-event-label=\\\"recurring-events\\\" href=\\\"https://www.meetup.com/shutupandwritenyc/events/305555192/?eventOrigin=find_page$inPerson\\\">Feb 6 @ 6 PM EST</a></div></div></div></div></div><div id=\\\"event-details\\\" class=\\\"px-6 sm:px-4 xl:px-0 md:max-w-screen mt-5 w-full \\\"><div class=\\\"flex items-center justify-between\\\"><h2 class=\\\"text-xl font-semibold\\\">Details</h2></div><div class=\\\"break-words\\\"><p class=\\\"mb-4\\\">Join us for an hour of writing! We\\u2019ve discovered that it\\u2019s strikingly helpful to write with other writers. See if it\\u2019s true for you at 6pm on Thursday evenings.</p>\\n<p class=\\\"mb-4\\\">Be it a book, blog, script, essay, dissertation, resume, melody, poem or just plain work stuff, you are invited to write it with us. No one will see what you've written or give you unsolicited advice. Instead of just thinking about writing, come and get some real writing done.</p>\\n<p class=\\\"mb-4\\\">We meet in the Brooklyn Heights Library, located at 286 Cadman Plz W, Brooklyn, NY 11201</p>\\n<p class=\\\"mb-4\\\">SCHEDULE:<br>\\nPlease check in with your organizer upon arrival. (If late do it after.)<br>\\nQuick introductions.<br>\\n6 pm - Timer starts: write for 1 hour<br>\\n7 pm - The End: chat, take off, or keep writing</p>\\n<p class=\\\"mb-4\\\">OPTIONAL SOCIALIZING happens at 7pm. Writing is very solitary. Connecting (and sometimes even commiserating) with other writers is a cool thing.</p>\\n<p class=\\\"mb-4\\\">BEING LATE IS OKAY: just show up and get settled, then check-in with me after the session. (I\\u2019ll be the person with the Shut Up &amp; Write! sign.) If you were on time, please be willing to make room for the friendly latecomer.</p>\\n<p class=\\\"mb-4\\\">Happy writing and I look forward to seeing you at Brooklyn Heights Library!</p>\\n<p class=\\\"mb-4\\\">What Should I Bring?<br>\\nWhatever you need to be able to write!<br>\\nNote, there are a limited amount of plugs for charging in some spots, recharging availability depends on what seating is open.</p>\\n<p class=\\\"mb-4\\\">Other Important Details:<br>\\nBrooklyn Heights Library has WiFi, you must sign in to use it, like the MTA wifi.<br>\\nParking is available at SP+ Parking: 300 Cadman Plaza W, Brooklyn, NY 11201</p></div></div>\", \"hosts\": [\"Anna H.\"], \"group\": \"Shut Up & Write!\\u00ae NYC\", \"address\": \"286 Cadman Plaza \\u00b7 Brooklyn, ny\", \"guests\": [\"Anna Harper\", \"Dan\", \"Errol\"], \"attendees\": \"3\", \"tags\": [\"Events in New York, NY\"], \"venue\": \"Brooklyn Heights Library\", \"online\": false, \"eventSeriesDates\": [\"2025-01-23T23:00:00.000Z\", \"2025-01-30T23:00:00.000Z\", \"2025-02-06T23:00:00.000Z\"]}, {\"url\": \"https://www.meetup.com/lets-go-social-club-nyc/events/305008405/\", \"dateStart\": \"2025-01-23T23:00:00.000Z\", \"dateEnd\": \"2025-01-24T01:00:00.000Z\", \"title\": \"Let's Go to a Cocktail Party! \", \"description\": \"<div><picture data-testid=\\\"event-description-image\\\"><div class=\\\"mt-0 w-full lg:mt-8\\\"><img alt=\\\"Let's Go to a Cocktail Party! \\\" fetchpriority=\\\"high\\\" width=\\\"375\\\" height=\\\"210\\\" decoding=\\\"async\\\" data-nimg=\\\"1\\\" class=\\\"w-full\\\" srcset=\\\"https://secure.meetupstatic.com/photos/event/2/7/6/3/600_525130083.webp?w=384 1x, https://secure.meetupstatic.com/photos/event/2/7/6/3/600_525130083.webp?w=750 2x\\\" src=\\\"https://secure.meetupstatic.com/photos/event/2/7/6/3/600_525130083.webp?w=750\\\" style=\\\"color: transparent;\\\"></div></picture></div><div id=\\\"event-details\\\" class=\\\"px-6 sm:px-4 xl:px-0 md:max-w-screen mt-5 w-full \\\"><div class=\\\"flex items-center justify-between\\\"><h2 class=\\\"text-xl font-semibold\\\">Details</h2></div><div class=\\\"break-words\\\"><p class=\\\"mb-4\\\">Let's Go Social 40+ presents: Let's Go to a Cocktail Party!</p>\\n<p class=\\\"mb-4\\\">Put away your hiking shoes and hiking poles and come and mingle and socialize with the Let's Go Social Community!</p>\\n<p class=\\\"mb-4\\\">We are pleased to be hosting this get together at a beautiful location:</p>\\n<p class=\\\"mb-4\\\">The Penthouse on Park - Rooftop<br>\\nRoyalton Hotel on Park Ave.<br>\\n420 Park Ave. South @ 29th St<br>\\nNew York, NY</p>\\n<p class=\\\"mb-4\\\">This will include:</p>\\n<p class=\\\"mb-4\\\">A fun opportunity to mingle and socialize<br>\\nDrink Specials<br>\\nLite Appetizers</p>\\n<p class=\\\"mb-4\\\">Notes:<br>\\n1. Many of those that attend will be single - but this is not a designated singles event.<br>\\n2. Music will be played at a conversational level.<br>\\n3. While our group focuses on 40+ all ages are welcome.<br>\\n4. Please feel free to come alone, over 90% of the people come solo, if you feel awkward or shy please seek out the organizers and we will be sure to make you feel welcome.<br>\\n5. This is a cash bar event - there will be some drink specials.<br>\\n6. The registration fee covers: staff, overhead and administration.</p></div></div>\", \"hosts\": [\"John F. and 3 others\"], \"group\": \"Let's Go Social  40+ - NYC  (over 2,000 members)\", \"address\": \"420 Park Avenue South \\u00b7 New York, NY\", \"guests\": [\"John Felter\", \"Yvonne Song\", \"Joy\"], \"attendees\": \"33\", \"tags\": [\"Events in New York, NY\"], \"venue\": \"Royalton Park Avenue\", \"online\": false, \"eventSeriesDates\": []}, {\"url\": \"https://www.meetup.com/new-york-city-creative-writing-meetup-group/events/304819159/\", \"dateStart\": \"2025-01-24T00:00:00.000Z\", \"dateEnd\": \"2025-01-24T02:00:00.000Z\", \"title\": \"St Marks Place Creative Writing Meetup\", \"description\": \"<div></div><div class=\\\"hidden lg:block xmedia\\\"><div class=\\\"rjf8xdv\\\"><div class=\\\"swiper-container swiper-container-initialized swiper-container-horizontal swiper-container-pointer-events\\\" modules=\\\"[object Object]\\\"><div class=\\\"swiper-button-prev swiper-button-disabled\\\"></div><div class=\\\"swiper-button-next\\\"></div><div class=\\\"swiper-wrapper\\\"><div class=\\\"swiper-slide swiper-slide-active slide\\\" style=\\\"margin-right: 8px;\\\"><a class=\\\"button current\\\" data-event-label=\\\"recurring-events\\\" href=\\\"/new-york-city-creative-writing-meetup-group/events/304819159/?recId=0355f7b3-695e-4c84-8449-9d617b9c4464&amp;recSource=ml-popular-events-nearby-offline&amp;searchId=9d5f92ef-e149-4a94-9650-e0fdd298e5f5&amp;eventOrigin=find_page$inPerson#\\\">Jan 23 @ 7 PM EST</a></div><div class=\\\"swiper-slide swiper-slide-next slide\\\" style=\\\"margin-right: 8px;\\\"><a class=\\\"button active\\\" data-event-label=\\\"recurring-events\\\" href=\\\"https://www.meetup.com/new-york-city-creative-writing-meetup-group/events/305392965/?eventOrigin=find_page$inPerson\\\">Jan 30 @ 7 PM EST</a></div><div class=\\\"swiper-slide slide\\\" style=\\\"margin-right: 8px;\\\"><a class=\\\"button active\\\" data-event-label=\\\"recurring-events\\\" href=\\\"https://www.meetup.com/new-york-city-creative-writing-meetup-group/events/305677390/?eventOrigin=find_page$inPerson\\\">Feb 6 @ 7 PM EST</a></div><div class=\\\"swiper-slide slide\\\" style=\\\"margin-right: 8px;\\\"><a class=\\\"button active\\\" data-event-label=\\\"recurring-events\\\" href=\\\"https://www.meetup.com/new-york-city-creative-writing-meetup-group/events/pxjrptyhcdbrb/?eventOrigin=find_page$inPerson\\\">Feb 13 @ 7 PM EST</a></div><div class=\\\"swiper-slide slide\\\" style=\\\"margin-right: 8px;\\\"><a class=\\\"button active\\\" data-event-label=\\\"recurring-events\\\" href=\\\"https://www.meetup.com/new-york-city-creative-writing-meetup-group/events/pxjrptyhcdbbc/?eventOrigin=find_page$inPerson\\\">Feb 20 @ 7 PM EST</a></div><div class=\\\"swiper-slide slide\\\" style=\\\"margin-right: 8px;\\\"><a class=\\\"button active\\\" data-event-label=\\\"recurring-events\\\" href=\\\"https://www.meetup.com/new-york-city-creative-writing-meetup-group/events/pxjrptyhcdbkc/?eventOrigin=find_page$inPerson\\\">Feb 27 @ 7 PM EST</a></div><div class=\\\"swiper-slide slide\\\" style=\\\"margin-right: 8px;\\\"><a class=\\\"button active\\\" data-event-label=\\\"recurring-events\\\" href=\\\"https://www.meetup.com/new-york-city-creative-writing-meetup-group/events/305345631/?eventOrigin=find_page$inPerson\\\">Mar 6 @ 7 PM EST</a></div><div class=\\\"swiper-slide slide\\\" style=\\\"margin-right: 8px;\\\"><a class=\\\"button active\\\" data-event-label=\\\"recurring-events\\\" href=\\\"https://www.meetup.com/new-york-city-creative-writing-meetup-group/events/pxjrptyhcfbrb/?eventOrigin=find_page$inPerson\\\">Mar 13 @ 7 PM EDT</a></div><div class=\\\"swiper-slide slide\\\" style=\\\"margin-right: 8px;\\\"><a class=\\\"button active\\\" data-event-label=\\\"recurring-events\\\" href=\\\"https://www.meetup.com/new-york-city-creative-writing-meetup-group/events/pxjrptyhcfbbc/?eventOrigin=find_page$inPerson\\\">Mar 20 @ 7 PM EDT</a></div><div class=\\\"swiper-slide slide\\\" style=\\\"margin-right: 8px;\\\"><a class=\\\"button active\\\" data-event-label=\\\"recurring-events\\\" href=\\\"https://www.meetup.com/new-york-city-creative-writing-meetup-group/events/pxjrptyhcfbkc/?eventOrigin=find_page$inPerson\\\">Mar 27 @ 7 PM EDT</a></div></div></div></div></div><div id=\\\"event-details\\\" class=\\\"px-6 sm:px-4 xl:px-0 md:max-w-screen mt-5 w-full \\\"><div class=\\\"flex items-center justify-between\\\"><h2 class=\\\"text-xl font-semibold\\\">Details</h2></div><div class=\\\"break-words\\\"><p class=\\\"mb-4\\\">This is a creative space for all levels of writers to come together and socialize as well as share work, thoughts and ideas. A place to collaborate with the purpose of inspiring creativity... and maybe meet a new friend or two in the process.</p>\\n<p class=\\\"mb-4\\\"><strong>AGENDA</strong></p>\\n<p class=\\\"mb-4\\\"><strong>6:00</strong> - Enjoy the space to write or blanking stare at the screen. You can socialize too... whichever you prefer.</p>\\n<p class=\\\"mb-4\\\"><strong>7:00</strong> - It's share time for those brave enough to get up and spit out the work from that cup you're exhaustingly filling. The floor is yours and we'll set the stage, just bring the words... but please limit to around 750 (or 5 minutes). We'll spend another 5 minutes discussing your work, if you'd like. But make sure to let us know prior if you're wanting critique or if you just prefer us to keep our thoughts to ourselves.</p>\\n<p class=\\\"mb-4\\\"><strong>9:00 - 10:00</strong> This is social hour. Meet a new friend or connect with those you already know.</p>\\n<p class=\\\"mb-4\\\">If you have any questions, just email me at: <a href=\\\"http://dan@lyricagency.com\\\" target=\\\"_blank\\\" class=\\\"!text-viridian\\\" rel=\\\"nofollow ugc\\\">dan@lyricagency.com</a></p>\\n<p class=\\\"mb-4\\\">Again, our meetups are scheduled for every Thursdays at 6pm and hosted in a small creative agency office situated at the storefront on 8 St. Marks Place in Manhattan (you need to walk down a few steps). We're just a few steps from Cooper Square and the Astor Place stop.</p>\\n<p class=\\\"mb-4\\\">See you there.</p></div></div>\", \"hosts\": [\"Dan S.\"], \"group\": \"New York City Creative Writing Club\", \"address\": \"8 St Marks Pl \\u00b7 New York, NY\", \"guests\": [\"Dan Scofield\", \"Patty\", \"Rosa\"], \"attendees\": \"13\", \"tags\": [\"Events in New York, NY\"], \"venue\": \"8 St Marks Pl\", \"online\": false, \"eventSeriesDates\": [\"2025-01-24T00:00:00.000Z\", \"2025-01-31T00:00:00.000Z\", \"2025-02-07T00:00:00.000Z\", \"2025-02-14T00:00:00.000Z\", \"2025-02-21T00:00:00.000Z\", \"2025-02-28T00:00:00.000Z\", \"2025-03-07T00:00:00.000Z\", \"2025-03-13T23:00:00.000Z\", \"2025-03-20T23:00:00.000Z\", \"2025-03-27T23:00:00.000Z\"]}, {\"url\": \"https://www.meetup.com/brooklyn-based-board-gaming/events/305409053/\", \"dateStart\": \"2025-01-23T23:00:00.000Z\", \"dateEnd\": \"2025-01-24T03:00:00.000Z\", \"title\": \"Thursday Board Games\", \"description\": \"<div></div><div class=\\\"hidden lg:block xmedia\\\"><div class=\\\"rjf8xdv\\\"><div class=\\\"swiper-container swiper-container-initialized swiper-container-horizontal swiper-container-pointer-events\\\" modules=\\\"[object Object]\\\"><div class=\\\"swiper-button-prev swiper-button-disabled\\\"></div><div class=\\\"swiper-button-next\\\"></div><div class=\\\"swiper-wrapper\\\"><div class=\\\"swiper-slide swiper-slide-active slide\\\" style=\\\"margin-right: 8px;\\\"><a class=\\\"button current\\\" data-event-label=\\\"recurring-events\\\" href=\\\"/brooklyn-based-board-gaming/events/305409053/?recId=0355f7b3-695e-4c84-8449-9d617b9c4464&amp;recSource=ml-popular-events-nearby-offline&amp;searchId=9d5f92ef-e149-4a94-9650-e0fdd298e5f5&amp;eventOrigin=find_page$inPerson#\\\">Jan 23 @ 6 PM EST</a></div><div class=\\\"swiper-slide swiper-slide-next slide\\\" style=\\\"margin-right: 8px;\\\"><a class=\\\"button active\\\" data-event-label=\\\"recurring-events\\\" href=\\\"https://www.meetup.com/brooklyn-based-board-gaming/events/305544917/?eventOrigin=find_page$inPerson\\\">Jan 30 @ 6 PM EST</a></div><div class=\\\"swiper-slide slide\\\" style=\\\"margin-right: 8px;\\\"><a class=\\\"button active\\\" data-event-label=\\\"recurring-events\\\" href=\\\"https://www.meetup.com/brooklyn-based-board-gaming/events/305675782/?eventOrigin=find_page$inPerson\\\">Feb 6 @ 6 PM EST</a></div><div class=\\\"swiper-slide slide\\\" style=\\\"margin-right: 8px;\\\"><a class=\\\"button active\\\" data-event-label=\\\"recurring-events\\\" href=\\\"https://www.meetup.com/brooklyn-based-board-gaming/events/tkzzltyhcdbrb/?eventOrigin=find_page$inPerson\\\">Feb 13 @ 6 PM EST</a></div><div class=\\\"swiper-slide slide\\\" style=\\\"margin-right: 8px;\\\"><a class=\\\"button active\\\" data-event-label=\\\"recurring-events\\\" href=\\\"https://www.meetup.com/brooklyn-based-board-gaming/events/tkzzltyhcdbbc/?eventOrigin=find_page$inPerson\\\">Feb 20 @ 6 PM EST</a></div><div class=\\\"swiper-slide slide\\\" style=\\\"margin-right: 8px;\\\"><a class=\\\"button active\\\" data-event-label=\\\"recurring-events\\\" href=\\\"https://www.meetup.com/brooklyn-based-board-gaming/events/tkzzltyhcdbkc/?eventOrigin=find_page$inPerson\\\">Feb 27 @ 6 PM EST</a></div><div class=\\\"swiper-slide slide\\\" style=\\\"margin-right: 8px;\\\"><a class=\\\"button active\\\" data-event-label=\\\"recurring-events\\\" href=\\\"https://www.meetup.com/brooklyn-based-board-gaming/events/tkzzltyhcfbjb/?eventOrigin=find_page$inPerson\\\">Mar 6 @ 6 PM EST</a></div><div class=\\\"swiper-slide slide\\\" style=\\\"margin-right: 8px;\\\"><a class=\\\"button active\\\" data-event-label=\\\"recurring-events\\\" href=\\\"https://www.meetup.com/brooklyn-based-board-gaming/events/tkzzltyhcfbrb/?eventOrigin=find_page$inPerson\\\">Mar 13 @ 6 PM EDT</a></div><div class=\\\"swiper-slide slide\\\" style=\\\"margin-right: 8px;\\\"><a class=\\\"button active\\\" data-event-label=\\\"recurring-events\\\" href=\\\"https://www.meetup.com/brooklyn-based-board-gaming/events/tkzzltyhcfbbc/?eventOrigin=find_page$inPerson\\\">Mar 20 @ 6 PM EDT</a></div><div class=\\\"swiper-slide slide\\\" style=\\\"margin-right: 8px;\\\"><a class=\\\"button active\\\" data-event-label=\\\"recurring-events\\\" href=\\\"https://www.meetup.com/brooklyn-based-board-gaming/events/tkzzltyhcfbkc/?eventOrigin=find_page$inPerson\\\">Mar 27 @ 6 PM EDT</a></div></div></div></div></div><div id=\\\"event-details\\\" class=\\\"px-6 sm:px-4 xl:px-0 md:max-w-screen mt-5 w-full \\\"><div class=\\\"flex items-center justify-between\\\"><h2 class=\\\"text-xl font-semibold\\\">Details</h2></div><div class=\\\"break-words\\\"><p class=\\\"mb-4\\\">Board gamers of all kinds are welcome to our Thursday night board gaming event. <strong>If this will be your first time attending on a Thursday, we highly recommend that you join our <a href=\\\"https://discord.gg/f3uqDJjEec\\\" target=\\\"_blank\\\" class=\\\"!text-viridian\\\" rel=\\\"nofollow ugc\\\">Discord server</a> to find a scheduled game to join.</strong> The majority of Thursday evening games are pre-scheduled via Discord, but we do leave one or two tables open for unscheduled games\\u2014if you would like to play at one of those tables please arrive as close to the 6PM start time as possible to increase the chance that there will be space available.</p>\\n<p class=\\\"mb-4\\\">Looking for something more freeform? Try our Friday and Sunday events, which are almost entirely comprised of unscheduled, \\u201cpick-up\\u201d games for you to play!</p>\\n<p class=\\\"mb-4\\\">Entrance is $8, paid to Squarrel Cafe for unlimited gaming for the day. Food and drink are available. Attendees are strongly encouraged to support our host, Squarrel Cafe.</p></div></div>\", \"hosts\": [\"Pascal A.\"], \"group\": \"Brooklyn-Based Board Gaming\", \"address\": \"572 Atlantic Ave \\u00b7 Brooklyn, NY\", \"guests\": [\"Pascal A.\", \"Ali Tavakoli\", \"Dev\"], \"attendees\": \"19\", \"tags\": [\"Events in Brooklyn, NY\"], \"venue\": \"Squarrel Cafe\", \"online\": false, \"eventSeriesDates\": [\"2025-01-23T23:00:00.000Z\", \"2025-01-30T23:00:00.000Z\", \"2025-02-06T23:00:00.000Z\", \"2025-02-13T23:00:00.000Z\", \"2025-02-20T23:00:00.000Z\", \"2025-02-27T23:00:00.000Z\", \"2025-03-06T23:00:00.000Z\", \"2025-03-13T22:00:00.000Z\", \"2025-03-20T22:00:00.000Z\", \"2025-03-27T22:00:00.000Z\"]}, {\"url\": \"https://www.meetup.com/brooklyn-experimental-electronic-music-meetup/events/305289027/\", \"dateStart\": \"2025-01-24T00:00:00.000Z\", \"dateEnd\": \"2025-01-24T04:00:00.000Z\", \"title\": \"Wonderville January Artist Showcase\", \"description\": \"<div><picture data-testid=\\\"event-description-image\\\"><div class=\\\"mt-0 w-full lg:mt-8\\\"><img alt=\\\"Wonderville January Artist Showcase\\\" fetchpriority=\\\"high\\\" width=\\\"375\\\" height=\\\"210\\\" decoding=\\\"async\\\" data-nimg=\\\"1\\\" class=\\\"w-full\\\" style=\\\"color:transparent\\\" srcset=\\\"https://secure.meetupstatic.com/photos/event/b/5/0/e/600_525406350.webp?w=384 1x, https://secure.meetupstatic.com/photos/event/b/5/0/e/600_525406350.webp?w=750 2x\\\" src=\\\"https://secure.meetupstatic.com/photos/event/b/5/0/e/600_525406350.webp?w=750\\\"></div></picture></div><div id=\\\"event-details\\\" class=\\\"px-6 sm:px-4 xl:px-0 md:max-w-screen mt-5 w-full \\\"><div class=\\\"flex items-center justify-between\\\"><h2 class=\\\"text-xl font-semibold\\\">Details</h2></div><div class=\\\"break-words\\\"><p class=\\\"mb-4\\\">Let's enjoy experimental and electronic music from our monthly showcase of local musicians!</p></div></div>\", \"hosts\": [\"Tristan K.\"], \"group\": \"The Brooklyn Experimental Electronic Music Group\", \"address\": \"1186 Broadway \\u00b7 Brooklyn, NY\", \"guests\": [\"Tristan Kneschke\", \"Eric S.\", \"Yan Michalevsky\"], \"attendees\": \"32\", \"tags\": [\"Events in Brooklyn, NY\"], \"venue\": \"Wonderville\", \"online\": false, \"eventSeriesDates\": []}]\n"
     ]
    }
   ],
   "source": [
    "import dspy\n",
    "from typing import List\n",
    "import json\n",
    "\n",
    "\n",
    "def convert_to_dspy_labeled_examples(df: pd.DataFrame) -> List[dspy.Example]:\n",
    "    examples = []\n",
    "    for _, row in df.iterrows():\n",
    "        example = dspy.Example(\n",
    "            url=row[\"url\"],\n",
    "            dateStart=row[\"dateStart\"],\n",
    "            dateEnd=row[\"dateEnd\"],\n",
    "            title=row[\"title\"],\n",
    "            description=row[\"description\"],\n",
    "            hosts=row[\"hosts\"],\n",
    "            group=row[\"group\"],\n",
    "            address=row[\"address\"],\n",
    "            guests=row[\"guests\"],\n",
    "            attendees=row[\"attendees\"],\n",
    "            tags=row[\"tags\"],\n",
    "            venue=row[\"venue\"],\n",
    "            online=row[\"online\"],\n",
    "            eventSeriesDates=row[\"eventSeriesDates\"],\n",
    "            non_commercial=row[\"non_commercial\"],\n",
    "            popularity=row[\"popularity\"],\n",
    "            free_admision=row[\"free_admision\"],\n",
    "            no_additional_expenses=row[\"no_additional_expenses\"],\n",
    "            drinks_provided=row[\"drinks_provided\"],\n",
    "            food_provided=row[\"food_provided\"],\n",
    "            venue_niceness=row[\"venue_niceness\"],\n",
    "            quietness=row[\"quietness\"],\n",
    "            uniqueness=row[\"uniqueness\"],\n",
    "            proximity=row[\"proximity\"],\n",
    "        ).with_inputs(\"title\", \"description\", \"hosts\", \"group\", \"address\", \"guests\", \"attendees\", \"tags\", \"venue\", \"online\", \"eventSeriesDates\")\n",
    "        examples.append(example)\n",
    "    return examples\n",
    "\n",
    "\n",
    "def convert_to_dspy_examples(df: pd.DataFrame) -> List[dspy.Example]:\n",
    "    examples = []\n",
    "    for _, row in df.iterrows():\n",
    "        example = dspy.Example(\n",
    "            url=row[\"url\"],\n",
    "            dateStart=row[\"dateStart\"],\n",
    "            dateEnd=row[\"dateEnd\"],\n",
    "            title=row[\"title\"],\n",
    "            description=row[\"description\"],\n",
    "            hosts=row[\"hosts\"],\n",
    "            group=row[\"group\"],\n",
    "            address=row[\"address\"],\n",
    "            guests=row[\"guests\"],\n",
    "            attendees=row[\"attendees\"],\n",
    "            tags=row[\"tags\"],\n",
    "            venue=row[\"venue\"],\n",
    "            online=row[\"online\"],\n",
    "            eventSeriesDates=row[\"eventSeriesDates\"],\n",
    "        ).with_inputs(\"title\", \"description\", \"hosts\", \"group\", \"address\", \"guests\", \"attendees\", \"tags\", \"venue\", \"online\", \"eventSeriesDates\")\n",
    "        examples.append(example)\n",
    "    return examples\n",
    "\n",
    "\n",
    "labeled_examples = convert_to_dspy_labeled_examples(df_labeled)\n",
    "all_examples = convert_to_dspy_examples(df_all)\n",
    "\n",
    "print(f\"total number of examples: {len(labeled_examples)}\")\n",
    "# single_line_json = json.dumps([example.toDict() for example in examples])\n",
    "# print(single_line_json)\n",
    "\n",
    "test_set = labeled_examples[0:5]\n",
    "train_set = labeled_examples[5:10]\n",
    "try_set = all_examples[20:25]\n",
    "\n",
    "# print(f\"testset size: {len(test_set)}\")\n",
    "# testset_single_line_json = json.dumps([example.toDict() for example in test_set])\n",
    "# print(testset_single_line_json)\n",
    "print(f\"trainset size: {len(train_set)}\")\n",
    "trainset_single_line_json = json.dumps([example.toDict() for example in train_set])\n",
    "print(trainset_single_line_json)\n",
    "\n",
    "print(f\"tryset size: {len(try_set)}\")\n",
    "tryset_single_line_json = json.dumps([example.toDict() for example in try_set])\n",
    "print(tryset_single_line_json)\n",
    "# multiline_json = json.dumps([example.toDict() for example in examples[0:1]], indent=4)\n",
    "# print(multiline_json)"
   ]
  },
  {
   "cell_type": "code",
   "execution_count": 7,
   "metadata": {},
   "outputs": [],
   "source": [
    "from typing import List\n",
    "import dspy\n",
    "\n",
    "\n",
    "class ScoringFeatures(dspy.Signature):\n",
    "    \"\"\"\n",
    "    Extract scoring features from event data.\n",
    "    \"\"\"\n",
    "\n",
    "    title: str = dspy.InputField(desc=\"event title\")\n",
    "    description: str = dspy.InputField(desc=\"event description\")\n",
    "    attendees: str = dspy.InputField(desc=\"the number of people attending the event\")\n",
    "    address: str = dspy.InputField(desc=\"event address\")\n",
    "    guests: list[str] = dspy.InputField(desc=\"event guests\")\n",
    "\n",
    "    non_commercial: float = dspy.OutputField(desc=\"non_commercial (0 - very commercial, 1 - not commercial at all)\")\n",
    "    popularity: float = dspy.OutputField(desc=\"popularity (0 - very unpopular, 1 - very popular)\")\n",
    "    free_admision: float = dspy.OutputField(desc=\"free_admision (0 - very expensive, 1 - completely free)\")\n",
    "    no_additional_expenses: float = dspy.OutputField(desc=\"no_additional_expenses (0 - lots of additional expenses, 1 - no additional expenses)\")\n",
    "    drinks_provided: float = dspy.OutputField(desc=\"drinks_provided (0 - no drinks provided, 1 - lots of drinks provided)\")\n",
    "    food_provided: float = dspy.OutputField(desc=\"food_provided (0 - no food provided, 1 - lots of food provided)\")\n",
    "    venue_niceness: float = dspy.OutputField(desc=\"venue_niceness (0 - very poor venue, 1 - very nice venue)\")\n",
    "    quietness: float = dspy.OutputField(desc=\"quietness (0 - very loud, 1 - very quiet)\")\n",
    "    uniqueness: float = dspy.OutputField(desc=\"uniqueness (0 - not unique, 1 - very unique)\")\n",
    "    proximity: float = dspy.OutputField(desc=\"proximity (0 - very far, 1 - very close)\")\n",
    "\n",
    "\n",
    "scoring_features_extractor = dspy.ChainOfThought(ScoringFeatures)\n",
    "\n",
    "\n",
    "# class ScoringFeaturesAnnotatedInputs(dspy.Signature):\n",
    "#     \"\"\"\n",
    "#     Extract scoring features from event data.\n",
    "#     \"\"\"\n",
    "\n",
    "#     title: str = dspy.InputField(desc=\"event title\")\n",
    "#     description: str = dspy.InputField(desc=\"event description\")\n",
    "#     attendees: str = dspy.InputField(desc=\"the number of people attending the event\")\n",
    "#     address: str = dspy.InputField(desc=\"event address\")\n",
    "#     guests: list[str] = dspy.InputField(desc=\"event guests\")\n",
    "\n",
    "#     non_commercial: float = dspy.OutputField(desc=\"non_commercial (0 - very commercial, 1 - not commercial at all)\")\n",
    "#     non_commercial_explanation: str = dspy.InputField(desc=\"Explanation for non_commercial score\")\n",
    "#     popularity: float = dspy.OutputField(desc=\"popularity (0 - very unpopular, 1 - very popular)\")\n",
    "#     popularity_explanation: str = dspy.InputField(desc=\"Explanation for popularity score\")\n",
    "#     free_admision: float = dspy.OutputField(desc=\"free_admision (0 - very expensive, 1 - completely free)\")\n",
    "#     free_admision_explanation: str = dspy.InputField(desc=\"Explanation for free_admision score\")\n",
    "#     no_additional_expenses: float = dspy.OutputField(desc=\"no_additional_expenses (0 - lots of additional expenses, 1 - no additional expenses)\")\n",
    "#     no_additional_expenses_explanation: str = dspy.InputField(desc=\"Explanation for no_additional_expenses score\")\n",
    "#     drinks_provided: float = dspy.OutputField(desc=\"drinks_provided (0 - no drinks provided, 1 - lots of drinks provided)\")\n",
    "#     drinks_provided_explanation: str = dspy.InputField(desc=\"Explanation for drinks_provided score\")\n",
    "#     food_provided: float = dspy.OutputField(desc=\"food_provided (0 - no food provided, 1 - lots of food provided)\")\n",
    "#     food_provided_explanation: str = dspy.InputField(desc=\"Explanation for food_provided score\")\n",
    "#     venue_niceness: float = dspy.OutputField(desc=\"venue_niceness (0 - very poor venue, 1 - very nice venue)\")\n",
    "#     venue_niceness_explanation: str = dspy.InputField(desc=\"Explanation for venue_niceness score\")\n",
    "#     quietness: float = dspy.OutputField(desc=\"quietness (0 - very loud, 1 - very quiet)\")\n",
    "#     quietness_explanation: str = dspy.InputField(desc=\"Explanation for quietness score\")\n",
    "#     uniqueness: float = dspy.OutputField(desc=\"uniqueness (0 - not unique, 1 - very unique)\")\n",
    "#     uniqueness_explanation: str = dspy.InputField(desc=\"Explanation for uniqueness score\")\n",
    "#     proximity: float = dspy.OutputField(desc=\"proximity (0 - very far, 1 - very close)\")\n",
    "#     proximity_explanation: str = dspy.InputField(desc=\"Explanation for proximity score\")\n",
    "\n",
    "\n",
    "# scoring_features_annotated_inputs_extractor = dspy.ChainOfThought(ScoringFeaturesAnnotatedInputs)\n",
    "\n",
    "\n",
    "# class ScoringFeaturesAnnotated(dspy.Signature):\n",
    "#     \"\"\"\n",
    "#     Extract scoring features from event data.\n",
    "#     \"\"\"\n",
    "\n",
    "#     title: str = dspy.InputField(desc=\"event title\")\n",
    "#     description: str = dspy.InputField(desc=\"event description\")\n",
    "#     attendees: str = dspy.InputField(desc=\"the number of people attending the event\")\n",
    "#     address: str = dspy.InputField(desc=\"event address\")\n",
    "#     guests: list[str] = dspy.InputField(desc=\"event guests\")\n",
    "\n",
    "#     non_commercial: float = dspy.OutputField(desc=\"non_commercial (0 - very commercial, 1 - not commercial at all)\")\n",
    "#     non_commercial_explanation: str = dspy.OutputField(desc=\"Explanation for non_commercial score\")\n",
    "#     popularity: float = dspy.OutputField(desc=\"popularity (0 - very unpopular, 1 - very popular)\")\n",
    "#     popularity_explanation: str = dspy.OutputField(desc=\"Explanation for popularity score\")\n",
    "#     free_admision: float = dspy.OutputField(desc=\"free_admision (0 - very expensive, 1 - completely free)\")\n",
    "#     free_admision_explanation: str = dspy.OutputField(desc=\"Explanation for free_admision score\")\n",
    "#     no_additional_expenses: float = dspy.OutputField(desc=\"no_additional_expenses (0 - lots of additional expenses, 1 - no additional expenses)\")\n",
    "#     no_additional_expenses_explanation: str = dspy.OutputField(desc=\"Explanation for no_additional_expenses score\")\n",
    "#     drinks_provided: float = dspy.OutputField(desc=\"drinks_provided (0 - no drinks provided, 1 - lots of drinks provided)\")\n",
    "#     drinks_provided_explanation: str = dspy.OutputField(desc=\"Explanation for drinks_provided score\")\n",
    "#     food_provided: float = dspy.OutputField(desc=\"food_provided (0 - no food provided, 1 - lots of food provided)\")\n",
    "#     food_provided_explanation: str = dspy.OutputField(desc=\"Explanation for food_provided score\")\n",
    "#     venue_niceness: float = dspy.OutputField(desc=\"venue_niceness (0 - very poor venue, 1 - very nice venue)\")\n",
    "#     venue_niceness_explanation: str = dspy.OutputField(desc=\"Explanation for venue_niceness score\")\n",
    "#     quietness: float = dspy.OutputField(desc=\"quietness (0 - very loud, 1 - very quiet)\")\n",
    "#     quietness_explanation: str = dspy.OutputField(desc=\"Explanation for quietness score\")\n",
    "#     uniqueness: float = dspy.OutputField(desc=\"uniqueness (0 - not unique, 1 - very unique)\")\n",
    "#     uniqueness_explanation: str = dspy.OutputField(desc=\"Explanation for uniqueness score\")\n",
    "#     proximity: float = dspy.OutputField(desc=\"proximity (0 - very far, 1 - very close)\")\n",
    "#     proximity_explanation: str = dspy.OutputField(desc=\"Explanation for proximity score\")\n",
    "\n",
    "\n",
    "# scoring_features_annotated_extractor = dspy.ChainOfThought(ScoringFeaturesAnnotated)"
   ]
  },
  {
   "cell_type": "code",
   "execution_count": 8,
   "metadata": {},
   "outputs": [],
   "source": [
    "def scoring_features_metric(example: dspy.Example, prediction: dspy.Prediction, trace=None) -> float:\n",
    "    \"\"\"\n",
    "    Computes a composite score for the scoring features.\n",
    "\n",
    "    Args:\n",
    "        example (dspy.Example): The dataset example containing expected scoring features.\n",
    "        prediction (dspy.Prediction): The prediction from the DSPy scoring features extraction program.\n",
    "        trace: Optional trace object for debugging.\n",
    "\n",
    "    Returns:\n",
    "        float: Composite score based on the equally weighted scoring features.\n",
    "    \"\"\"\n",
    "    features = [\n",
    "        \"non_commercial\",\n",
    "        \"popularity\",\n",
    "        \"free_admision\",\n",
    "        \"no_additional_expenses\",\n",
    "        \"drinks_provided\",\n",
    "        \"food_provided\",\n",
    "        \"venue_niceness\",\n",
    "        \"quietness\",\n",
    "        \"uniqueness\",\n",
    "        \"proximity\",\n",
    "    ]\n",
    "\n",
    "    weights = {\n",
    "        \"non_commercial\": 1.0,\n",
    "        \"popularity\": 1.0,\n",
    "        \"free_admision\": 1.0,\n",
    "        \"no_additional_expenses\": 1.0,\n",
    "        \"drinks_provided\": 1.0,\n",
    "        \"food_provided\": 1.0,\n",
    "        \"venue_niceness\": 1.0,\n",
    "        \"quietness\": 1.0,\n",
    "        \"uniqueness\": 1.0,\n",
    "        \"proximity\": 1.0,\n",
    "    }\n",
    "\n",
    "    total_weight = sum(weights.values())\n",
    "    score = 0.0\n",
    "\n",
    "    for feature in features:\n",
    "        expected_value = getattr(example, feature)\n",
    "        predicted_value = getattr(prediction, feature)\n",
    "        score += 1 - abs(expected_value - predicted_value)\n",
    "\n",
    "    return score / total_weight\n",
    "\n",
    "\n",
    "evaluate_correctness = dspy.Evaluate(devset=test_set, metric=scoring_features_metric, num_threads=24, display_progress=True, display_table=True)"
   ]
  },
  {
   "cell_type": "code",
   "execution_count": 9,
   "metadata": {},
   "outputs": [
    {
     "name": "stdout",
     "output_type": "stream",
     "text": [
      "Average Metric: 3.82 / 5 (76.4%): 100%|██████████| 5/5 [00:00<00:00, 191.35it/s]"
     ]
    },
    {
     "name": "stderr",
     "output_type": "stream",
     "text": [
      "2025/01/30 14:28:50 INFO dspy.evaluate.evaluate: Average Metric: 3.8200000000000003 / 5 (76.4%)\n"
     ]
    },
    {
     "name": "stdout",
     "output_type": "stream",
     "text": [
      "\n"
     ]
    },
    {
     "data": {
      "text/html": [
       "<div>\n",
       "<style scoped>\n",
       "    .dataframe tbody tr th:only-of-type {\n",
       "        vertical-align: middle;\n",
       "    }\n",
       "\n",
       "    .dataframe tbody tr th {\n",
       "        vertical-align: top;\n",
       "    }\n",
       "\n",
       "    .dataframe thead th {\n",
       "        text-align: right;\n",
       "    }\n",
       "</style>\n",
       "<table border=\"1\" class=\"dataframe\">\n",
       "  <thead>\n",
       "    <tr style=\"text-align: right;\">\n",
       "      <th></th>\n",
       "      <th>url</th>\n",
       "      <th>dateStart</th>\n",
       "      <th>dateEnd</th>\n",
       "      <th>title</th>\n",
       "      <th>description</th>\n",
       "      <th>hosts</th>\n",
       "      <th>group</th>\n",
       "      <th>address</th>\n",
       "      <th>guests</th>\n",
       "      <th>attendees</th>\n",
       "      <th>...</th>\n",
       "      <th>pred_popularity</th>\n",
       "      <th>pred_free_admision</th>\n",
       "      <th>pred_no_additional_expenses</th>\n",
       "      <th>pred_drinks_provided</th>\n",
       "      <th>pred_food_provided</th>\n",
       "      <th>pred_venue_niceness</th>\n",
       "      <th>pred_quietness</th>\n",
       "      <th>pred_uniqueness</th>\n",
       "      <th>pred_proximity</th>\n",
       "      <th>scoring_features_metric</th>\n",
       "    </tr>\n",
       "  </thead>\n",
       "  <tbody>\n",
       "    <tr>\n",
       "      <th>0</th>\n",
       "      <td>https://lu.ma/mw005iqm</td>\n",
       "      <td>2025-01-23T12:30:00.000Z</td>\n",
       "      <td>2025-01-23T13:30:00.000Z</td>\n",
       "      <td>Pitch and Run 730am Thursday Early Bird</td>\n",
       "      <td>&lt;p&gt;​&lt;!-- --&gt;Meet at 730am &lt;/p&gt;&lt;p&gt;​&lt;!-- --&gt;Intros till 740am&lt;/p&gt;&lt;p&gt;...</td>\n",
       "      <td>[Kevin Weatherman, Chaitenya Razdan]</td>\n",
       "      <td>Pitch and Run</td>\n",
       "      <td>Le Pain Quotidien, New York, New York</td>\n",
       "      <td>[Lus Kairos, Josh]</td>\n",
       "      <td>258</td>\n",
       "      <td>...</td>\n",
       "      <td>0.9</td>\n",
       "      <td>1.0</td>\n",
       "      <td>0.9</td>\n",
       "      <td>0.0</td>\n",
       "      <td>0.0</td>\n",
       "      <td>0.8</td>\n",
       "      <td>0.7</td>\n",
       "      <td>0.6</td>\n",
       "      <td>0.9</td>\n",
       "      <td>✔️ [0.750]</td>\n",
       "    </tr>\n",
       "    <tr>\n",
       "      <th>1</th>\n",
       "      <td>https://lu.ma/8vxdejas</td>\n",
       "      <td>2025-01-28T12:30:00.000Z</td>\n",
       "      <td>2025-01-28T13:30:00.000Z</td>\n",
       "      <td>Pitch &amp; Run - Prospect Park</td>\n",
       "      <td>&lt;p&gt;​&lt;!-- --&gt;Meet at 7:30AM at Grand Army Plaza&lt;/p&gt;&lt;p&gt;​&lt;!-- --&gt;Rout...</td>\n",
       "      <td>[Kevin Weatherman, Shahn Andersen, Jay Sehgal, Charlie O'Donnell, ...</td>\n",
       "      <td>Pitch and Run</td>\n",
       "      <td>Grand Army Plaza Greenmarket, Kings County, New York</td>\n",
       "      <td>[Rafaela Gadelha, AI Founders Connect]</td>\n",
       "      <td>197</td>\n",
       "      <td>...</td>\n",
       "      <td>0.8</td>\n",
       "      <td>1.0</td>\n",
       "      <td>0.9</td>\n",
       "      <td>0.2</td>\n",
       "      <td>0.1</td>\n",
       "      <td>0.8</td>\n",
       "      <td>0.6</td>\n",
       "      <td>0.7</td>\n",
       "      <td>1.0</td>\n",
       "      <td>✔️ [0.750]</td>\n",
       "    </tr>\n",
       "    <tr>\n",
       "      <th>2</th>\n",
       "      <td>https://lu.ma/founderunwindjan</td>\n",
       "      <td>2025-01-27T02:00:00.000Z</td>\n",
       "      <td>2025-01-27T03:30:00.000Z</td>\n",
       "      <td>january founder's sauna club (hosted by andrew yeung x rho)</td>\n",
       "      <td>&lt;p&gt;​&lt;strong&gt;you are invited to&lt;/strong&gt;&lt;strong&gt;&lt;em&gt; the january fo...</td>\n",
       "      <td>[Andrew Yeung, Justin Wolz, Othership]</td>\n",
       "      <td>Andrew's Tech Events</td>\n",
       "      <td>Othership Flatiron, New York, New York</td>\n",
       "      <td>[Jaiya Gill, Ami Yoshimura]</td>\n",
       "      <td>104</td>\n",
       "      <td>...</td>\n",
       "      <td>0.7</td>\n",
       "      <td>0.2</td>\n",
       "      <td>0.6</td>\n",
       "      <td>0.3</td>\n",
       "      <td>0.1</td>\n",
       "      <td>0.9</td>\n",
       "      <td>0.8</td>\n",
       "      <td>0.9</td>\n",
       "      <td>0.9</td>\n",
       "      <td>✔️ [0.860]</td>\n",
       "    </tr>\n",
       "    <tr>\n",
       "      <th>3</th>\n",
       "      <td>https://lu.ma/li70qmdn</td>\n",
       "      <td>2025-01-23T23:30:00.000Z</td>\n",
       "      <td>2025-01-24T01:30:00.000Z</td>\n",
       "      <td>January Finance Happy Hour</td>\n",
       "      <td>&lt;p&gt;​&lt;!-- --&gt;Join us for the 11th monthly finance happy hour! Wheth...</td>\n",
       "      <td>[Fiona Tran]</td>\n",
       "      <td></td>\n",
       "      <td>New York, New York</td>\n",
       "      <td>[Niko LeMieux, Christopher Truong]</td>\n",
       "      <td>86</td>\n",
       "      <td>...</td>\n",
       "      <td>0.8</td>\n",
       "      <td>0.9</td>\n",
       "      <td>0.7</td>\n",
       "      <td>0.8</td>\n",
       "      <td>0.5</td>\n",
       "      <td>0.7</td>\n",
       "      <td>0.4</td>\n",
       "      <td>0.6</td>\n",
       "      <td>0.9</td>\n",
       "      <td>✔️ [0.630]</td>\n",
       "    </tr>\n",
       "    <tr>\n",
       "      <th>4</th>\n",
       "      <td>https://lu.ma/9mc2psu3</td>\n",
       "      <td>2025-01-28T22:00:00.000Z</td>\n",
       "      <td>2025-01-29T01:00:00.000Z</td>\n",
       "      <td>NachoTuesday: SaaS &amp; AI Founder + Investor Happy Hour</td>\n",
       "      <td>&lt;p&gt;​&lt;!-- --&gt;NachoNacho - The B2B SaaS + Services Marketplace, Fide...</td>\n",
       "      <td>[Andy Karuza, Charlie Stephens, Nicole Haverick, Sanjay Goel, Chri...</td>\n",
       "      <td></td>\n",
       "      <td>New York, New York</td>\n",
       "      <td>[Andrea, Laurent]</td>\n",
       "      <td>322</td>\n",
       "      <td>...</td>\n",
       "      <td>0.9</td>\n",
       "      <td>0.8</td>\n",
       "      <td>0.7</td>\n",
       "      <td>1.0</td>\n",
       "      <td>1.0</td>\n",
       "      <td>0.9</td>\n",
       "      <td>0.6</td>\n",
       "      <td>0.8</td>\n",
       "      <td>1.0</td>\n",
       "      <td>✔️ [0.830]</td>\n",
       "    </tr>\n",
       "  </tbody>\n",
       "</table>\n",
       "<p>5 rows × 36 columns</p>\n",
       "</div>"
      ],
      "text/plain": [
       "                              url                 dateStart  \\\n",
       "0          https://lu.ma/mw005iqm  2025-01-23T12:30:00.000Z   \n",
       "1          https://lu.ma/8vxdejas  2025-01-28T12:30:00.000Z   \n",
       "2  https://lu.ma/founderunwindjan  2025-01-27T02:00:00.000Z   \n",
       "3          https://lu.ma/li70qmdn  2025-01-23T23:30:00.000Z   \n",
       "4          https://lu.ma/9mc2psu3  2025-01-28T22:00:00.000Z   \n",
       "\n",
       "                    dateEnd  \\\n",
       "0  2025-01-23T13:30:00.000Z   \n",
       "1  2025-01-28T13:30:00.000Z   \n",
       "2  2025-01-27T03:30:00.000Z   \n",
       "3  2025-01-24T01:30:00.000Z   \n",
       "4  2025-01-29T01:00:00.000Z   \n",
       "\n",
       "                                                         title  \\\n",
       "0                      Pitch and Run 730am Thursday Early Bird   \n",
       "1                                  Pitch & Run - Prospect Park   \n",
       "2  january founder's sauna club (hosted by andrew yeung x rho)   \n",
       "3                                   January Finance Happy Hour   \n",
       "4        NachoTuesday: SaaS & AI Founder + Investor Happy Hour   \n",
       "\n",
       "                                                             description  \\\n",
       "0  <p>​<!-- -->Meet at 730am </p><p>​<!-- -->Intros till 740am</p><p>...   \n",
       "1  <p>​<!-- -->Meet at 7:30AM at Grand Army Plaza</p><p>​<!-- -->Rout...   \n",
       "2  <p>​<strong>you are invited to</strong><strong><em> the january fo...   \n",
       "3  <p>​<!-- -->Join us for the 11th monthly finance happy hour! Wheth...   \n",
       "4  <p>​<!-- -->NachoNacho - The B2B SaaS + Services Marketplace, Fide...   \n",
       "\n",
       "                                                                   hosts  \\\n",
       "0                                   [Kevin Weatherman, Chaitenya Razdan]   \n",
       "1  [Kevin Weatherman, Shahn Andersen, Jay Sehgal, Charlie O'Donnell, ...   \n",
       "2                                 [Andrew Yeung, Justin Wolz, Othership]   \n",
       "3                                                           [Fiona Tran]   \n",
       "4  [Andy Karuza, Charlie Stephens, Nicole Haverick, Sanjay Goel, Chri...   \n",
       "\n",
       "                  group                                               address  \\\n",
       "0         Pitch and Run                 Le Pain Quotidien, New York, New York   \n",
       "1         Pitch and Run  Grand Army Plaza Greenmarket, Kings County, New York   \n",
       "2  Andrew's Tech Events                Othership Flatiron, New York, New York   \n",
       "3                                                          New York, New York   \n",
       "4                                                          New York, New York   \n",
       "\n",
       "                                   guests  attendees  ...  pred_popularity  \\\n",
       "0                      [Lus Kairos, Josh]        258  ...              0.9   \n",
       "1  [Rafaela Gadelha, AI Founders Connect]        197  ...              0.8   \n",
       "2             [Jaiya Gill, Ami Yoshimura]        104  ...              0.7   \n",
       "3      [Niko LeMieux, Christopher Truong]         86  ...              0.8   \n",
       "4                       [Andrea, Laurent]        322  ...              0.9   \n",
       "\n",
       "   pred_free_admision  pred_no_additional_expenses  pred_drinks_provided  \\\n",
       "0                 1.0                          0.9                   0.0   \n",
       "1                 1.0                          0.9                   0.2   \n",
       "2                 0.2                          0.6                   0.3   \n",
       "3                 0.9                          0.7                   0.8   \n",
       "4                 0.8                          0.7                   1.0   \n",
       "\n",
       "   pred_food_provided  pred_venue_niceness  pred_quietness  pred_uniqueness  \\\n",
       "0                 0.0                  0.8             0.7              0.6   \n",
       "1                 0.1                  0.8             0.6              0.7   \n",
       "2                 0.1                  0.9             0.8              0.9   \n",
       "3                 0.5                  0.7             0.4              0.6   \n",
       "4                 1.0                  0.9             0.6              0.8   \n",
       "\n",
       "   pred_proximity  scoring_features_metric  \n",
       "0             0.9               ✔️ [0.750]  \n",
       "1             1.0               ✔️ [0.750]  \n",
       "2             0.9               ✔️ [0.860]  \n",
       "3             0.9               ✔️ [0.630]  \n",
       "4             1.0               ✔️ [0.830]  \n",
       "\n",
       "[5 rows x 36 columns]"
      ]
     },
     "metadata": {},
     "output_type": "display_data"
    },
    {
     "data": {
      "text/plain": [
       "76.4"
      ]
     },
     "execution_count": 9,
     "metadata": {},
     "output_type": "execute_result"
    }
   ],
   "source": [
    "lm = dspy.LM(model=\"openai/gpt-4o-mini\")\n",
    "dspy.settings.configure(lm=lm)\n",
    "\n",
    "evaluate_correctness(scoring_features_extractor, devset=test_set)"
   ]
  },
  {
   "cell_type": "code",
   "execution_count": 10,
   "metadata": {},
   "outputs": [
    {
     "name": "stderr",
     "output_type": "stream",
     "text": [
      "2025/01/30 14:28:54 INFO dspy.teleprompt.mipro_optimizer_v2: \n",
      "RUNNING WITH THE FOLLOWING MEDIUM AUTO RUN SETTINGS:\n",
      "num_trials: 25\n",
      "minibatch: False\n",
      "num_candidates: 19\n",
      "valset size: 3\n",
      "\n",
      "2025/01/30 14:28:54 INFO dspy.teleprompt.mipro_optimizer_v2: \n",
      "==> STEP 1: BOOTSTRAP FEWSHOT EXAMPLES <==\n",
      "2025/01/30 14:28:54 INFO dspy.teleprompt.mipro_optimizer_v2: These will be used as few-shot example candidates for our program and for creating instructions.\n",
      "\n",
      "2025/01/30 14:28:54 INFO dspy.teleprompt.mipro_optimizer_v2: Bootstrapping N=19 sets of demonstrations...\n"
     ]
    },
    {
     "name": "stdout",
     "output_type": "stream",
     "text": [
      "Bootstrapping set 1/19\n",
      "Bootstrapping set 2/19\n",
      "Bootstrapping set 3/19\n"
     ]
    },
    {
     "name": "stderr",
     "output_type": "stream",
     "text": [
      "100%|██████████| 1/1 [00:05<00:00,  5.26s/it]\n"
     ]
    },
    {
     "name": "stdout",
     "output_type": "stream",
     "text": [
      "Bootstrapped 1 full traces after 0 examples for up to 1 rounds, amounting to 1 attempts.\n",
      "Bootstrapping set 4/19\n"
     ]
    },
    {
     "name": "stderr",
     "output_type": "stream",
     "text": [
      "100%|██████████| 1/1 [00:00<00:00, 496.43it/s]\n"
     ]
    },
    {
     "name": "stdout",
     "output_type": "stream",
     "text": [
      "Bootstrapped 1 full traces after 0 examples for up to 1 rounds, amounting to 1 attempts.\n",
      "Bootstrapping set 5/19\n"
     ]
    },
    {
     "name": "stderr",
     "output_type": "stream",
     "text": [
      "100%|██████████| 1/1 [00:00<00:00, 467.96it/s]\n"
     ]
    },
    {
     "name": "stdout",
     "output_type": "stream",
     "text": [
      "Bootstrapped 1 full traces after 0 examples for up to 1 rounds, amounting to 1 attempts.\n",
      "Bootstrapping set 6/19\n"
     ]
    },
    {
     "name": "stderr",
     "output_type": "stream",
     "text": [
      "100%|██████████| 1/1 [00:00<00:00, 174.55it/s]\n"
     ]
    },
    {
     "name": "stdout",
     "output_type": "stream",
     "text": [
      "Bootstrapped 1 full traces after 0 examples for up to 1 rounds, amounting to 1 attempts.\n",
      "Bootstrapping set 7/19\n"
     ]
    },
    {
     "name": "stderr",
     "output_type": "stream",
     "text": [
      "100%|██████████| 1/1 [00:00<00:00, 261.10it/s]\n"
     ]
    },
    {
     "name": "stdout",
     "output_type": "stream",
     "text": [
      "Bootstrapped 1 full traces after 0 examples for up to 1 rounds, amounting to 1 attempts.\n",
      "Bootstrapping set 8/19\n"
     ]
    },
    {
     "name": "stderr",
     "output_type": "stream",
     "text": [
      "100%|██████████| 1/1 [00:00<00:00, 421.41it/s]\n"
     ]
    },
    {
     "name": "stdout",
     "output_type": "stream",
     "text": [
      "Bootstrapped 1 full traces after 0 examples for up to 1 rounds, amounting to 1 attempts.\n",
      "Bootstrapping set 9/19\n"
     ]
    },
    {
     "name": "stderr",
     "output_type": "stream",
     "text": [
      "100%|██████████| 1/1 [00:00<00:00, 334.34it/s]\n"
     ]
    },
    {
     "name": "stdout",
     "output_type": "stream",
     "text": [
      "Bootstrapped 1 full traces after 0 examples for up to 1 rounds, amounting to 1 attempts.\n",
      "Bootstrapping set 10/19\n"
     ]
    },
    {
     "name": "stderr",
     "output_type": "stream",
     "text": [
      "100%|██████████| 1/1 [00:00<00:00, 402.02it/s]\n"
     ]
    },
    {
     "name": "stdout",
     "output_type": "stream",
     "text": [
      "Bootstrapped 1 full traces after 0 examples for up to 1 rounds, amounting to 1 attempts.\n",
      "Bootstrapping set 11/19\n"
     ]
    },
    {
     "name": "stderr",
     "output_type": "stream",
     "text": [
      "100%|██████████| 1/1 [00:00<00:00, 436.86it/s]\n"
     ]
    },
    {
     "name": "stdout",
     "output_type": "stream",
     "text": [
      "Bootstrapped 1 full traces after 0 examples for up to 1 rounds, amounting to 1 attempts.\n",
      "Bootstrapping set 12/19\n"
     ]
    },
    {
     "name": "stderr",
     "output_type": "stream",
     "text": [
      "100%|██████████| 1/1 [00:00<00:00, 412.62it/s]\n"
     ]
    },
    {
     "name": "stdout",
     "output_type": "stream",
     "text": [
      "Bootstrapped 1 full traces after 0 examples for up to 1 rounds, amounting to 1 attempts.\n",
      "Bootstrapping set 13/19\n"
     ]
    },
    {
     "name": "stderr",
     "output_type": "stream",
     "text": [
      "100%|██████████| 1/1 [00:00<00:00, 361.24it/s]\n"
     ]
    },
    {
     "name": "stdout",
     "output_type": "stream",
     "text": [
      "Bootstrapped 1 full traces after 0 examples for up to 1 rounds, amounting to 1 attempts.\n",
      "Bootstrapping set 14/19\n"
     ]
    },
    {
     "name": "stderr",
     "output_type": "stream",
     "text": [
      "100%|██████████| 1/1 [00:00<00:00, 350.34it/s]\n"
     ]
    },
    {
     "name": "stdout",
     "output_type": "stream",
     "text": [
      "Bootstrapped 1 full traces after 0 examples for up to 1 rounds, amounting to 1 attempts.\n",
      "Bootstrapping set 15/19\n"
     ]
    },
    {
     "name": "stderr",
     "output_type": "stream",
     "text": [
      "100%|██████████| 1/1 [00:00<00:00, 357.45it/s]\n"
     ]
    },
    {
     "name": "stdout",
     "output_type": "stream",
     "text": [
      "Bootstrapped 1 full traces after 0 examples for up to 1 rounds, amounting to 1 attempts.\n",
      "Bootstrapping set 16/19\n"
     ]
    },
    {
     "name": "stderr",
     "output_type": "stream",
     "text": [
      "100%|██████████| 1/1 [00:00<00:00, 206.77it/s]\n"
     ]
    },
    {
     "name": "stdout",
     "output_type": "stream",
     "text": [
      "Bootstrapped 1 full traces after 0 examples for up to 1 rounds, amounting to 1 attempts.\n",
      "Bootstrapping set 17/19\n"
     ]
    },
    {
     "name": "stderr",
     "output_type": "stream",
     "text": [
      "100%|██████████| 1/1 [00:00<00:00, 425.64it/s]\n"
     ]
    },
    {
     "name": "stdout",
     "output_type": "stream",
     "text": [
      "Bootstrapped 1 full traces after 0 examples for up to 1 rounds, amounting to 1 attempts.\n",
      "Bootstrapping set 18/19\n"
     ]
    },
    {
     "name": "stderr",
     "output_type": "stream",
     "text": [
      "100%|██████████| 1/1 [00:00<00:00, 396.36it/s]\n"
     ]
    },
    {
     "name": "stdout",
     "output_type": "stream",
     "text": [
      "Bootstrapped 1 full traces after 0 examples for up to 1 rounds, amounting to 1 attempts.\n",
      "Bootstrapping set 19/19\n"
     ]
    },
    {
     "name": "stderr",
     "output_type": "stream",
     "text": [
      "100%|██████████| 1/1 [00:00<00:00, 372.36it/s]\n",
      "2025/01/30 14:29:00 INFO dspy.teleprompt.mipro_optimizer_v2: \n",
      "==> STEP 2: PROPOSE INSTRUCTION CANDIDATES <==\n",
      "2025/01/30 14:29:00 INFO dspy.teleprompt.mipro_optimizer_v2: We will use the few-shot examples from the previous step, a generated dataset summary, a summary of the program code, and a randomly selected prompting tip to propose instructions.\n",
      "2025/01/30 14:29:00 INFO dspy.teleprompt.mipro_optimizer_v2: \n",
      "Proposing instructions...\n",
      "\n"
     ]
    },
    {
     "name": "stdout",
     "output_type": "stream",
     "text": [
      "Bootstrapped 1 full traces after 0 examples for up to 1 rounds, amounting to 1 attempts.\n"
     ]
    },
    {
     "name": "stderr",
     "output_type": "stream",
     "text": [
      "2025/01/30 14:29:36 INFO dspy.teleprompt.mipro_optimizer_v2: Proposed Instructions for Predictor 0:\n",
      "\n",
      "2025/01/30 14:29:36 INFO dspy.teleprompt.mipro_optimizer_v2: 0: Extract scoring features from event data.\n",
      "\n",
      "2025/01/30 14:29:36 INFO dspy.teleprompt.mipro_optimizer_v2: 1: Analyze the following event details and provide a comprehensive evaluation by extracting scoring features. Consider aspects such as the event's title, description, number of attendees, address, and guest list. Generate a rationale for your scoring and quantify the event based on the following criteria: non-commercial nature, popularity, admission cost, additional expenses, availability of drinks and food, venue quality, quietness, uniqueness, and proximity. Each feature should be rated on a scale from 0 to 1.\n",
      "\n",
      "2025/01/30 14:29:36 INFO dspy.teleprompt.mipro_optimizer_v2: 2: Analyze the provided event details and extract scoring features such as non-commercial nature, popularity, admission costs, additional expenses, provisions for drinks and food, venue quality, noise level, uniqueness, and proximity. Provide a comprehensive assessment based on these attributes.\n",
      "\n",
      "2025/01/30 14:29:36 INFO dspy.teleprompt.mipro_optimizer_v2: 3: Analyze the provided event details and extract scoring features such as non-commercial nature, popularity, admission costs, additional expenses, provisions for drinks and food, venue quality, noise level, uniqueness, and proximity. Provide a comprehensive assessment based on these attributes.\n",
      "\n",
      "2025/01/30 14:29:36 INFO dspy.teleprompt.mipro_optimizer_v2: 4: You are an event evaluator. Given the details of a B2B event, extract and score the following features: title, description, number of attendees, address, and guest list. Calculate scores for non-commercial nature, popularity, admission costs, additional expenses, provisions for drinks and food, venue quality, noise level, uniqueness, and proximity. Provide a rationale for your scoring decisions based on the event's attributes.\n",
      "\n",
      "2025/01/30 14:29:36 INFO dspy.teleprompt.mipro_optimizer_v2: 5: Imagine you are an event planner tasked with evaluating a series of B2B networking events for Pre-Seed and Seed stage founders and investors in New York City. Your goal is to provide a detailed assessment of each event's appeal and accessibility based on specific scoring features. For each event, please extract and score the following attributes: title, description, number of attendees, address, and guest list. Then, calculate the scores for non-commercial nature, popularity, admission costs, additional expenses, provisions for drinks and food, venue quality, noise level, uniqueness, and proximity. Use the provided event data to generate a comprehensive evaluation that will help potential attendees make informed decisions about which events to attend.\n",
      "\n",
      "2025/01/30 14:29:36 INFO dspy.teleprompt.mipro_optimizer_v2: 6: Analyze the provided event details and extract scoring features such as non-commercial nature, popularity, admission costs, additional expenses, provisions for drinks and food, venue quality, noise level, uniqueness, and proximity. Provide a comprehensive assessment based on these attributes.\n",
      "\n",
      "2025/01/30 14:29:36 INFO dspy.teleprompt.mipro_optimizer_v2: 7: Please analyze the provided event details and extract scoring features related to its overall appeal and accessibility. Focus on evaluating the event's title, description, number of attendees, address, and guest list. Calculate scores for the following factors: non-commercial nature, popularity, admission costs, additional expenses, provisions for drinks and food, venue quality, noise level, uniqueness, and proximity. Provide a comprehensive assessment that helps potential attendees gauge the event's suitability and attractiveness.\n",
      "\n",
      "2025/01/30 14:29:36 INFO dspy.teleprompt.mipro_optimizer_v2: 8: You are an event evaluator. Given the details of a B2B event, extract and score the following features: title, description, number of attendees, address, and guest list. Calculate scores for non-commercial nature, popularity, admission costs, additional expenses, provisions for drinks and food, venue quality, noise level, uniqueness, and proximity. Provide a rationale for your scoring decisions based on the event's attributes.\n",
      "\n",
      "2025/01/30 14:29:36 INFO dspy.teleprompt.mipro_optimizer_v2: 9: Analyze the following event details and extract key scoring features that capture the event's appeal and accessibility. Provide a comprehensive assessment based on the title, description, number of attendees, address, and guest list, focusing on factors such as non-commercial nature, popularity, admission costs, additional expenses, provisions for drinks and food, venue quality, noise level, uniqueness, and proximity.\n",
      "\n",
      "2025/01/30 14:29:36 INFO dspy.teleprompt.mipro_optimizer_v2: 10: Please analyze the provided event details and extract scoring features related to its overall appeal and accessibility. Focus on evaluating the event's title, description, number of attendees, address, and guest list. Calculate scores for the following factors: non-commercial nature, popularity, admission costs, additional expenses, provisions for drinks and food, venue quality, noise level, uniqueness, and proximity. Provide a comprehensive assessment that helps potential attendees gauge the event's suitability and attractiveness.\n",
      "\n",
      "2025/01/30 14:29:36 INFO dspy.teleprompt.mipro_optimizer_v2: 11: You are an event evaluator. Given the details of a B2B event, extract and score the following features: title, description, number of attendees, address, and guest list. Calculate scores for non-commercial nature, popularity, admission costs, additional expenses, provisions for drinks and food, venue quality, noise level, uniqueness, and proximity. Provide a rationale for your scoring decisions based on the event's attributes.\n",
      "\n",
      "2025/01/30 14:29:36 INFO dspy.teleprompt.mipro_optimizer_v2: 12: Analyze the provided event details and extract scoring features such as non-commercial nature, popularity, admission costs, additional expenses, provisions for drinks and food, venue quality, noise level, uniqueness, and proximity. Provide a comprehensive assessment based on these attributes.\n",
      "\n",
      "2025/01/30 14:29:36 INFO dspy.teleprompt.mipro_optimizer_v2: 13: Imagine you are an event planner tasked with evaluating a series of B2B networking events for Pre-Seed and Seed stage founders and investors in New York City. Your goal is to provide a detailed assessment of each event's appeal and accessibility based on specific scoring features. For each event, please extract and score the following attributes: title, description, number of attendees, address, and guest list. Then, calculate the scores for non-commercial nature, popularity, admission costs, additional expenses, provisions for drinks and food, venue quality, noise level, uniqueness, and proximity. Use the provided event data to generate a comprehensive evaluation that will help potential attendees make informed decisions about which events to attend.\n",
      "\n",
      "2025/01/30 14:29:36 INFO dspy.teleprompt.mipro_optimizer_v2: 14: Analyze the following event details and extract key scoring features that capture the event's appeal and accessibility. Provide a comprehensive assessment based on the title, description, number of attendees, address, and guest list, focusing on factors such as non-commercial nature, popularity, admission costs, additional expenses, provisions for drinks and food, venue quality, noise level, uniqueness, and proximity.\n",
      "\n",
      "2025/01/30 14:29:36 INFO dspy.teleprompt.mipro_optimizer_v2: 15: Please analyze the provided event details and extract scoring features related to its overall appeal and accessibility. Focus on evaluating the event's title, description, number of attendees, address, and guest list. Calculate scores for the following factors: non-commercial nature, popularity, admission costs, additional expenses, provisions for drinks and food, venue quality, noise level, uniqueness, and proximity. Provide a comprehensive assessment that helps potential attendees gauge the event's suitability and attractiveness.\n",
      "\n",
      "2025/01/30 14:29:36 INFO dspy.teleprompt.mipro_optimizer_v2: 16: Please analyze the provided event details and extract scoring features related to its overall appeal and accessibility. Focus on evaluating the event's title, description, number of attendees, address, and guest list. Calculate scores for the following factors: non-commercial nature, popularity, admission costs, additional expenses, provisions for drinks and food, venue quality, noise level, uniqueness, and proximity. Provide a comprehensive assessment that helps potential attendees gauge the event's suitability and attractiveness.\n",
      "\n",
      "2025/01/30 14:29:36 INFO dspy.teleprompt.mipro_optimizer_v2: 17: Imagine you are an event planner tasked with evaluating a series of B2B networking events for Pre-Seed and Seed stage founders and investors in New York City. Your goal is to provide a detailed assessment of each event's appeal and accessibility based on specific scoring features. For each event, please extract and score the following attributes: title, description, number of attendees, address, and guest list. Then, calculate the scores for non-commercial nature, popularity, admission costs, additional expenses, provisions for drinks and food, venue quality, noise level, uniqueness, and proximity. Use the provided event data to generate a comprehensive evaluation that will help potential attendees make informed decisions about which events to attend.\n",
      "\n",
      "2025/01/30 14:29:36 INFO dspy.teleprompt.mipro_optimizer_v2: 18: Analyze the following event details and extract key scoring features that capture the event's appeal and accessibility. Provide a comprehensive assessment based on the title, description, number of attendees, address, and guest list, focusing on factors such as non-commercial nature, popularity, admission costs, additional expenses, provisions for drinks and food, venue quality, noise level, uniqueness, and proximity.\n",
      "\n",
      "2025/01/30 14:29:36 INFO dspy.teleprompt.mipro_optimizer_v2: \n",
      "\n",
      "2025/01/30 14:29:36 INFO dspy.teleprompt.mipro_optimizer_v2: Evaluating the default program...\n",
      "\n"
     ]
    },
    {
     "name": "stdout",
     "output_type": "stream",
     "text": [
      "Average Metric: 2.21 / 3 (73.7%): 100%|██████████| 3/3 [00:04<00:00,  1.52s/it]"
     ]
    },
    {
     "name": "stderr",
     "output_type": "stream",
     "text": [
      "2025/01/30 14:29:40 INFO dspy.evaluate.evaluate: Average Metric: 2.21 / 3 (73.7%)\n",
      "2025/01/30 14:29:40 INFO dspy.teleprompt.mipro_optimizer_v2: Default program score: 73.67\n",
      "\n",
      "2025/01/30 14:29:40 INFO dspy.teleprompt.mipro_optimizer_v2: ==> STEP 3: FINDING OPTIMAL PROMPT PARAMETERS <==\n",
      "2025/01/30 14:29:40 INFO dspy.teleprompt.mipro_optimizer_v2: We will evaluate the program over a series of trials with different combinations of instructions and few-shot examples to find the optimal combination using Bayesian Optimization.\n",
      "\n",
      "/home/izlobin/.local/lib/python3.10/site-packages/optuna/_experimental.py:31: ExperimentalWarning: Argument ``multivariate`` is an experimental feature. The interface can change in the future.\n",
      "  warnings.warn(\n",
      "2025/01/30 14:29:40 INFO dspy.teleprompt.mipro_optimizer_v2: ===== Trial 1 / 25 =====\n"
     ]
    },
    {
     "name": "stdout",
     "output_type": "stream",
     "text": [
      "\n",
      "Average Metric: 2.18 / 3 (72.7%): 100%|██████████| 3/3 [00:04<00:00,  1.47s/it]"
     ]
    },
    {
     "name": "stderr",
     "output_type": "stream",
     "text": [
      "2025/01/30 14:29:45 INFO dspy.evaluate.evaluate: Average Metric: 2.1799999999999997 / 3 (72.7%)\n",
      "2025/01/30 14:29:45 INFO dspy.teleprompt.mipro_optimizer_v2: Score: 72.67 with parameters ['Predictor 0: Instruction 13', 'Predictor 0: Few-Shot Set 2'].\n",
      "2025/01/30 14:29:45 INFO dspy.teleprompt.mipro_optimizer_v2: Scores so far: [73.67, 72.67]\n",
      "2025/01/30 14:29:45 INFO dspy.teleprompt.mipro_optimizer_v2: Best score so far: 73.67\n",
      "2025/01/30 14:29:45 INFO dspy.teleprompt.mipro_optimizer_v2: ========================\n",
      "\n",
      "\n",
      "2025/01/30 14:29:45 INFO dspy.teleprompt.mipro_optimizer_v2: ===== Trial 2 / 25 =====\n"
     ]
    },
    {
     "name": "stdout",
     "output_type": "stream",
     "text": [
      "\n",
      "Average Metric: 2.18 / 3 (72.7%): 100%|██████████| 3/3 [00:04<00:00,  1.51s/it]"
     ]
    },
    {
     "name": "stderr",
     "output_type": "stream",
     "text": [
      "2025/01/30 14:29:49 INFO dspy.evaluate.evaluate: Average Metric: 2.1799999999999997 / 3 (72.7%)\n",
      "2025/01/30 14:29:49 INFO dspy.teleprompt.mipro_optimizer_v2: Score: 72.67 with parameters ['Predictor 0: Instruction 2', 'Predictor 0: Few-Shot Set 11'].\n",
      "2025/01/30 14:29:49 INFO dspy.teleprompt.mipro_optimizer_v2: Scores so far: [73.67, 72.67, 72.67]\n",
      "2025/01/30 14:29:49 INFO dspy.teleprompt.mipro_optimizer_v2: Best score so far: 73.67\n",
      "2025/01/30 14:29:49 INFO dspy.teleprompt.mipro_optimizer_v2: ========================\n",
      "\n",
      "\n",
      "2025/01/30 14:29:49 INFO dspy.teleprompt.mipro_optimizer_v2: ===== Trial 3 / 25 =====\n"
     ]
    },
    {
     "name": "stdout",
     "output_type": "stream",
     "text": [
      "\n",
      "Average Metric: 2.17 / 3 (72.3%): 100%|██████████| 3/3 [00:04<00:00,  1.39s/it]"
     ]
    },
    {
     "name": "stderr",
     "output_type": "stream",
     "text": [
      "2025/01/30 14:29:54 INFO dspy.evaluate.evaluate: Average Metric: 2.17 / 3 (72.3%)\n",
      "2025/01/30 14:29:54 INFO dspy.teleprompt.mipro_optimizer_v2: Score: 72.33 with parameters ['Predictor 0: Instruction 11', 'Predictor 0: Few-Shot Set 14'].\n",
      "2025/01/30 14:29:54 INFO dspy.teleprompt.mipro_optimizer_v2: Scores so far: [73.67, 72.67, 72.67, 72.33]\n",
      "2025/01/30 14:29:54 INFO dspy.teleprompt.mipro_optimizer_v2: Best score so far: 73.67\n",
      "2025/01/30 14:29:54 INFO dspy.teleprompt.mipro_optimizer_v2: ========================\n",
      "\n",
      "\n",
      "2025/01/30 14:29:54 INFO dspy.teleprompt.mipro_optimizer_v2: ===== Trial 4 / 25 =====\n"
     ]
    },
    {
     "name": "stdout",
     "output_type": "stream",
     "text": [
      "\n",
      "Average Metric: 2.18 / 3 (72.7%): 100%|██████████| 3/3 [00:00<00:00, 2358.12it/s]"
     ]
    },
    {
     "name": "stderr",
     "output_type": "stream",
     "text": [
      "2025/01/30 14:29:54 INFO dspy.evaluate.evaluate: Average Metric: 2.1799999999999997 / 3 (72.7%)\n",
      "2025/01/30 14:29:54 INFO dspy.teleprompt.mipro_optimizer_v2: Score: 72.67 with parameters ['Predictor 0: Instruction 17', 'Predictor 0: Few-Shot Set 18'].\n",
      "2025/01/30 14:29:54 INFO dspy.teleprompt.mipro_optimizer_v2: Scores so far: [73.67, 72.67, 72.67, 72.33, 72.67]\n",
      "2025/01/30 14:29:54 INFO dspy.teleprompt.mipro_optimizer_v2: Best score so far: 73.67\n",
      "2025/01/30 14:29:54 INFO dspy.teleprompt.mipro_optimizer_v2: ========================\n",
      "\n",
      "\n",
      "2025/01/30 14:29:54 INFO dspy.teleprompt.mipro_optimizer_v2: ===== Trial 5 / 25 =====\n"
     ]
    },
    {
     "name": "stdout",
     "output_type": "stream",
     "text": [
      "\n",
      "Average Metric: 2.11 / 3 (70.3%): 100%|██████████| 3/3 [00:04<00:00,  1.34s/it]"
     ]
    },
    {
     "name": "stderr",
     "output_type": "stream",
     "text": [
      "2025/01/30 14:29:58 INFO dspy.evaluate.evaluate: Average Metric: 2.11 / 3 (70.3%)\n",
      "2025/01/30 14:29:58 INFO dspy.teleprompt.mipro_optimizer_v2: Score: 70.33 with parameters ['Predictor 0: Instruction 6', 'Predictor 0: Few-Shot Set 0'].\n",
      "2025/01/30 14:29:58 INFO dspy.teleprompt.mipro_optimizer_v2: Scores so far: [73.67, 72.67, 72.67, 72.33, 72.67, 70.33]\n",
      "2025/01/30 14:29:58 INFO dspy.teleprompt.mipro_optimizer_v2: Best score so far: 73.67\n",
      "2025/01/30 14:29:58 INFO dspy.teleprompt.mipro_optimizer_v2: ========================\n",
      "\n",
      "\n",
      "2025/01/30 14:29:58 INFO dspy.teleprompt.mipro_optimizer_v2: ===== Trial 6 / 25 =====\n"
     ]
    },
    {
     "name": "stdout",
     "output_type": "stream",
     "text": [
      "\n",
      "Average Metric: 2.19 / 3 (73.0%): 100%|██████████| 3/3 [00:03<00:00,  1.26s/it]"
     ]
    },
    {
     "name": "stderr",
     "output_type": "stream",
     "text": [
      "2025/01/30 14:30:01 INFO dspy.evaluate.evaluate: Average Metric: 2.19 / 3 (73.0%)\n",
      "2025/01/30 14:30:01 INFO dspy.teleprompt.mipro_optimizer_v2: Score: 73.0 with parameters ['Predictor 0: Instruction 10', 'Predictor 0: Few-Shot Set 2'].\n",
      "2025/01/30 14:30:01 INFO dspy.teleprompt.mipro_optimizer_v2: Scores so far: [73.67, 72.67, 72.67, 72.33, 72.67, 70.33, 73.0]\n",
      "2025/01/30 14:30:01 INFO dspy.teleprompt.mipro_optimizer_v2: Best score so far: 73.67\n",
      "2025/01/30 14:30:01 INFO dspy.teleprompt.mipro_optimizer_v2: ========================\n",
      "\n",
      "\n",
      "2025/01/30 14:30:01 INFO dspy.teleprompt.mipro_optimizer_v2: ===== Trial 7 / 25 =====\n"
     ]
    },
    {
     "name": "stdout",
     "output_type": "stream",
     "text": [
      "\n",
      "Average Metric: 2.16 / 3 (72.0%): 100%|██████████| 3/3 [00:03<00:00,  1.31s/it]"
     ]
    },
    {
     "name": "stderr",
     "output_type": "stream",
     "text": [
      "2025/01/30 14:30:05 INFO dspy.evaluate.evaluate: Average Metric: 2.1599999999999997 / 3 (72.0%)\n",
      "2025/01/30 14:30:05 INFO dspy.teleprompt.mipro_optimizer_v2: Score: 72.0 with parameters ['Predictor 0: Instruction 1', 'Predictor 0: Few-Shot Set 4'].\n",
      "2025/01/30 14:30:05 INFO dspy.teleprompt.mipro_optimizer_v2: Scores so far: [73.67, 72.67, 72.67, 72.33, 72.67, 70.33, 73.0, 72.0]\n",
      "2025/01/30 14:30:05 INFO dspy.teleprompt.mipro_optimizer_v2: Best score so far: 73.67\n",
      "2025/01/30 14:30:05 INFO dspy.teleprompt.mipro_optimizer_v2: ========================\n",
      "\n",
      "\n",
      "2025/01/30 14:30:05 INFO dspy.teleprompt.mipro_optimizer_v2: ===== Trial 8 / 25 =====\n"
     ]
    },
    {
     "name": "stdout",
     "output_type": "stream",
     "text": [
      "\n",
      "Average Metric: 2.17 / 3 (72.3%): 100%|██████████| 3/3 [00:00<00:00, 2544.57it/s]"
     ]
    },
    {
     "name": "stderr",
     "output_type": "stream",
     "text": [
      "2025/01/30 14:30:05 INFO dspy.evaluate.evaluate: Average Metric: 2.17 / 3 (72.3%)\n",
      "2025/01/30 14:30:05 INFO dspy.teleprompt.mipro_optimizer_v2: Score: 72.33 with parameters ['Predictor 0: Instruction 8', 'Predictor 0: Few-Shot Set 13'].\n",
      "2025/01/30 14:30:05 INFO dspy.teleprompt.mipro_optimizer_v2: Scores so far: [73.67, 72.67, 72.67, 72.33, 72.67, 70.33, 73.0, 72.0, 72.33]\n",
      "2025/01/30 14:30:05 INFO dspy.teleprompt.mipro_optimizer_v2: Best score so far: 73.67\n",
      "2025/01/30 14:30:05 INFO dspy.teleprompt.mipro_optimizer_v2: ========================\n",
      "\n",
      "\n",
      "2025/01/30 14:30:05 INFO dspy.teleprompt.mipro_optimizer_v2: ===== Trial 9 / 25 =====\n"
     ]
    },
    {
     "name": "stdout",
     "output_type": "stream",
     "text": [
      "\n",
      "Average Metric: 2.18 / 3 (72.7%): 100%|██████████| 3/3 [00:00<00:00, 1555.75it/s]"
     ]
    },
    {
     "name": "stderr",
     "output_type": "stream",
     "text": [
      "2025/01/30 14:30:05 INFO dspy.evaluate.evaluate: Average Metric: 2.1799999999999997 / 3 (72.7%)\n",
      "2025/01/30 14:30:05 INFO dspy.teleprompt.mipro_optimizer_v2: Score: 72.67 with parameters ['Predictor 0: Instruction 6', 'Predictor 0: Few-Shot Set 18'].\n",
      "2025/01/30 14:30:05 INFO dspy.teleprompt.mipro_optimizer_v2: Scores so far: [73.67, 72.67, 72.67, 72.33, 72.67, 70.33, 73.0, 72.0, 72.33, 72.67]\n",
      "2025/01/30 14:30:05 INFO dspy.teleprompt.mipro_optimizer_v2: Best score so far: 73.67\n",
      "2025/01/30 14:30:05 INFO dspy.teleprompt.mipro_optimizer_v2: ========================\n",
      "\n",
      "\n",
      "2025/01/30 14:30:05 INFO dspy.teleprompt.mipro_optimizer_v2: ===== Trial 10 / 25 =====\n"
     ]
    },
    {
     "name": "stdout",
     "output_type": "stream",
     "text": [
      "\n",
      "Average Metric: 2.18 / 3 (72.7%): 100%|██████████| 3/3 [00:00<00:00, 823.33it/s] "
     ]
    },
    {
     "name": "stderr",
     "output_type": "stream",
     "text": [
      "2025/01/30 14:30:05 INFO dspy.evaluate.evaluate: Average Metric: 2.1799999999999997 / 3 (72.7%)\n",
      "2025/01/30 14:30:05 INFO dspy.teleprompt.mipro_optimizer_v2: Score: 72.67 with parameters ['Predictor 0: Instruction 17', 'Predictor 0: Few-Shot Set 5'].\n",
      "2025/01/30 14:30:05 INFO dspy.teleprompt.mipro_optimizer_v2: Scores so far: [73.67, 72.67, 72.67, 72.33, 72.67, 70.33, 73.0, 72.0, 72.33, 72.67, 72.67]\n",
      "2025/01/30 14:30:05 INFO dspy.teleprompt.mipro_optimizer_v2: Best score so far: 73.67\n",
      "2025/01/30 14:30:05 INFO dspy.teleprompt.mipro_optimizer_v2: =========================\n",
      "\n",
      "\n",
      "2025/01/30 14:30:05 INFO dspy.teleprompt.mipro_optimizer_v2: ===== Trial 11 / 25 =====\n"
     ]
    },
    {
     "name": "stdout",
     "output_type": "stream",
     "text": [
      "\n",
      "Average Metric: 2.19 / 3 (73.0%): 100%|██████████| 3/3 [00:00<00:00, 2085.68it/s]"
     ]
    },
    {
     "name": "stderr",
     "output_type": "stream",
     "text": [
      "2025/01/30 14:30:05 INFO dspy.evaluate.evaluate: Average Metric: 2.19 / 3 (73.0%)\n",
      "2025/01/30 14:30:05 INFO dspy.teleprompt.mipro_optimizer_v2: Score: 73.0 with parameters ['Predictor 0: Instruction 10', 'Predictor 0: Few-Shot Set 2'].\n",
      "2025/01/30 14:30:05 INFO dspy.teleprompt.mipro_optimizer_v2: Scores so far: [73.67, 72.67, 72.67, 72.33, 72.67, 70.33, 73.0, 72.0, 72.33, 72.67, 72.67, 73.0]\n",
      "2025/01/30 14:30:05 INFO dspy.teleprompt.mipro_optimizer_v2: Best score so far: 73.67\n",
      "2025/01/30 14:30:05 INFO dspy.teleprompt.mipro_optimizer_v2: =========================\n",
      "\n",
      "\n",
      "2025/01/30 14:30:05 INFO dspy.teleprompt.mipro_optimizer_v2: ===== Trial 12 / 25 =====\n"
     ]
    },
    {
     "name": "stdout",
     "output_type": "stream",
     "text": [
      "\n",
      "Average Metric: 2.19 / 3 (73.0%): 100%|██████████| 3/3 [00:00<00:00, 2813.08it/s]"
     ]
    },
    {
     "name": "stderr",
     "output_type": "stream",
     "text": [
      "2025/01/30 14:30:05 INFO dspy.evaluate.evaluate: Average Metric: 2.19 / 3 (73.0%)\n",
      "2025/01/30 14:30:05 INFO dspy.teleprompt.mipro_optimizer_v2: Score: 73.0 with parameters ['Predictor 0: Instruction 10', 'Predictor 0: Few-Shot Set 8'].\n",
      "2025/01/30 14:30:05 INFO dspy.teleprompt.mipro_optimizer_v2: Scores so far: [73.67, 72.67, 72.67, 72.33, 72.67, 70.33, 73.0, 72.0, 72.33, 72.67, 72.67, 73.0, 73.0]\n",
      "2025/01/30 14:30:05 INFO dspy.teleprompt.mipro_optimizer_v2: Best score so far: 73.67\n",
      "2025/01/30 14:30:05 INFO dspy.teleprompt.mipro_optimizer_v2: =========================\n",
      "\n",
      "\n",
      "2025/01/30 14:30:05 INFO dspy.teleprompt.mipro_optimizer_v2: ===== Trial 13 / 25 =====\n"
     ]
    },
    {
     "name": "stdout",
     "output_type": "stream",
     "text": [
      "\n",
      "Average Metric: 2.19 / 3 (73.0%): 100%|██████████| 3/3 [00:00<00:00, 2310.06it/s]"
     ]
    },
    {
     "name": "stderr",
     "output_type": "stream",
     "text": [
      "2025/01/30 14:30:05 INFO dspy.evaluate.evaluate: Average Metric: 2.19 / 3 (73.0%)\n",
      "2025/01/30 14:30:05 INFO dspy.teleprompt.mipro_optimizer_v2: Score: 73.0 with parameters ['Predictor 0: Instruction 10', 'Predictor 0: Few-Shot Set 2'].\n",
      "2025/01/30 14:30:05 INFO dspy.teleprompt.mipro_optimizer_v2: Scores so far: [73.67, 72.67, 72.67, 72.33, 72.67, 70.33, 73.0, 72.0, 72.33, 72.67, 72.67, 73.0, 73.0, 73.0]\n",
      "2025/01/30 14:30:05 INFO dspy.teleprompt.mipro_optimizer_v2: Best score so far: 73.67\n",
      "2025/01/30 14:30:05 INFO dspy.teleprompt.mipro_optimizer_v2: =========================\n",
      "\n",
      "\n",
      "2025/01/30 14:30:05 INFO dspy.teleprompt.mipro_optimizer_v2: ===== Trial 14 / 25 =====\n"
     ]
    },
    {
     "name": "stdout",
     "output_type": "stream",
     "text": [
      "\n",
      "Average Metric: 2.22 / 3 (74.0%): 100%|██████████| 3/3 [00:04<00:00,  1.45s/it]"
     ]
    },
    {
     "name": "stderr",
     "output_type": "stream",
     "text": [
      "2025/01/30 14:30:10 INFO dspy.evaluate.evaluate: Average Metric: 2.2199999999999998 / 3 (74.0%)\n",
      "2025/01/30 14:30:10 INFO dspy.teleprompt.mipro_optimizer_v2: \u001b[92mBest full score so far!\u001b[0m Score: 74.0\n",
      "2025/01/30 14:30:10 INFO dspy.teleprompt.mipro_optimizer_v2: Score: 74.0 with parameters ['Predictor 0: Instruction 9', 'Predictor 0: Few-Shot Set 2'].\n",
      "2025/01/30 14:30:10 INFO dspy.teleprompt.mipro_optimizer_v2: Scores so far: [73.67, 72.67, 72.67, 72.33, 72.67, 70.33, 73.0, 72.0, 72.33, 72.67, 72.67, 73.0, 73.0, 73.0, 74.0]\n",
      "2025/01/30 14:30:10 INFO dspy.teleprompt.mipro_optimizer_v2: Best score so far: 74.0\n",
      "2025/01/30 14:30:10 INFO dspy.teleprompt.mipro_optimizer_v2: =========================\n",
      "\n",
      "\n",
      "2025/01/30 14:30:10 INFO dspy.teleprompt.mipro_optimizer_v2: ===== Trial 15 / 25 =====\n"
     ]
    },
    {
     "name": "stdout",
     "output_type": "stream",
     "text": [
      "\n",
      "Average Metric: 2.22 / 3 (74.0%): 100%|██████████| 3/3 [00:00<00:00, 1736.29it/s]"
     ]
    },
    {
     "name": "stderr",
     "output_type": "stream",
     "text": [
      "2025/01/30 14:30:10 INFO dspy.evaluate.evaluate: Average Metric: 2.2199999999999998 / 3 (74.0%)\n",
      "2025/01/30 14:30:10 INFO dspy.teleprompt.mipro_optimizer_v2: Score: 74.0 with parameters ['Predictor 0: Instruction 9', 'Predictor 0: Few-Shot Set 8'].\n",
      "2025/01/30 14:30:10 INFO dspy.teleprompt.mipro_optimizer_v2: Scores so far: [73.67, 72.67, 72.67, 72.33, 72.67, 70.33, 73.0, 72.0, 72.33, 72.67, 72.67, 73.0, 73.0, 73.0, 74.0, 74.0]\n",
      "2025/01/30 14:30:10 INFO dspy.teleprompt.mipro_optimizer_v2: Best score so far: 74.0\n",
      "2025/01/30 14:30:10 INFO dspy.teleprompt.mipro_optimizer_v2: =========================\n",
      "\n",
      "\n",
      "2025/01/30 14:30:10 INFO dspy.teleprompt.mipro_optimizer_v2: ===== Trial 16 / 25 =====\n"
     ]
    },
    {
     "name": "stdout",
     "output_type": "stream",
     "text": [
      "\n",
      "Average Metric: 2.17 / 3 (72.3%): 100%|██████████| 3/3 [00:09<00:00,  3.24s/it]"
     ]
    },
    {
     "name": "stderr",
     "output_type": "stream",
     "text": [
      "2025/01/30 14:30:20 INFO dspy.evaluate.evaluate: Average Metric: 2.17 / 3 (72.3%)\n",
      "2025/01/30 14:30:20 INFO dspy.teleprompt.mipro_optimizer_v2: Score: 72.33 with parameters ['Predictor 0: Instruction 9', 'Predictor 0: Few-Shot Set 0'].\n",
      "2025/01/30 14:30:20 INFO dspy.teleprompt.mipro_optimizer_v2: Scores so far: [73.67, 72.67, 72.67, 72.33, 72.67, 70.33, 73.0, 72.0, 72.33, 72.67, 72.67, 73.0, 73.0, 73.0, 74.0, 74.0, 72.33]\n",
      "2025/01/30 14:30:20 INFO dspy.teleprompt.mipro_optimizer_v2: Best score so far: 74.0\n",
      "2025/01/30 14:30:20 INFO dspy.teleprompt.mipro_optimizer_v2: =========================\n",
      "\n",
      "\n",
      "2025/01/30 14:30:20 INFO dspy.teleprompt.mipro_optimizer_v2: ===== Trial 17 / 25 =====\n"
     ]
    },
    {
     "name": "stdout",
     "output_type": "stream",
     "text": [
      "\n",
      "Average Metric: 2.22 / 3 (74.0%): 100%|██████████| 3/3 [00:00<00:00, 2690.96it/s]"
     ]
    },
    {
     "name": "stderr",
     "output_type": "stream",
     "text": [
      "2025/01/30 14:30:20 INFO dspy.evaluate.evaluate: Average Metric: 2.2199999999999998 / 3 (74.0%)\n",
      "2025/01/30 14:30:20 INFO dspy.teleprompt.mipro_optimizer_v2: Score: 74.0 with parameters ['Predictor 0: Instruction 9', 'Predictor 0: Few-Shot Set 15'].\n",
      "2025/01/30 14:30:20 INFO dspy.teleprompt.mipro_optimizer_v2: Scores so far: [73.67, 72.67, 72.67, 72.33, 72.67, 70.33, 73.0, 72.0, 72.33, 72.67, 72.67, 73.0, 73.0, 73.0, 74.0, 74.0, 72.33, 74.0]\n",
      "2025/01/30 14:30:20 INFO dspy.teleprompt.mipro_optimizer_v2: Best score so far: 74.0\n",
      "2025/01/30 14:30:20 INFO dspy.teleprompt.mipro_optimizer_v2: =========================\n",
      "\n",
      "\n",
      "2025/01/30 14:30:20 INFO dspy.teleprompt.mipro_optimizer_v2: ===== Trial 18 / 25 =====\n"
     ]
    },
    {
     "name": "stdout",
     "output_type": "stream",
     "text": [
      "\n",
      "Average Metric: 2.22 / 3 (74.0%): 100%|██████████| 3/3 [00:00<00:00, 2252.58it/s]"
     ]
    },
    {
     "name": "stderr",
     "output_type": "stream",
     "text": [
      "2025/01/30 14:30:20 INFO dspy.evaluate.evaluate: Average Metric: 2.2199999999999998 / 3 (74.0%)\n",
      "2025/01/30 14:30:20 INFO dspy.teleprompt.mipro_optimizer_v2: Score: 74.0 with parameters ['Predictor 0: Instruction 9', 'Predictor 0: Few-Shot Set 8'].\n",
      "2025/01/30 14:30:20 INFO dspy.teleprompt.mipro_optimizer_v2: Scores so far: [73.67, 72.67, 72.67, 72.33, 72.67, 70.33, 73.0, 72.0, 72.33, 72.67, 72.67, 73.0, 73.0, 73.0, 74.0, 74.0, 72.33, 74.0, 74.0]\n",
      "2025/01/30 14:30:20 INFO dspy.teleprompt.mipro_optimizer_v2: Best score so far: 74.0\n",
      "2025/01/30 14:30:20 INFO dspy.teleprompt.mipro_optimizer_v2: =========================\n",
      "\n",
      "\n",
      "2025/01/30 14:30:20 INFO dspy.teleprompt.mipro_optimizer_v2: ===== Trial 19 / 25 =====\n"
     ]
    },
    {
     "name": "stdout",
     "output_type": "stream",
     "text": [
      "\n",
      "Average Metric: 2.18 / 3 (72.7%): 100%|██████████| 3/3 [00:00<00:00, 1104.05it/s]"
     ]
    },
    {
     "name": "stderr",
     "output_type": "stream",
     "text": [
      "2025/01/30 14:30:20 INFO dspy.evaluate.evaluate: Average Metric: 2.1799999999999997 / 3 (72.7%)\n",
      "2025/01/30 14:30:20 INFO dspy.teleprompt.mipro_optimizer_v2: Score: 72.67 with parameters ['Predictor 0: Instruction 12', 'Predictor 0: Few-Shot Set 3'].\n",
      "2025/01/30 14:30:20 INFO dspy.teleprompt.mipro_optimizer_v2: Scores so far: [73.67, 72.67, 72.67, 72.33, 72.67, 70.33, 73.0, 72.0, 72.33, 72.67, 72.67, 73.0, 73.0, 73.0, 74.0, 74.0, 72.33, 74.0, 74.0, 72.67]\n",
      "2025/01/30 14:30:20 INFO dspy.teleprompt.mipro_optimizer_v2: Best score so far: 74.0\n",
      "2025/01/30 14:30:20 INFO dspy.teleprompt.mipro_optimizer_v2: =========================\n",
      "\n",
      "\n",
      "2025/01/30 14:30:20 INFO dspy.teleprompt.mipro_optimizer_v2: ===== Trial 20 / 25 =====\n"
     ]
    },
    {
     "name": "stdout",
     "output_type": "stream",
     "text": [
      "\n",
      "Average Metric: 2.22 / 3 (74.0%): 100%|██████████| 3/3 [00:00<00:00, 2073.31it/s]"
     ]
    },
    {
     "name": "stderr",
     "output_type": "stream",
     "text": [
      "2025/01/30 14:30:20 INFO dspy.evaluate.evaluate: Average Metric: 2.2199999999999998 / 3 (74.0%)\n",
      "2025/01/30 14:30:20 INFO dspy.teleprompt.mipro_optimizer_v2: Score: 74.0 with parameters ['Predictor 0: Instruction 14', 'Predictor 0: Few-Shot Set 17'].\n",
      "2025/01/30 14:30:20 INFO dspy.teleprompt.mipro_optimizer_v2: Scores so far: [73.67, 72.67, 72.67, 72.33, 72.67, 70.33, 73.0, 72.0, 72.33, 72.67, 72.67, 73.0, 73.0, 73.0, 74.0, 74.0, 72.33, 74.0, 74.0, 72.67, 74.0]\n",
      "2025/01/30 14:30:20 INFO dspy.teleprompt.mipro_optimizer_v2: Best score so far: 74.0\n",
      "2025/01/30 14:30:20 INFO dspy.teleprompt.mipro_optimizer_v2: =========================\n",
      "\n",
      "\n",
      "2025/01/30 14:30:20 INFO dspy.teleprompt.mipro_optimizer_v2: ===== Trial 21 / 25 =====\n"
     ]
    },
    {
     "name": "stdout",
     "output_type": "stream",
     "text": [
      "\n",
      "Average Metric: 2.19 / 3 (73.0%): 100%|██████████| 3/3 [00:00<00:00, 1563.09it/s]"
     ]
    },
    {
     "name": "stderr",
     "output_type": "stream",
     "text": [
      "2025/01/30 14:30:20 INFO dspy.evaluate.evaluate: Average Metric: 2.19 / 3 (73.0%)\n",
      "2025/01/30 14:30:20 INFO dspy.teleprompt.mipro_optimizer_v2: Score: 73.0 with parameters ['Predictor 0: Instruction 7', 'Predictor 0: Few-Shot Set 7'].\n",
      "2025/01/30 14:30:20 INFO dspy.teleprompt.mipro_optimizer_v2: Scores so far: [73.67, 72.67, 72.67, 72.33, 72.67, 70.33, 73.0, 72.0, 72.33, 72.67, 72.67, 73.0, 73.0, 73.0, 74.0, 74.0, 72.33, 74.0, 74.0, 72.67, 74.0, 73.0]\n",
      "2025/01/30 14:30:20 INFO dspy.teleprompt.mipro_optimizer_v2: Best score so far: 74.0\n",
      "2025/01/30 14:30:20 INFO dspy.teleprompt.mipro_optimizer_v2: =========================\n",
      "\n",
      "\n",
      "2025/01/30 14:30:20 INFO dspy.teleprompt.mipro_optimizer_v2: ===== Trial 22 / 25 =====\n"
     ]
    },
    {
     "name": "stdout",
     "output_type": "stream",
     "text": [
      "\n",
      "Average Metric: 2.22 / 3 (74.0%): 100%|██████████| 3/3 [00:00<00:00, 1809.71it/s]"
     ]
    },
    {
     "name": "stderr",
     "output_type": "stream",
     "text": [
      "2025/01/30 14:30:20 INFO dspy.evaluate.evaluate: Average Metric: 2.2199999999999998 / 3 (74.0%)\n",
      "2025/01/30 14:30:20 INFO dspy.teleprompt.mipro_optimizer_v2: Score: 74.0 with parameters ['Predictor 0: Instruction 9', 'Predictor 0: Few-Shot Set 10'].\n",
      "2025/01/30 14:30:20 INFO dspy.teleprompt.mipro_optimizer_v2: Scores so far: [73.67, 72.67, 72.67, 72.33, 72.67, 70.33, 73.0, 72.0, 72.33, 72.67, 72.67, 73.0, 73.0, 73.0, 74.0, 74.0, 72.33, 74.0, 74.0, 72.67, 74.0, 73.0, 74.0]\n",
      "2025/01/30 14:30:20 INFO dspy.teleprompt.mipro_optimizer_v2: Best score so far: 74.0\n",
      "2025/01/30 14:30:20 INFO dspy.teleprompt.mipro_optimizer_v2: =========================\n",
      "\n",
      "\n",
      "2025/01/30 14:30:20 INFO dspy.teleprompt.mipro_optimizer_v2: ===== Trial 23 / 25 =====\n"
     ]
    },
    {
     "name": "stdout",
     "output_type": "stream",
     "text": [
      "\n",
      "Average Metric: 2.22 / 3 (74.0%): 100%|██████████| 3/3 [00:00<00:00, 2281.17it/s]"
     ]
    },
    {
     "name": "stderr",
     "output_type": "stream",
     "text": [
      "2025/01/30 14:30:20 INFO dspy.evaluate.evaluate: Average Metric: 2.2199999999999998 / 3 (74.0%)\n",
      "2025/01/30 14:30:20 INFO dspy.teleprompt.mipro_optimizer_v2: Score: 74.0 with parameters ['Predictor 0: Instruction 9', 'Predictor 0: Few-Shot Set 16'].\n",
      "2025/01/30 14:30:20 INFO dspy.teleprompt.mipro_optimizer_v2: Scores so far: [73.67, 72.67, 72.67, 72.33, 72.67, 70.33, 73.0, 72.0, 72.33, 72.67, 72.67, 73.0, 73.0, 73.0, 74.0, 74.0, 72.33, 74.0, 74.0, 72.67, 74.0, 73.0, 74.0, 74.0]\n",
      "2025/01/30 14:30:20 INFO dspy.teleprompt.mipro_optimizer_v2: Best score so far: 74.0\n",
      "2025/01/30 14:30:20 INFO dspy.teleprompt.mipro_optimizer_v2: =========================\n",
      "\n",
      "\n",
      "2025/01/30 14:30:20 INFO dspy.teleprompt.mipro_optimizer_v2: ===== Trial 24 / 25 =====\n"
     ]
    },
    {
     "name": "stdout",
     "output_type": "stream",
     "text": [
      "\n",
      "Average Metric: 2.22 / 3 (74.0%): 100%|██████████| 3/3 [00:00<00:00, 2033.44it/s]"
     ]
    },
    {
     "name": "stderr",
     "output_type": "stream",
     "text": [
      "2025/01/30 14:30:20 INFO dspy.evaluate.evaluate: Average Metric: 2.2199999999999998 / 3 (74.0%)\n",
      "2025/01/30 14:30:20 INFO dspy.teleprompt.mipro_optimizer_v2: Score: 74.0 with parameters ['Predictor 0: Instruction 9', 'Predictor 0: Few-Shot Set 15'].\n",
      "2025/01/30 14:30:20 INFO dspy.teleprompt.mipro_optimizer_v2: Scores so far: [73.67, 72.67, 72.67, 72.33, 72.67, 70.33, 73.0, 72.0, 72.33, 72.67, 72.67, 73.0, 73.0, 73.0, 74.0, 74.0, 72.33, 74.0, 74.0, 72.67, 74.0, 73.0, 74.0, 74.0, 74.0]\n",
      "2025/01/30 14:30:20 INFO dspy.teleprompt.mipro_optimizer_v2: Best score so far: 74.0\n",
      "2025/01/30 14:30:20 INFO dspy.teleprompt.mipro_optimizer_v2: =========================\n",
      "\n",
      "\n",
      "2025/01/30 14:30:20 INFO dspy.teleprompt.mipro_optimizer_v2: ===== Trial 25 / 25 =====\n"
     ]
    },
    {
     "name": "stdout",
     "output_type": "stream",
     "text": [
      "\n",
      "Average Metric: 2.18 / 3 (72.7%): 100%|██████████| 3/3 [00:00<00:00, 2118.69it/s]"
     ]
    },
    {
     "name": "stderr",
     "output_type": "stream",
     "text": [
      "2025/01/30 14:30:20 INFO dspy.evaluate.evaluate: Average Metric: 2.1799999999999997 / 3 (72.7%)\n",
      "2025/01/30 14:30:20 INFO dspy.teleprompt.mipro_optimizer_v2: Score: 72.67 with parameters ['Predictor 0: Instruction 5', 'Predictor 0: Few-Shot Set 15'].\n",
      "2025/01/30 14:30:20 INFO dspy.teleprompt.mipro_optimizer_v2: Scores so far: [73.67, 72.67, 72.67, 72.33, 72.67, 70.33, 73.0, 72.0, 72.33, 72.67, 72.67, 73.0, 73.0, 73.0, 74.0, 74.0, 72.33, 74.0, 74.0, 72.67, 74.0, 73.0, 74.0, 74.0, 74.0, 72.67]\n",
      "2025/01/30 14:30:20 INFO dspy.teleprompt.mipro_optimizer_v2: Best score so far: 74.0\n",
      "2025/01/30 14:30:20 INFO dspy.teleprompt.mipro_optimizer_v2: =========================\n",
      "\n",
      "\n",
      "2025/01/30 14:30:20 INFO dspy.teleprompt.mipro_optimizer_v2: Returning best identified program with score 74.0!\n"
     ]
    },
    {
     "name": "stdout",
     "output_type": "stream",
     "text": [
      "\n"
     ]
    }
   ],
   "source": [
    "mipro_optimizer = dspy.MIPROv2(\n",
    "    metric=scoring_features_metric,\n",
    "    auto=\"medium\",\n",
    ")\n",
    "\n",
    "optimized_scoring_features_extractor = mipro_optimizer.compile(\n",
    "    scoring_features_extractor,\n",
    "    trainset=train_set,\n",
    "    max_bootstrapped_demos=4,\n",
    "    requires_permission_to_run=False,\n",
    "    minibatch=False,\n",
    "    seed=1,\n",
    ")"
   ]
  },
  {
   "cell_type": "code",
   "execution_count": 15,
   "metadata": {},
   "outputs": [
    {
     "name": "stdout",
     "output_type": "stream",
     "text": [
      "0.00246555\n",
      "\n",
      "\n",
      "\n",
      "\n",
      "\u001b[34m[2025-01-30T14:31:54.312365]\u001b[0m\n",
      "\n",
      "\u001b[31mSystem message:\u001b[0m\n",
      "\n",
      "Your input fields are:\n",
      "1. `title` (str): event title\n",
      "2. `description` (str): event description\n",
      "3. `attendees` (str): the number of people attending the event\n",
      "4. `address` (str): event address\n",
      "5. `guests` (list[str]): event guests\n",
      "\n",
      "Your output fields are:\n",
      "1. `rationale` (str): ${produce the proximity}. We ...\n",
      "2. `non_commercial` (float): non_commercial (0 - very commercial, 1 - not commercial at all)\n",
      "3. `popularity` (float): popularity (0 - very unpopular, 1 - very popular)\n",
      "4. `free_admision` (float): free_admision (0 - very expensive, 1 - completely free)\n",
      "5. `no_additional_expenses` (float): no_additional_expenses (0 - lots of additional expenses, 1 - no additional expenses)\n",
      "6. `drinks_provided` (float): drinks_provided (0 - no drinks provided, 1 - lots of drinks provided)\n",
      "7. `food_provided` (float): food_provided (0 - no food provided, 1 - lots of food provided)\n",
      "8. `venue_niceness` (float): venue_niceness (0 - very poor venue, 1 - very nice venue)\n",
      "9. `quietness` (float): quietness (0 - very loud, 1 - very quiet)\n",
      "10. `uniqueness` (float): uniqueness (0 - not unique, 1 - very unique)\n",
      "11. `proximity` (float): proximity (0 - very far, 1 - very close)\n",
      "\n",
      "All interactions will be structured in the following way, with the appropriate values filled in.\n",
      "\n",
      "[[ ## title ## ]]\n",
      "{title}\n",
      "\n",
      "[[ ## description ## ]]\n",
      "{description}\n",
      "\n",
      "[[ ## attendees ## ]]\n",
      "{attendees}\n",
      "\n",
      "[[ ## address ## ]]\n",
      "{address}\n",
      "\n",
      "[[ ## guests ## ]]\n",
      "{guests}\n",
      "\n",
      "[[ ## rationale ## ]]\n",
      "{rationale}\n",
      "\n",
      "[[ ## non_commercial ## ]]\n",
      "{non_commercial}        # note: the value you produce must be a single float value\n",
      "\n",
      "[[ ## popularity ## ]]\n",
      "{popularity}        # note: the value you produce must be a single float value\n",
      "\n",
      "[[ ## free_admision ## ]]\n",
      "{free_admision}        # note: the value you produce must be a single float value\n",
      "\n",
      "[[ ## no_additional_expenses ## ]]\n",
      "{no_additional_expenses}        # note: the value you produce must be a single float value\n",
      "\n",
      "[[ ## drinks_provided ## ]]\n",
      "{drinks_provided}        # note: the value you produce must be a single float value\n",
      "\n",
      "[[ ## food_provided ## ]]\n",
      "{food_provided}        # note: the value you produce must be a single float value\n",
      "\n",
      "[[ ## venue_niceness ## ]]\n",
      "{venue_niceness}        # note: the value you produce must be a single float value\n",
      "\n",
      "[[ ## quietness ## ]]\n",
      "{quietness}        # note: the value you produce must be a single float value\n",
      "\n",
      "[[ ## uniqueness ## ]]\n",
      "{uniqueness}        # note: the value you produce must be a single float value\n",
      "\n",
      "[[ ## proximity ## ]]\n",
      "{proximity}        # note: the value you produce must be a single float value\n",
      "\n",
      "[[ ## completed ## ]]\n",
      "\n",
      "In adhering to this structure, your objective is: \n",
      "        Analyze the following event details and extract key scoring features that capture the event's appeal and accessibility. Provide a comprehensive assessment based on the title, description, number of attendees, address, and guest list, focusing on factors such as non-commercial nature, popularity, admission costs, additional expenses, provisions for drinks and food, venue quality, noise level, uniqueness, and proximity.\n",
      "\n",
      "\n",
      "\u001b[31mUser message:\u001b[0m\n",
      "\n",
      "[[ ## title ## ]]\n",
      "NYC B2B: Pre-Seed + Seed Founders & Investors Meetup\n",
      "\n",
      "[[ ## description ## ]]\n",
      "<p>​<a href=\"http://nycb2b.beehiiv.com\" target=\"_blank\" rel=\"nofollow noopener\">NYC B2B</a> is the premier community for B2B Founders, Operators, and Investors in NYC. <a href=\"http://nycb2b.beehiiv.com\" target=\"_blank\" rel=\"nofollow noopener\">NYC B2B</a> often hosts happy hour events for founders, builders, and investors based in NYC.</p><p>​<!-- -->This is an exclusive event for B2B Pre-Seed and Seed stage founders and investors. </p><p>​<!-- -->​<strong>​Want to sponsor this event? Email @ </strong><strong><a href=\"mailto:newyorkcityventures@gmail.com\" target=\"_blank\" rel=\"nofollow noopener\">newyorkcityventures@gmail.com</a></strong></p><p>​<!-- -->​This meetup is hosted by Manan Modi. It’s a great way to meet other founders, builders, and investors. Whether you’re building a company, exploring a side project, or considering a new idea, we would love to have you here.  Manan has previously hosted events for hundreds of startup founders + operators here in NYC.</p><p>​<!-- -->​​​​​​By signing up, you are confirming your interest in hearing about more events from Manan in the future via email! Manan also helps connect those who sign up with awesome partners.</p>\n",
      "\n",
      "[[ ## attendees ## ]]\n",
      "138\n",
      "\n",
      "[[ ## address ## ]]\n",
      "New York, New York\n",
      "\n",
      "[[ ## guests ## ]]\n",
      "[\"Nate Poon\", \"Christopher Truong\"]\n",
      "\n",
      "Respond with the corresponding output fields, starting with the field `[[ ## rationale ## ]]`, then `[[ ## non_commercial ## ]]` (must be formatted as a valid Python float), then `[[ ## popularity ## ]]` (must be formatted as a valid Python float), then `[[ ## free_admision ## ]]` (must be formatted as a valid Python float), then `[[ ## no_additional_expenses ## ]]` (must be formatted as a valid Python float), then `[[ ## drinks_provided ## ]]` (must be formatted as a valid Python float), then `[[ ## food_provided ## ]]` (must be formatted as a valid Python float), then `[[ ## venue_niceness ## ]]` (must be formatted as a valid Python float), then `[[ ## quietness ## ]]` (must be formatted as a valid Python float), then `[[ ## uniqueness ## ]]` (must be formatted as a valid Python float), then `[[ ## proximity ## ]]` (must be formatted as a valid Python float), and then ending with the marker for `[[ ## completed ## ]]`.\n",
      "\n",
      "\n",
      "\u001b[31mAssistant message:\u001b[0m\n",
      "\n",
      "[[ ## rationale ## ]]\n",
      "The event is designed for a specific community of B2B founders and investors, indicating a focused and relevant gathering. We assess the proximity based on the location being in New York, which is a central hub for such events, making it very accessible for attendees.\n",
      "\n",
      "[[ ## non_commercial ## ]]\n",
      "0.3\n",
      "\n",
      "[[ ## popularity ## ]]\n",
      "0.8\n",
      "\n",
      "[[ ## free_admision ## ]]\n",
      "0.5\n",
      "\n",
      "[[ ## no_additional_expenses ## ]]\n",
      "0.6\n",
      "\n",
      "[[ ## drinks_provided ## ]]\n",
      "0.7\n",
      "\n",
      "[[ ## food_provided ## ]]\n",
      "0.5\n",
      "\n",
      "[[ ## venue_niceness ## ]]\n",
      "0.8\n",
      "\n",
      "[[ ## quietness ## ]]\n",
      "0.6\n",
      "\n",
      "[[ ## uniqueness ## ]]\n",
      "0.7\n",
      "\n",
      "[[ ## proximity ## ]]\n",
      "0.9\n",
      "\n",
      "[[ ## completed ## ]]\n",
      "\n",
      "\n",
      "\u001b[31mUser message:\u001b[0m\n",
      "\n",
      "[[ ## title ## ]]\n",
      "Wonderville January Artist Showcase\n",
      "\n",
      "[[ ## description ## ]]\n",
      "<div><picture data-testid=\"event-description-image\"><div class=\"mt-0 w-full lg:mt-8\"><img alt=\"Wonderville January Artist Showcase\" fetchpriority=\"high\" width=\"375\" height=\"210\" decoding=\"async\" data-nimg=\"1\" class=\"w-full\" style=\"color:transparent\" srcset=\"https://secure.meetupstatic.com/photos/event/b/5/0/e/600_525406350.webp?w=384 1x, https://secure.meetupstatic.com/photos/event/b/5/0/e/600_525406350.webp?w=750 2x\" src=\"https://secure.meetupstatic.com/photos/event/b/5/0/e/600_525406350.webp?w=750\"></div></picture></div><div id=\"event-details\" class=\"px-6 sm:px-4 xl:px-0 md:max-w-screen mt-5 w-full \"><div class=\"flex items-center justify-between\"><h2 class=\"text-xl font-semibold\">Details</h2></div><div class=\"break-words\"><p class=\"mb-4\">Let's enjoy experimental and electronic music from our monthly showcase of local musicians!</p></div></div>\n",
      "\n",
      "[[ ## attendees ## ]]\n",
      "32\n",
      "\n",
      "[[ ## address ## ]]\n",
      "1186 Broadway · Brooklyn, NY\n",
      "\n",
      "[[ ## guests ## ]]\n",
      "[\"Tristan Kneschke\", \"Eric S.\", \"Yan Michalevsky\"]\n",
      "\n",
      "Respond with the corresponding output fields, starting with the field `[[ ## rationale ## ]]`, then `[[ ## non_commercial ## ]]` (must be formatted as a valid Python float), then `[[ ## popularity ## ]]` (must be formatted as a valid Python float), then `[[ ## free_admision ## ]]` (must be formatted as a valid Python float), then `[[ ## no_additional_expenses ## ]]` (must be formatted as a valid Python float), then `[[ ## drinks_provided ## ]]` (must be formatted as a valid Python float), then `[[ ## food_provided ## ]]` (must be formatted as a valid Python float), then `[[ ## venue_niceness ## ]]` (must be formatted as a valid Python float), then `[[ ## quietness ## ]]` (must be formatted as a valid Python float), then `[[ ## uniqueness ## ]]` (must be formatted as a valid Python float), then `[[ ## proximity ## ]]` (must be formatted as a valid Python float), and then ending with the marker for `[[ ## completed ## ]]`.\n",
      "\n",
      "\n",
      "\u001b[31mResponse:\u001b[0m\n",
      "\n",
      "\u001b[32m[[ ## rationale ## ]]\n",
      "The event showcases local musicians, emphasizing community engagement and artistic expression. The proximity is assessed as high due to its location in Brooklyn, which is easily accessible for local attendees.\n",
      "\n",
      "[[ ## non_commercial ## ]]\n",
      "0.8\n",
      "\n",
      "[[ ## popularity ## ]]\n",
      "0.5\n",
      "\n",
      "[[ ## free_admision ## ]]\n",
      "0.6\n",
      "\n",
      "[[ ## no_additional_expenses ## ]]\n",
      "0.7\n",
      "\n",
      "[[ ## drinks_provided ## ]]\n",
      "0.4\n",
      "\n",
      "[[ ## food_provided ## ]]\n",
      "0.3\n",
      "\n",
      "[[ ## venue_niceness ## ]]\n",
      "0.7\n",
      "\n",
      "[[ ## quietness ## ]]\n",
      "0.5\n",
      "\n",
      "[[ ## uniqueness ## ]]\n",
      "0.9\n",
      "\n",
      "[[ ## proximity ## ]]\n",
      "0.8\n",
      "\n",
      "[[ ## completed ## ]]\u001b[0m\n",
      "\n",
      "\n",
      "\n",
      "\n",
      "\n"
     ]
    }
   ],
   "source": [
    "cost = sum([x[\"cost\"] for x in lm.history if x[\"cost\"] is not None])\n",
    "print(cost)\n",
    "\n",
    "dspy.inspect_history(n=1)"
   ]
  },
  {
   "cell_type": "code",
   "execution_count": 12,
   "metadata": {},
   "outputs": [
    {
     "name": "stdout",
     "output_type": "stream",
     "text": [
      "Average Metric: 3.82 / 5 (76.4%): 100%|██████████| 5/5 [00:00<00:00, 2080.10it/s]"
     ]
    },
    {
     "name": "stderr",
     "output_type": "stream",
     "text": [
      "2025/01/30 14:31:20 INFO dspy.evaluate.evaluate: Average Metric: 3.8200000000000003 / 5 (76.4%)\n"
     ]
    },
    {
     "name": "stdout",
     "output_type": "stream",
     "text": [
      "\n"
     ]
    },
    {
     "data": {
      "text/html": [
       "<div>\n",
       "<style scoped>\n",
       "    .dataframe tbody tr th:only-of-type {\n",
       "        vertical-align: middle;\n",
       "    }\n",
       "\n",
       "    .dataframe tbody tr th {\n",
       "        vertical-align: top;\n",
       "    }\n",
       "\n",
       "    .dataframe thead th {\n",
       "        text-align: right;\n",
       "    }\n",
       "</style>\n",
       "<table border=\"1\" class=\"dataframe\">\n",
       "  <thead>\n",
       "    <tr style=\"text-align: right;\">\n",
       "      <th></th>\n",
       "      <th>url</th>\n",
       "      <th>dateStart</th>\n",
       "      <th>dateEnd</th>\n",
       "      <th>title</th>\n",
       "      <th>description</th>\n",
       "      <th>hosts</th>\n",
       "      <th>group</th>\n",
       "      <th>address</th>\n",
       "      <th>guests</th>\n",
       "      <th>attendees</th>\n",
       "      <th>...</th>\n",
       "      <th>pred_popularity</th>\n",
       "      <th>pred_free_admision</th>\n",
       "      <th>pred_no_additional_expenses</th>\n",
       "      <th>pred_drinks_provided</th>\n",
       "      <th>pred_food_provided</th>\n",
       "      <th>pred_venue_niceness</th>\n",
       "      <th>pred_quietness</th>\n",
       "      <th>pred_uniqueness</th>\n",
       "      <th>pred_proximity</th>\n",
       "      <th>scoring_features_metric</th>\n",
       "    </tr>\n",
       "  </thead>\n",
       "  <tbody>\n",
       "    <tr>\n",
       "      <th>0</th>\n",
       "      <td>https://lu.ma/mw005iqm</td>\n",
       "      <td>2025-01-23T12:30:00.000Z</td>\n",
       "      <td>2025-01-23T13:30:00.000Z</td>\n",
       "      <td>Pitch and Run 730am Thursday Early Bird</td>\n",
       "      <td>&lt;p&gt;​&lt;!-- --&gt;Meet at 730am &lt;/p&gt;&lt;p&gt;​&lt;!-- --&gt;Intros till 740am&lt;/p&gt;&lt;p&gt;...</td>\n",
       "      <td>[Kevin Weatherman, Chaitenya Razdan]</td>\n",
       "      <td>Pitch and Run</td>\n",
       "      <td>Le Pain Quotidien, New York, New York</td>\n",
       "      <td>[Lus Kairos, Josh]</td>\n",
       "      <td>258</td>\n",
       "      <td>...</td>\n",
       "      <td>0.9</td>\n",
       "      <td>1.0</td>\n",
       "      <td>0.9</td>\n",
       "      <td>0.0</td>\n",
       "      <td>0.0</td>\n",
       "      <td>0.8</td>\n",
       "      <td>0.7</td>\n",
       "      <td>0.6</td>\n",
       "      <td>0.9</td>\n",
       "      <td>✔️ [0.750]</td>\n",
       "    </tr>\n",
       "    <tr>\n",
       "      <th>1</th>\n",
       "      <td>https://lu.ma/8vxdejas</td>\n",
       "      <td>2025-01-28T12:30:00.000Z</td>\n",
       "      <td>2025-01-28T13:30:00.000Z</td>\n",
       "      <td>Pitch &amp; Run - Prospect Park</td>\n",
       "      <td>&lt;p&gt;​&lt;!-- --&gt;Meet at 7:30AM at Grand Army Plaza&lt;/p&gt;&lt;p&gt;​&lt;!-- --&gt;Rout...</td>\n",
       "      <td>[Kevin Weatherman, Shahn Andersen, Jay Sehgal, Charlie O'Donnell, ...</td>\n",
       "      <td>Pitch and Run</td>\n",
       "      <td>Grand Army Plaza Greenmarket, Kings County, New York</td>\n",
       "      <td>[Rafaela Gadelha, AI Founders Connect]</td>\n",
       "      <td>197</td>\n",
       "      <td>...</td>\n",
       "      <td>0.8</td>\n",
       "      <td>1.0</td>\n",
       "      <td>0.9</td>\n",
       "      <td>0.2</td>\n",
       "      <td>0.1</td>\n",
       "      <td>0.8</td>\n",
       "      <td>0.6</td>\n",
       "      <td>0.7</td>\n",
       "      <td>1.0</td>\n",
       "      <td>✔️ [0.750]</td>\n",
       "    </tr>\n",
       "    <tr>\n",
       "      <th>2</th>\n",
       "      <td>https://lu.ma/founderunwindjan</td>\n",
       "      <td>2025-01-27T02:00:00.000Z</td>\n",
       "      <td>2025-01-27T03:30:00.000Z</td>\n",
       "      <td>january founder's sauna club (hosted by andrew yeung x rho)</td>\n",
       "      <td>&lt;p&gt;​&lt;strong&gt;you are invited to&lt;/strong&gt;&lt;strong&gt;&lt;em&gt; the january fo...</td>\n",
       "      <td>[Andrew Yeung, Justin Wolz, Othership]</td>\n",
       "      <td>Andrew's Tech Events</td>\n",
       "      <td>Othership Flatiron, New York, New York</td>\n",
       "      <td>[Jaiya Gill, Ami Yoshimura]</td>\n",
       "      <td>104</td>\n",
       "      <td>...</td>\n",
       "      <td>0.7</td>\n",
       "      <td>0.2</td>\n",
       "      <td>0.6</td>\n",
       "      <td>0.3</td>\n",
       "      <td>0.1</td>\n",
       "      <td>0.9</td>\n",
       "      <td>0.8</td>\n",
       "      <td>0.9</td>\n",
       "      <td>0.9</td>\n",
       "      <td>✔️ [0.860]</td>\n",
       "    </tr>\n",
       "    <tr>\n",
       "      <th>3</th>\n",
       "      <td>https://lu.ma/li70qmdn</td>\n",
       "      <td>2025-01-23T23:30:00.000Z</td>\n",
       "      <td>2025-01-24T01:30:00.000Z</td>\n",
       "      <td>January Finance Happy Hour</td>\n",
       "      <td>&lt;p&gt;​&lt;!-- --&gt;Join us for the 11th monthly finance happy hour! Wheth...</td>\n",
       "      <td>[Fiona Tran]</td>\n",
       "      <td></td>\n",
       "      <td>New York, New York</td>\n",
       "      <td>[Niko LeMieux, Christopher Truong]</td>\n",
       "      <td>86</td>\n",
       "      <td>...</td>\n",
       "      <td>0.8</td>\n",
       "      <td>0.9</td>\n",
       "      <td>0.7</td>\n",
       "      <td>0.8</td>\n",
       "      <td>0.5</td>\n",
       "      <td>0.7</td>\n",
       "      <td>0.4</td>\n",
       "      <td>0.6</td>\n",
       "      <td>0.9</td>\n",
       "      <td>✔️ [0.630]</td>\n",
       "    </tr>\n",
       "    <tr>\n",
       "      <th>4</th>\n",
       "      <td>https://lu.ma/9mc2psu3</td>\n",
       "      <td>2025-01-28T22:00:00.000Z</td>\n",
       "      <td>2025-01-29T01:00:00.000Z</td>\n",
       "      <td>NachoTuesday: SaaS &amp; AI Founder + Investor Happy Hour</td>\n",
       "      <td>&lt;p&gt;​&lt;!-- --&gt;NachoNacho - The B2B SaaS + Services Marketplace, Fide...</td>\n",
       "      <td>[Andy Karuza, Charlie Stephens, Nicole Haverick, Sanjay Goel, Chri...</td>\n",
       "      <td></td>\n",
       "      <td>New York, New York</td>\n",
       "      <td>[Andrea, Laurent]</td>\n",
       "      <td>322</td>\n",
       "      <td>...</td>\n",
       "      <td>0.9</td>\n",
       "      <td>0.8</td>\n",
       "      <td>0.7</td>\n",
       "      <td>1.0</td>\n",
       "      <td>1.0</td>\n",
       "      <td>0.9</td>\n",
       "      <td>0.6</td>\n",
       "      <td>0.8</td>\n",
       "      <td>1.0</td>\n",
       "      <td>✔️ [0.830]</td>\n",
       "    </tr>\n",
       "  </tbody>\n",
       "</table>\n",
       "<p>5 rows × 36 columns</p>\n",
       "</div>"
      ],
      "text/plain": [
       "                              url                 dateStart  \\\n",
       "0          https://lu.ma/mw005iqm  2025-01-23T12:30:00.000Z   \n",
       "1          https://lu.ma/8vxdejas  2025-01-28T12:30:00.000Z   \n",
       "2  https://lu.ma/founderunwindjan  2025-01-27T02:00:00.000Z   \n",
       "3          https://lu.ma/li70qmdn  2025-01-23T23:30:00.000Z   \n",
       "4          https://lu.ma/9mc2psu3  2025-01-28T22:00:00.000Z   \n",
       "\n",
       "                    dateEnd  \\\n",
       "0  2025-01-23T13:30:00.000Z   \n",
       "1  2025-01-28T13:30:00.000Z   \n",
       "2  2025-01-27T03:30:00.000Z   \n",
       "3  2025-01-24T01:30:00.000Z   \n",
       "4  2025-01-29T01:00:00.000Z   \n",
       "\n",
       "                                                         title  \\\n",
       "0                      Pitch and Run 730am Thursday Early Bird   \n",
       "1                                  Pitch & Run - Prospect Park   \n",
       "2  january founder's sauna club (hosted by andrew yeung x rho)   \n",
       "3                                   January Finance Happy Hour   \n",
       "4        NachoTuesday: SaaS & AI Founder + Investor Happy Hour   \n",
       "\n",
       "                                                             description  \\\n",
       "0  <p>​<!-- -->Meet at 730am </p><p>​<!-- -->Intros till 740am</p><p>...   \n",
       "1  <p>​<!-- -->Meet at 7:30AM at Grand Army Plaza</p><p>​<!-- -->Rout...   \n",
       "2  <p>​<strong>you are invited to</strong><strong><em> the january fo...   \n",
       "3  <p>​<!-- -->Join us for the 11th monthly finance happy hour! Wheth...   \n",
       "4  <p>​<!-- -->NachoNacho - The B2B SaaS + Services Marketplace, Fide...   \n",
       "\n",
       "                                                                   hosts  \\\n",
       "0                                   [Kevin Weatherman, Chaitenya Razdan]   \n",
       "1  [Kevin Weatherman, Shahn Andersen, Jay Sehgal, Charlie O'Donnell, ...   \n",
       "2                                 [Andrew Yeung, Justin Wolz, Othership]   \n",
       "3                                                           [Fiona Tran]   \n",
       "4  [Andy Karuza, Charlie Stephens, Nicole Haverick, Sanjay Goel, Chri...   \n",
       "\n",
       "                  group                                               address  \\\n",
       "0         Pitch and Run                 Le Pain Quotidien, New York, New York   \n",
       "1         Pitch and Run  Grand Army Plaza Greenmarket, Kings County, New York   \n",
       "2  Andrew's Tech Events                Othership Flatiron, New York, New York   \n",
       "3                                                          New York, New York   \n",
       "4                                                          New York, New York   \n",
       "\n",
       "                                   guests  attendees  ...  pred_popularity  \\\n",
       "0                      [Lus Kairos, Josh]        258  ...              0.9   \n",
       "1  [Rafaela Gadelha, AI Founders Connect]        197  ...              0.8   \n",
       "2             [Jaiya Gill, Ami Yoshimura]        104  ...              0.7   \n",
       "3      [Niko LeMieux, Christopher Truong]         86  ...              0.8   \n",
       "4                       [Andrea, Laurent]        322  ...              0.9   \n",
       "\n",
       "   pred_free_admision  pred_no_additional_expenses  pred_drinks_provided  \\\n",
       "0                 1.0                          0.9                   0.0   \n",
       "1                 1.0                          0.9                   0.2   \n",
       "2                 0.2                          0.6                   0.3   \n",
       "3                 0.9                          0.7                   0.8   \n",
       "4                 0.8                          0.7                   1.0   \n",
       "\n",
       "   pred_food_provided  pred_venue_niceness  pred_quietness  pred_uniqueness  \\\n",
       "0                 0.0                  0.8             0.7              0.6   \n",
       "1                 0.1                  0.8             0.6              0.7   \n",
       "2                 0.1                  0.9             0.8              0.9   \n",
       "3                 0.5                  0.7             0.4              0.6   \n",
       "4                 1.0                  0.9             0.6              0.8   \n",
       "\n",
       "   pred_proximity  scoring_features_metric  \n",
       "0             0.9               ✔️ [0.750]  \n",
       "1             1.0               ✔️ [0.750]  \n",
       "2             0.9               ✔️ [0.860]  \n",
       "3             0.9               ✔️ [0.630]  \n",
       "4             1.0               ✔️ [0.830]  \n",
       "\n",
       "[5 rows x 36 columns]"
      ]
     },
     "metadata": {},
     "output_type": "display_data"
    },
    {
     "data": {
      "text/plain": [
       "76.4"
      ]
     },
     "execution_count": 12,
     "metadata": {},
     "output_type": "execute_result"
    }
   ],
   "source": [
    "# third run (with explanation as outputs)\n",
    "\n",
    "lm = dspy.LM(model=\"openai/gpt-4o-mini\")\n",
    "dspy.settings.configure(lm=lm)\n",
    "\n",
    "evaluate_correctness(scoring_features_extractor, devset=test_set)"
   ]
  },
  {
   "cell_type": "code",
   "execution_count": 14,
   "metadata": {},
   "outputs": [
    {
     "name": "stdout",
     "output_type": "stream",
     "text": [
      "url: https://www.meetup.com/shutupandwritenyc/events/305409078/, title: Shut Up & Write!® [Brooklyn, NY/Brooklyn Heights Library] \n",
      "{\"rationale\": \"The event promotes a supportive writing environment, encouraging participants to focus on their writing in a communal setting. The proximity is high as it is located in Brooklyn, a well-connected area, making it easily accessible for local attendees.\", \"non_commercial\": 0.9, \"popularity\": 0.4, \"free_admision\": 1.0, \"no_additional_expenses\": 0.8, \"drinks_provided\": 0.0, \"food_provided\": 0.0, \"venue_niceness\": 0.7, \"quietness\": 0.8, \"uniqueness\": 0.6, \"proximity\": 0.9}\n",
      "url: https://www.meetup.com/lets-go-social-club-nyc/events/305008405/, title: Let's Go to a Cocktail Party! \n",
      "{\"rationale\": \"The event is a social cocktail party aimed at a community of individuals aged 40 and above, providing a relaxed atmosphere for mingling. The venue is a rooftop at a hotel in New York, which enhances its appeal. Proximity is high due to the central location in New York City.\", \"non_commercial\": 0.4, \"popularity\": 0.6, \"free_admision\": 0.2, \"no_additional_expenses\": 0.5, \"drinks_provided\": 0.6, \"food_provided\": 0.5, \"venue_niceness\": 0.9, \"quietness\": 0.7, \"uniqueness\": 0.6, \"proximity\": 0.9}\n",
      "url: https://www.meetup.com/new-york-city-creative-writing-meetup-group/events/304819159/, title: St Marks Place Creative Writing Meetup\n",
      "{\"rationale\": \"The event is a creative writing meetup aimed at fostering collaboration and inspiration among writers, which suggests a supportive and community-driven atmosphere. The proximity is high as it is located in Manhattan, making it easily accessible for local attendees.\", \"non_commercial\": 0.9, \"popularity\": 0.5, \"free_admision\": 0.8, \"no_additional_expenses\": 0.7, \"drinks_provided\": 0.2, \"food_provided\": 0.1, \"venue_niceness\": 0.6, \"quietness\": 0.7, \"uniqueness\": 0.8, \"proximity\": 0.9}\n",
      "url: https://www.meetup.com/brooklyn-based-board-gaming/events/305409053/, title: Thursday Board Games\n",
      "{\"rationale\": \"The event is a casual board gaming night that encourages community participation, making it accessible and inviting. The proximity is good as it is located in Brooklyn, a vibrant area with easy access for local attendees.\", \"non_commercial\": 0.6, \"popularity\": 0.5, \"free_admision\": 0.2, \"no_additional_expenses\": 0.4, \"drinks_provided\": 0.5, \"food_provided\": 0.5, \"venue_niceness\": 0.7, \"quietness\": 0.5, \"uniqueness\": 0.4, \"proximity\": 0.8}\n",
      "url: https://www.meetup.com/brooklyn-experimental-electronic-music-meetup/events/305289027/, title: Wonderville January Artist Showcase\n",
      "{\"rationale\": \"The event showcases local musicians, emphasizing community engagement and artistic expression. The proximity is assessed as high due to its location in Brooklyn, which is easily accessible for local attendees.\", \"non_commercial\": 0.8, \"popularity\": 0.5, \"free_admision\": 0.6, \"no_additional_expenses\": 0.7, \"drinks_provided\": 0.4, \"food_provided\": 0.3, \"venue_niceness\": 0.7, \"quietness\": 0.5, \"uniqueness\": 0.9, \"proximity\": 0.8}\n"
     ]
    }
   ],
   "source": [
    "for example in try_set[:10]:\n",
    "    result = optimized_scoring_features_extractor(\n",
    "        url=example.url,\n",
    "        dateStart=example.dateStart,\n",
    "        dateEnd=example.dateEnd,\n",
    "        title=example.title,\n",
    "        description=example.description,\n",
    "        hosts=example.hosts,\n",
    "        group=example.group,\n",
    "        address=example.address,\n",
    "        guests=example.guests,\n",
    "        attendees=example.attendees,\n",
    "        tags=example.tags,\n",
    "        venue=example.venue,\n",
    "        online=example.online,\n",
    "        eventSeriesDates=example.eventSeriesDates,\n",
    "    )\n",
    "    print(f\"url: {example.url}, title: {example.title}\")\n",
    "\n",
    "    result_dict = result.toDict()\n",
    "    # reasoning = result_dict.pop(\"reasoning\")\n",
    "    # result_dict[\"reasoning\"] = reasoning\n",
    "    result_json = json.dumps(result_dict)\n",
    "    print(result_json)"
   ]
  },
  {
   "cell_type": "code",
   "execution_count": 16,
   "metadata": {},
   "outputs": [],
   "source": [
    "optimized_scoring_features_extractor.save(\"optimized_extractor.json\")"
   ]
  },
  {
   "cell_type": "code",
   "execution_count": null,
   "metadata": {},
   "outputs": [],
   "source": [
    "loaded_scoring_features_extractor = dspy.ChainOfThought(ScoringFeatures)\n",
    "loaded_scoring_features_extractor.load(\"optimized_extractor.json\")"
   ]
  }
 ],
 "metadata": {
  "kernelspec": {
   "display_name": "pytorch-3.10",
   "language": "python",
   "name": "python3"
  },
  "language_info": {
   "codemirror_mode": {
    "name": "ipython",
    "version": 3
   },
   "file_extension": ".py",
   "mimetype": "text/x-python",
   "name": "python",
   "nbconvert_exporter": "python",
   "pygments_lexer": "ipython3",
   "version": "3.10.14"
  }
 },
 "nbformat": 4,
 "nbformat_minor": 2
}
